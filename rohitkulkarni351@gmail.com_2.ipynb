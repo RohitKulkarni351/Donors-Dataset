{
 "cells": [
  {
   "cell_type": "markdown",
   "metadata": {},
   "source": [
    "## Donors Choose"
   ]
  },
  {
   "cell_type": "code",
   "execution_count": 1,
   "metadata": {},
   "outputs": [
    {
     "name": "stdout",
     "output_type": "stream",
     "text": [
      "The shape of project data is  (109248, 17)\n",
      "\n",
      " The columns of project data are Index(['Unnamed: 0', 'id', 'teacher_id', 'teacher_prefix', 'school_state',\n",
      "       'project_submitted_datetime', 'project_grade_category',\n",
      "       'project_subject_categories', 'project_subject_subcategories',\n",
      "       'project_title', 'project_essay_1', 'project_essay_2',\n",
      "       'project_essay_3', 'project_essay_4', 'project_resource_summary',\n",
      "       'teacher_number_of_previously_posted_projects', 'project_is_approved'],\n",
      "      dtype='object')\n",
      "0                    Literacy & Language\n",
      "1      History & Civics, Health & Sports\n",
      "2                        Health & Sports\n",
      "3    Literacy & Language, Math & Science\n",
      "Name: project_subject_categories, dtype: object\n"
     ]
    },
    {
     "data": {
      "text/html": [
       "<div>\n",
       "<style scoped>\n",
       "    .dataframe tbody tr th:only-of-type {\n",
       "        vertical-align: middle;\n",
       "    }\n",
       "\n",
       "    .dataframe tbody tr th {\n",
       "        vertical-align: top;\n",
       "    }\n",
       "\n",
       "    .dataframe thead th {\n",
       "        text-align: right;\n",
       "    }\n",
       "</style>\n",
       "<table border=\"1\" class=\"dataframe\">\n",
       "  <thead>\n",
       "    <tr style=\"text-align: right;\">\n",
       "      <th></th>\n",
       "      <th>Unnamed: 0</th>\n",
       "      <th>id</th>\n",
       "      <th>teacher_id</th>\n",
       "      <th>teacher_prefix</th>\n",
       "      <th>school_state</th>\n",
       "      <th>project_submitted_datetime</th>\n",
       "      <th>project_grade_category</th>\n",
       "      <th>project_subject_categories</th>\n",
       "      <th>project_subject_subcategories</th>\n",
       "      <th>project_title</th>\n",
       "      <th>project_essay_1</th>\n",
       "      <th>project_essay_2</th>\n",
       "      <th>project_essay_3</th>\n",
       "      <th>project_essay_4</th>\n",
       "      <th>project_resource_summary</th>\n",
       "      <th>teacher_number_of_previously_posted_projects</th>\n",
       "      <th>project_is_approved</th>\n",
       "    </tr>\n",
       "  </thead>\n",
       "  <tbody>\n",
       "    <tr>\n",
       "      <th>0</th>\n",
       "      <td>160221</td>\n",
       "      <td>p253737</td>\n",
       "      <td>c90749f5d961ff158d4b4d1e7dc665fc</td>\n",
       "      <td>Mrs.</td>\n",
       "      <td>IN</td>\n",
       "      <td>2016-12-05 13:43:57</td>\n",
       "      <td>Grades PreK-2</td>\n",
       "      <td>Literacy &amp; Language</td>\n",
       "      <td>ESL, Literacy</td>\n",
       "      <td>Educational Support for English Learners at Home</td>\n",
       "      <td>My students are English learners that are work...</td>\n",
       "      <td>\\\"The limits of your language are the limits o...</td>\n",
       "      <td>NaN</td>\n",
       "      <td>NaN</td>\n",
       "      <td>My students need opportunities to practice beg...</td>\n",
       "      <td>0</td>\n",
       "      <td>0</td>\n",
       "    </tr>\n",
       "    <tr>\n",
       "      <th>1</th>\n",
       "      <td>140945</td>\n",
       "      <td>p258326</td>\n",
       "      <td>897464ce9ddc600bced1151f324dd63a</td>\n",
       "      <td>Mr.</td>\n",
       "      <td>FL</td>\n",
       "      <td>2016-10-25 09:22:10</td>\n",
       "      <td>Grades 6-8</td>\n",
       "      <td>History &amp; Civics, Health &amp; Sports</td>\n",
       "      <td>Civics &amp; Government, Team Sports</td>\n",
       "      <td>Wanted: Projector for Hungry Learners</td>\n",
       "      <td>Our students arrive to our school eager to lea...</td>\n",
       "      <td>The projector we need for our school is very c...</td>\n",
       "      <td>NaN</td>\n",
       "      <td>NaN</td>\n",
       "      <td>My students need a projector to help with view...</td>\n",
       "      <td>7</td>\n",
       "      <td>1</td>\n",
       "    </tr>\n",
       "    <tr>\n",
       "      <th>2</th>\n",
       "      <td>21895</td>\n",
       "      <td>p182444</td>\n",
       "      <td>3465aaf82da834c0582ebd0ef8040ca0</td>\n",
       "      <td>Ms.</td>\n",
       "      <td>AZ</td>\n",
       "      <td>2016-08-31 12:03:56</td>\n",
       "      <td>Grades 6-8</td>\n",
       "      <td>Health &amp; Sports</td>\n",
       "      <td>Health &amp; Wellness, Team Sports</td>\n",
       "      <td>Soccer Equipment for AWESOME Middle School Stu...</td>\n",
       "      <td>\\r\\n\\\"True champions aren't always the ones th...</td>\n",
       "      <td>The students on the campus come to school know...</td>\n",
       "      <td>NaN</td>\n",
       "      <td>NaN</td>\n",
       "      <td>My students need shine guards, athletic socks,...</td>\n",
       "      <td>1</td>\n",
       "      <td>0</td>\n",
       "    </tr>\n",
       "    <tr>\n",
       "      <th>3</th>\n",
       "      <td>45</td>\n",
       "      <td>p246581</td>\n",
       "      <td>f3cb9bffbba169bef1a77b243e620b60</td>\n",
       "      <td>Mrs.</td>\n",
       "      <td>KY</td>\n",
       "      <td>2016-10-06 21:16:17</td>\n",
       "      <td>Grades PreK-2</td>\n",
       "      <td>Literacy &amp; Language, Math &amp; Science</td>\n",
       "      <td>Literacy, Mathematics</td>\n",
       "      <td>Techie Kindergarteners</td>\n",
       "      <td>I work at a unique school filled with both ESL...</td>\n",
       "      <td>My students live in high poverty conditions wi...</td>\n",
       "      <td>NaN</td>\n",
       "      <td>NaN</td>\n",
       "      <td>My students need to engage in Reading and Math...</td>\n",
       "      <td>4</td>\n",
       "      <td>1</td>\n",
       "    </tr>\n",
       "    <tr>\n",
       "      <th>4</th>\n",
       "      <td>172407</td>\n",
       "      <td>p104768</td>\n",
       "      <td>be1f7507a41f8479dc06f047086a39ec</td>\n",
       "      <td>Mrs.</td>\n",
       "      <td>TX</td>\n",
       "      <td>2016-07-11 01:10:09</td>\n",
       "      <td>Grades PreK-2</td>\n",
       "      <td>Math &amp; Science</td>\n",
       "      <td>Mathematics</td>\n",
       "      <td>Interactive Math Tools</td>\n",
       "      <td>Our second grade classroom next year will be m...</td>\n",
       "      <td>For many students, math is a subject that does...</td>\n",
       "      <td>NaN</td>\n",
       "      <td>NaN</td>\n",
       "      <td>My students need hands on practice in mathemat...</td>\n",
       "      <td>1</td>\n",
       "      <td>1</td>\n",
       "    </tr>\n",
       "  </tbody>\n",
       "</table>\n",
       "</div>"
      ],
      "text/plain": [
       "   Unnamed: 0       id                        teacher_id teacher_prefix  \\\n",
       "0      160221  p253737  c90749f5d961ff158d4b4d1e7dc665fc           Mrs.   \n",
       "1      140945  p258326  897464ce9ddc600bced1151f324dd63a            Mr.   \n",
       "2       21895  p182444  3465aaf82da834c0582ebd0ef8040ca0            Ms.   \n",
       "3          45  p246581  f3cb9bffbba169bef1a77b243e620b60           Mrs.   \n",
       "4      172407  p104768  be1f7507a41f8479dc06f047086a39ec           Mrs.   \n",
       "\n",
       "  school_state project_submitted_datetime project_grade_category  \\\n",
       "0           IN        2016-12-05 13:43:57          Grades PreK-2   \n",
       "1           FL        2016-10-25 09:22:10             Grades 6-8   \n",
       "2           AZ        2016-08-31 12:03:56             Grades 6-8   \n",
       "3           KY        2016-10-06 21:16:17          Grades PreK-2   \n",
       "4           TX        2016-07-11 01:10:09          Grades PreK-2   \n",
       "\n",
       "            project_subject_categories     project_subject_subcategories  \\\n",
       "0                  Literacy & Language                     ESL, Literacy   \n",
       "1    History & Civics, Health & Sports  Civics & Government, Team Sports   \n",
       "2                      Health & Sports    Health & Wellness, Team Sports   \n",
       "3  Literacy & Language, Math & Science             Literacy, Mathematics   \n",
       "4                       Math & Science                       Mathematics   \n",
       "\n",
       "                                       project_title  \\\n",
       "0   Educational Support for English Learners at Home   \n",
       "1              Wanted: Projector for Hungry Learners   \n",
       "2  Soccer Equipment for AWESOME Middle School Stu...   \n",
       "3                             Techie Kindergarteners   \n",
       "4                             Interactive Math Tools   \n",
       "\n",
       "                                     project_essay_1  \\\n",
       "0  My students are English learners that are work...   \n",
       "1  Our students arrive to our school eager to lea...   \n",
       "2  \\r\\n\\\"True champions aren't always the ones th...   \n",
       "3  I work at a unique school filled with both ESL...   \n",
       "4  Our second grade classroom next year will be m...   \n",
       "\n",
       "                                     project_essay_2 project_essay_3  \\\n",
       "0  \\\"The limits of your language are the limits o...             NaN   \n",
       "1  The projector we need for our school is very c...             NaN   \n",
       "2  The students on the campus come to school know...             NaN   \n",
       "3  My students live in high poverty conditions wi...             NaN   \n",
       "4  For many students, math is a subject that does...             NaN   \n",
       "\n",
       "  project_essay_4                           project_resource_summary  \\\n",
       "0             NaN  My students need opportunities to practice beg...   \n",
       "1             NaN  My students need a projector to help with view...   \n",
       "2             NaN  My students need shine guards, athletic socks,...   \n",
       "3             NaN  My students need to engage in Reading and Math...   \n",
       "4             NaN  My students need hands on practice in mathemat...   \n",
       "\n",
       "   teacher_number_of_previously_posted_projects  project_is_approved  \n",
       "0                                             0                    0  \n",
       "1                                             7                    1  \n",
       "2                                             1                    0  \n",
       "3                                             4                    1  \n",
       "4                                             1                    1  "
      ]
     },
     "execution_count": 1,
     "metadata": {},
     "output_type": "execute_result"
    }
   ],
   "source": [
    "import numpy as np\n",
    "import seaborn as sns\n",
    "import matplotlib.pyplot as mp\n",
    "import pandas as pd\n",
    "\n",
    "project= pd.read_csv('train_data.csv')\n",
    "print(\"The shape of project data is \" , project.shape)\n",
    "print(\"\\n The columns of project data are\", project.columns)\n",
    "print(project['project_subject_categories'].head(4))\n",
    "project.head(5)"
   ]
  },
  {
   "cell_type": "code",
   "execution_count": 2,
   "metadata": {},
   "outputs": [
    {
     "name": "stdout",
     "output_type": "stream",
     "text": [
      "The shape of resource data is  (1541272, 4)\n",
      "\n",
      " The columns of resource data are Index(['id', 'description', 'quantity', 'price'], dtype='object')\n"
     ]
    },
    {
     "data": {
      "text/html": [
       "<div>\n",
       "<style scoped>\n",
       "    .dataframe tbody tr th:only-of-type {\n",
       "        vertical-align: middle;\n",
       "    }\n",
       "\n",
       "    .dataframe tbody tr th {\n",
       "        vertical-align: top;\n",
       "    }\n",
       "\n",
       "    .dataframe thead th {\n",
       "        text-align: right;\n",
       "    }\n",
       "</style>\n",
       "<table border=\"1\" class=\"dataframe\">\n",
       "  <thead>\n",
       "    <tr style=\"text-align: right;\">\n",
       "      <th></th>\n",
       "      <th>id</th>\n",
       "      <th>description</th>\n",
       "      <th>quantity</th>\n",
       "      <th>price</th>\n",
       "    </tr>\n",
       "  </thead>\n",
       "  <tbody>\n",
       "    <tr>\n",
       "      <th>0</th>\n",
       "      <td>p233245</td>\n",
       "      <td>LC652 - Lakeshore Double-Space Mobile Drying Rack</td>\n",
       "      <td>1</td>\n",
       "      <td>149.00</td>\n",
       "    </tr>\n",
       "    <tr>\n",
       "      <th>1</th>\n",
       "      <td>p069063</td>\n",
       "      <td>Bouncy Bands for Desks (Blue support pipes)</td>\n",
       "      <td>3</td>\n",
       "      <td>14.95</td>\n",
       "    </tr>\n",
       "    <tr>\n",
       "      <th>2</th>\n",
       "      <td>p069063</td>\n",
       "      <td>Cory Stories: A Kid's Book About Living With Adhd</td>\n",
       "      <td>1</td>\n",
       "      <td>8.45</td>\n",
       "    </tr>\n",
       "  </tbody>\n",
       "</table>\n",
       "</div>"
      ],
      "text/plain": [
       "        id                                        description  quantity  \\\n",
       "0  p233245  LC652 - Lakeshore Double-Space Mobile Drying Rack         1   \n",
       "1  p069063        Bouncy Bands for Desks (Blue support pipes)         3   \n",
       "2  p069063  Cory Stories: A Kid's Book About Living With Adhd         1   \n",
       "\n",
       "    price  \n",
       "0  149.00  \n",
       "1   14.95  \n",
       "2    8.45  "
      ]
     },
     "execution_count": 2,
     "metadata": {},
     "output_type": "execute_result"
    }
   ],
   "source": [
    "resource= pd.read_csv('resources.csv')\n",
    "print(\"The shape of resource data is \" , resource.shape)\n",
    "print(\"\\n The columns of resource data are\", resource.columns)\n",
    "resource.head(3)"
   ]
  },
  {
   "cell_type": "markdown",
   "metadata": {},
   "source": [
    "# Data analysis"
   ]
  },
  {
   "cell_type": "code",
   "execution_count": 3,
   "metadata": {},
   "outputs": [
    {
     "name": "stdout",
     "output_type": "stream",
     "text": [
      "Number of projects thar are approved for funding  92706 , ( 84.85830404217927 %)\n",
      "Number of projects thar are not approved for funding  16542 , ( 15.141695957820739 %)\n"
     ]
    },
    {
     "data": {
      "image/png": "[encoded data removed]",
      "text/plain": [
       "<Figure size 432x432 with 1 Axes>"
      ]
     },
     "metadata": {},
     "output_type": "display_data"
    }
   ],
   "source": [
    "y_value_counts = project['project_is_approved'].value_counts()\n",
    "print(\"Number of projects thar are approved for funding \", y_value_counts[1], \", (\", (y_value_counts[1]/(y_value_counts[1]+y_value_counts[0]))*100,\"%)\")\n",
    "print(\"Number of projects thar are not approved for funding \", y_value_counts[0], \", (\", (y_value_counts[0]/(y_value_counts[1]+y_value_counts[0]))*100,\"%)\")\n",
    "\n",
    "\n",
    "fig, ax = mp.subplots(figsize=(6, 6), subplot_kw=dict(aspect=\"equal\"))\n",
    "recipe = [\"Accepted\", \"Not Accepted\"]\n",
    "\n",
    "data = [y_value_counts[1], y_value_counts[0]]\n",
    "\n",
    "wedges, texts = ax.pie(data, wedgeprops=dict(width=0.5), startangle=-40)\n",
    "\n",
    "bbox_props = dict(boxstyle=\"square,pad=0.3\", fc=\"w\", ec=\"k\", lw=0.72)\n",
    "kw = dict(xycoords='data', textcoords='data', arrowprops=dict(arrowstyle=\"-\"),\n",
    "          bbox=bbox_props, zorder=0, va=\"center\")\n",
    "\n",
    "for i, p in enumerate(wedges):\n",
    "    ang = (p.theta2 - p.theta1)/2. + p.theta1\n",
    "    y = np.sin(np.deg2rad(ang))\n",
    "    x = np.cos(np.deg2rad(ang))\n",
    "    horizontalalignment = {-1: \"right\", 1: \"left\"}[int(np.sign(x))]\n",
    "    connectionstyle = \"angle,angleA=0,angleB={}\".format(ang)\n",
    "    kw[\"arrowprops\"].update({\"connectionstyle\": connectionstyle})\n",
    "    ax.annotate(recipe[i], xy=(x, y), xytext=(1.35*np.sign(x), 1.4*y),\n",
    "                 horizontalalignment=horizontalalignment, **kw)\n",
    "\n",
    "ax.set_title(\"Nmber of projects that are Accepted and not accepted\")\n",
    "\n",
    "mp.show()"
   ]
  },
  {
   "cell_type": "markdown",
   "metadata": {},
   "source": [
    "### 1.2.1 Univariate Analysis : school state"
   ]
  },
  {
   "cell_type": "code",
   "execution_count": 4,
   "metadata": {},
   "outputs": [
    {
     "name": "stdout",
     "output_type": "stream",
     "text": [
      "  state_code  num_proposals\n",
      "0         AK       0.840580\n",
      "1         AL       0.854711\n",
      "2         AR       0.831268\n",
      "3         AZ       0.838379\n",
      "4         CA       0.858136\n",
      "Shape of  (51, 2)\n",
      "\n",
      "*************************************************\n"
     ]
    },
    {
     "data": {
      "text/plain": [
       "' # How to plot US state heatmap: https://datascience.stackexchange.com/a/9620\\n\\nscl = [[0.0, \\'rgb(242,240,247)\\'],[0.2, \\'rgb(218,218,235)\\'],[0.4, \\'rgb(188,189,220)\\'],            [0.6, \\'rgb(158,154,200)\\'],[0.8, \\'rgb(117,107,177)\\'],[1.0, \\'rgb(84,39,143)\\']]\\n\\ndata = [ dict(\\n        type=\\'choropleth\\',\\n        colorscale = scl,\\n        autocolorscale = False,\\n        locations = temp[\\'state_code\\'],\\n        z = temp[\\'num_proposals\\'].astype(float),\\n        locationmode = \\'USA-states\\',\\n        text = temp[\\'state_code\\'],\\n        marker = dict(line = dict (color = \\'rgb(255,255,255)\\',width = 2)),\\n        colorbar = dict(title = \"% of pro\")\\n    ) ]\\n\\nlayout = dict(\\n        title = \\'Project Proposals % of Acceptance Rate by US States\\',\\n        geo = dict(\\n            scope=\\'usa\\',\\n            projection=dict( type=\\'albers usa\\' ),\\n            showlakes = True,\\n            lakecolor = \\'rgb(255, 255, 255)\\',\\n        ),\\n    )\\n\\nfig = mp.Figure(data=data, layout=layout)\\noffline.iplot(fig, filename=\\'us-map-heat-map\\')\\n'"
      ]
     },
     "execution_count": 4,
     "metadata": {},
     "output_type": "execute_result"
    }
   ],
   "source": [
    "# Pandas dataframe groupby count, mean: https://stackoverflow.com/a/19385591/4084039\n",
    "\n",
    "## grouping by state in ordet to obtain some counts and get means\n",
    "\n",
    "temp = pd.DataFrame(project.groupby(\"school_state\")[\"project_is_approved\"].apply(np.mean)).reset_index()\n",
    "# if you have data which contain only 0 and 1, then the mean = percentage (think about it)\n",
    "temp.columns = ['state_code', 'num_proposals']\n",
    "print(temp.head(5))\n",
    "print('Shape of ',temp.shape)\n",
    "print('\\n*************************************************')\n",
    "\n",
    "\n",
    "''' # How to plot US state heatmap: https://datascience.stackexchange.com/a/9620\n",
    "\n",
    "scl = [[0.0, 'rgb(242,240,247)'],[0.2, 'rgb(218,218,235)'],[0.4, 'rgb(188,189,220)'],\\\n",
    "            [0.6, 'rgb(158,154,200)'],[0.8, 'rgb(117,107,177)'],[1.0, 'rgb(84,39,143)']]\n",
    "\n",
    "data = [ dict(\n",
    "        type='choropleth',\n",
    "        colorscale = scl,\n",
    "        autocolorscale = False,\n",
    "        locations = temp['state_code'],\n",
    "        z = temp['num_proposals'].astype(float),\n",
    "        locationmode = 'USA-states',\n",
    "        text = temp['state_code'],\n",
    "        marker = dict(line = dict (color = 'rgb(255,255,255)',width = 2)),\n",
    "        colorbar = dict(title = \"% of pro\")\n",
    "    ) ]\n",
    "\n",
    "layout = dict(\n",
    "        title = 'Project Proposals % of Acceptance Rate by US States',\n",
    "        geo = dict(\n",
    "            scope='usa',\n",
    "            projection=dict( type='albers usa' ),\n",
    "            showlakes = True,\n",
    "            lakecolor = 'rgb(255, 255, 255)',\n",
    "        ),\n",
    "    )\n",
    "\n",
    "fig = mp.Figure(data=data, layout=layout)\n",
    "offline.iplot(fig, filename='us-map-heat-map')\n",
    "'''"
   ]
  },
  {
   "cell_type": "code",
   "execution_count": 5,
   "metadata": {},
   "outputs": [],
   "source": [
    "#stacked bar plots matplotlib: https://matplotlib.org/gallery/lines_bars_and_markers/bar_stacked.html\n",
    "def stack_plot(data, xtick, col2='project_is_approved', col3='total'):\n",
    "    ind = np.arange(data.shape[0])\n",
    "    \n",
    "    mp.figure(figsize=(20,5))\n",
    "    p1 = mp.bar(ind, data[col3].values)\n",
    "    p2 = mp.bar(ind, data[col2].values)\n",
    "\n",
    "    mp.ylabel('Projects')\n",
    "    mp.title('Number of projects aproved vs rejected')\n",
    "    mp.xticks(ind, list(data[xtick].values))\n",
    "    mp.legend((p1[0], p2[0]), ('total', 'accepted'))\n",
    "    mp.show()"
   ]
  },
  {
   "cell_type": "code",
   "execution_count": 6,
   "metadata": {},
   "outputs": [],
   "source": [
    "def univariate_barplots(data, col1, col2='project_is_approved', top=False):\n",
    "    # Count number of zeros in dataframe python: https://stackoverflow.com/a/51540521/4084039\n",
    "    temp = pd.DataFrame(project.groupby(col1)[col2].agg(lambda x: x.eq(1).sum())).reset_index()\n",
    "\n",
    "    # Pandas dataframe grouby count: https://stackoverflow.com/a/19385591/4084039\n",
    "    temp['total'] = pd.DataFrame(project.groupby(col1)[col2].agg({'total':'count'})).reset_index()['total']\n",
    "    temp['Avg'] = pd.DataFrame(project.groupby(col1)[col2].agg({'Avg':'mean'})).reset_index()['Avg']\n",
    "    \n",
    "    temp.sort_values(by=['total'], inplace=True, ascending=False)\n",
    "    \n",
    "    if top:\n",
    "        temp = temp[0:top]\n",
    "    \n",
    "    stack_plot(temp, xtick=col1, col2=col2, col3='total')\n",
    "    print(temp.head(5))\n",
    "    print(\"=\"*50)\n",
    "    print(temp.tail(5))"
   ]
  },
  {
   "cell_type": "code",
   "execution_count": 7,
   "metadata": {},
   "outputs": [
    {
     "name": "stderr",
     "output_type": "stream",
     "text": [
      "G:\\Anaconda\\lib\\site-packages\\ipykernel_launcher.py:6: FutureWarning: using a dict on a Series for aggregation\n",
      "is deprecated and will be removed in a future version\n",
      "  \n",
      "G:\\Anaconda\\lib\\site-packages\\ipykernel_launcher.py:7: FutureWarning: using a dict on a Series for aggregation\n",
      "is deprecated and will be removed in a future version\n",
      "  import sys\n"
     ]
    },
    {
     "data": {
      "image/png": "[encoded data removed]",
      "text/plain": [
       "<Figure size 1440x360 with 1 Axes>"
      ]
     },
     "metadata": {},
     "output_type": "display_data"
    },
    {
     "name": "stdout",
     "output_type": "stream",
     "text": [
      "   school_state  project_is_approved  total       Avg\n",
      "4            CA                13205  15388  0.858136\n",
      "43           TX                 6014   7396  0.813142\n",
      "34           NY                 6291   7318  0.859661\n",
      "9            FL                 5144   6185  0.831690\n",
      "27           NC                 4353   5091  0.855038\n",
      "==================================================\n",
      "   school_state  project_is_approved  total       Avg\n",
      "39           RI                  243    285  0.852632\n",
      "26           MT                  200    245  0.816327\n",
      "28           ND                  127    143  0.888112\n",
      "50           WY                   82     98  0.836735\n",
      "46           VT                   64     80  0.800000\n"
     ]
    }
   ],
   "source": [
    "univariate_barplots(project, 'school_state', 'project_is_approved', False)"
   ]
  },
  {
   "cell_type": "markdown",
   "metadata": {},
   "source": [
    "#### Summary:\n",
    "1. Every state has greater than 80% success rate\n",
    "2. California is the state with maximum project proposals and also the state with maximum projects approved.\n",
    "3. The minimum project approved number is for VT Vermont."
   ]
  },
  {
   "cell_type": "markdown",
   "metadata": {},
   "source": [
    "### 1.2.2 Univariate Analysis: teacher_prefix"
   ]
  },
  {
   "cell_type": "code",
   "execution_count": 8,
   "metadata": {},
   "outputs": [
    {
     "data": {
      "image/png": "[encoded data removed]",
      "text/plain": [
       "<Figure size 1440x360 with 1 Axes>"
      ]
     },
     "metadata": {},
     "output_type": "display_data"
    },
    {
     "name": "stdout",
     "output_type": "stream",
     "text": [
      "  teacher_prefix  project_is_approved  total       Avg\n",
      "2           Mrs.                48997  57269  0.855559\n",
      "3            Ms.                32860  38955  0.843537\n",
      "1            Mr.                 8960  10648  0.841473\n",
      "4        Teacher                 1877   2360  0.795339\n",
      "0            Dr.                    9     13  0.692308\n",
      "==================================================\n",
      "  teacher_prefix  project_is_approved  total       Avg\n",
      "2           Mrs.                48997  57269  0.855559\n",
      "3            Ms.                32860  38955  0.843537\n",
      "1            Mr.                 8960  10648  0.841473\n",
      "4        Teacher                 1877   2360  0.795339\n",
      "0            Dr.                    9     13  0.692308\n"
     ]
    }
   ],
   "source": [
    "import warnings \n",
    "warnings.filterwarnings('ignore')\n",
    "\n",
    "univariate_barplots(project , 'teacher_prefix', 'project_is_approved' , top=False)"
   ]
  },
  {
   "cell_type": "markdown",
   "metadata": {},
   "source": [
    "#### Summary:\n",
    "1. Every one has greater than 69 % success rate\n",
    "2. \"Mrs.\" is the teacher prefix with maximum project proposals and also maximum projects approved.\n",
    "3. The %age of projects approval is almost same of \"Ms.\" & \"Mr.\"\n",
    "4. \"Teacher\" & \"Dr.\" have the least of %age approved projects."
   ]
  },
  {
   "cell_type": "markdown",
   "metadata": {},
   "source": [
    "### 1.2.3 Univariate Analysis: project_grade_category"
   ]
  },
  {
   "cell_type": "code",
   "execution_count": 9,
   "metadata": {},
   "outputs": [
    {
     "data": {
      "image/png": "[encoded data removed]",
      "text/plain": [
       "<Figure size 1440x360 with 1 Axes>"
      ]
     },
     "metadata": {},
     "output_type": "display_data"
    },
    {
     "name": "stdout",
     "output_type": "stream",
     "text": [
      "  project_grade_category  project_is_approved  total       Avg\n",
      "3          Grades PreK-2                37536  44225  0.848751\n",
      "0             Grades 3-5                31729  37137  0.854377\n",
      "1             Grades 6-8                14258  16923  0.842522\n",
      "2            Grades 9-12                 9183  10963  0.837636\n",
      "==================================================\n",
      "  project_grade_category  project_is_approved  total       Avg\n",
      "3          Grades PreK-2                37536  44225  0.848751\n",
      "0             Grades 3-5                31729  37137  0.854377\n",
      "1             Grades 6-8                14258  16923  0.842522\n",
      "2            Grades 9-12                 9183  10963  0.837636\n"
     ]
    }
   ],
   "source": [
    "univariate_barplots(project, 'project_grade_category', 'project_is_approved' , top=False)"
   ]
  },
  {
   "cell_type": "markdown",
   "metadata": {},
   "source": [
    "#### Summary:\n",
    "1. Every grade has greater than 83 % success rate\n",
    "2. \"PreK-2\" is the project grade category with maximum project proposals and also maximum projects approved, although %age wise    \" Grades 3-5\" have the maximum approval percentage(even though its just slightly better) \n",
    "3. The %age of projects approval is almost same of \"PreK-2\" & \"6-8\""
   ]
  },
  {
   "cell_type": "markdown",
   "metadata": {},
   "source": [
    "### 1.2.4 Univariate Analysis: project_subject_categories"
   ]
  },
  {
   "cell_type": "code",
   "execution_count": 10,
   "metadata": {},
   "outputs": [],
   "source": [
    "categories = list(project['project_subject_categories'].values)\n",
    "# remove special characters from list of strings python: https://stackoverflow.com/a/47301924/4084039\n",
    "\n",
    "# https://www.geeksforgeeks.org/removing-stop-words-nltk-python/\n",
    "# https://stackoverflow.com/questions/23669024/how-to-strip-a-specific-word-from-a-string\n",
    "# https://stackoverflow.com/questions/8270092/remove-all-whitespace-in-a-string-in-python\n",
    "cat_list = []\n",
    "for i in categories:\n",
    "    temp = \"\"\n",
    "    # consider we have text like this \"Math & Science, Warmth, Care & Hunger\"\n",
    "    for j in i.split(','): # it will split it in three parts [\"Math & Science\", \"Warmth\", \"Care & Hunger\"]\n",
    "        if 'The' in j.split(): # this will split each of the catogory based on space \"Math & Science\"=> \"Math\",\"&\", \"Science\"\n",
    "            j=j.replace('The','') # if we have the words \"The\" we are going to replace it with ''(i.e removing 'The')\n",
    "        j = j.replace(' ','') # we are placing all the ' '(space) with ''(empty) ex:\"Math & Science\"=>\"Math&Science\"\n",
    "        temp+=j.strip()+\" \" #\" abc \".strip() will return \"abc\", remove the trailing spaces\n",
    "        temp = temp.replace('&','_') # we are replacing the & value into \n",
    "    cat_list.append(temp.strip())"
   ]
  },
  {
   "cell_type": "code",
   "execution_count": 11,
   "metadata": {},
   "outputs": [
    {
     "data": {
      "text/html": [
       "<div>\n",
       "<style scoped>\n",
       "    .dataframe tbody tr th:only-of-type {\n",
       "        vertical-align: middle;\n",
       "    }\n",
       "\n",
       "    .dataframe tbody tr th {\n",
       "        vertical-align: top;\n",
       "    }\n",
       "\n",
       "    .dataframe thead th {\n",
       "        text-align: right;\n",
       "    }\n",
       "</style>\n",
       "<table border=\"1\" class=\"dataframe\">\n",
       "  <thead>\n",
       "    <tr style=\"text-align: right;\">\n",
       "      <th></th>\n",
       "      <th>Unnamed: 0</th>\n",
       "      <th>id</th>\n",
       "      <th>teacher_id</th>\n",
       "      <th>teacher_prefix</th>\n",
       "      <th>school_state</th>\n",
       "      <th>project_submitted_datetime</th>\n",
       "      <th>project_grade_category</th>\n",
       "      <th>project_subject_subcategories</th>\n",
       "      <th>project_title</th>\n",
       "      <th>project_essay_1</th>\n",
       "      <th>project_essay_2</th>\n",
       "      <th>project_essay_3</th>\n",
       "      <th>project_essay_4</th>\n",
       "      <th>project_resource_summary</th>\n",
       "      <th>teacher_number_of_previously_posted_projects</th>\n",
       "      <th>project_is_approved</th>\n",
       "      <th>clean_categories</th>\n",
       "    </tr>\n",
       "  </thead>\n",
       "  <tbody>\n",
       "    <tr>\n",
       "      <th>0</th>\n",
       "      <td>160221</td>\n",
       "      <td>p253737</td>\n",
       "      <td>c90749f5d961ff158d4b4d1e7dc665fc</td>\n",
       "      <td>Mrs.</td>\n",
       "      <td>IN</td>\n",
       "      <td>2016-12-05 13:43:57</td>\n",
       "      <td>Grades PreK-2</td>\n",
       "      <td>ESL, Literacy</td>\n",
       "      <td>Educational Support for English Learners at Home</td>\n",
       "      <td>My students are English learners that are work...</td>\n",
       "      <td>\\\"The limits of your language are the limits o...</td>\n",
       "      <td>NaN</td>\n",
       "      <td>NaN</td>\n",
       "      <td>My students need opportunities to practice beg...</td>\n",
       "      <td>0</td>\n",
       "      <td>0</td>\n",
       "      <td>Literacy_Language</td>\n",
       "    </tr>\n",
       "    <tr>\n",
       "      <th>1</th>\n",
       "      <td>140945</td>\n",
       "      <td>p258326</td>\n",
       "      <td>897464ce9ddc600bced1151f324dd63a</td>\n",
       "      <td>Mr.</td>\n",
       "      <td>FL</td>\n",
       "      <td>2016-10-25 09:22:10</td>\n",
       "      <td>Grades 6-8</td>\n",
       "      <td>Civics &amp; Government, Team Sports</td>\n",
       "      <td>Wanted: Projector for Hungry Learners</td>\n",
       "      <td>Our students arrive to our school eager to lea...</td>\n",
       "      <td>The projector we need for our school is very c...</td>\n",
       "      <td>NaN</td>\n",
       "      <td>NaN</td>\n",
       "      <td>My students need a projector to help with view...</td>\n",
       "      <td>7</td>\n",
       "      <td>1</td>\n",
       "      <td>History_Civics Health_Sports</td>\n",
       "    </tr>\n",
       "  </tbody>\n",
       "</table>\n",
       "</div>"
      ],
      "text/plain": [
       "   Unnamed: 0       id                        teacher_id teacher_prefix  \\\n",
       "0      160221  p253737  c90749f5d961ff158d4b4d1e7dc665fc           Mrs.   \n",
       "1      140945  p258326  897464ce9ddc600bced1151f324dd63a            Mr.   \n",
       "\n",
       "  school_state project_submitted_datetime project_grade_category  \\\n",
       "0           IN        2016-12-05 13:43:57          Grades PreK-2   \n",
       "1           FL        2016-10-25 09:22:10             Grades 6-8   \n",
       "\n",
       "      project_subject_subcategories  \\\n",
       "0                     ESL, Literacy   \n",
       "1  Civics & Government, Team Sports   \n",
       "\n",
       "                                      project_title  \\\n",
       "0  Educational Support for English Learners at Home   \n",
       "1             Wanted: Projector for Hungry Learners   \n",
       "\n",
       "                                     project_essay_1  \\\n",
       "0  My students are English learners that are work...   \n",
       "1  Our students arrive to our school eager to lea...   \n",
       "\n",
       "                                     project_essay_2 project_essay_3  \\\n",
       "0  \\\"The limits of your language are the limits o...             NaN   \n",
       "1  The projector we need for our school is very c...             NaN   \n",
       "\n",
       "  project_essay_4                           project_resource_summary  \\\n",
       "0             NaN  My students need opportunities to practice beg...   \n",
       "1             NaN  My students need a projector to help with view...   \n",
       "\n",
       "   teacher_number_of_previously_posted_projects  project_is_approved  \\\n",
       "0                                             0                    0   \n",
       "1                                             7                    1   \n",
       "\n",
       "               clean_categories  \n",
       "0             Literacy_Language  \n",
       "1  History_Civics Health_Sports  "
      ]
     },
     "execution_count": 11,
     "metadata": {},
     "output_type": "execute_result"
    }
   ],
   "source": [
    "project['clean_categories'] = cat_list\n",
    "project.drop(['project_subject_categories'], axis=1, inplace=True)\n",
    "project.head(2)"
   ]
  },
  {
   "cell_type": "code",
   "execution_count": 12,
   "metadata": {},
   "outputs": [
    {
     "data": {
      "image/png": "[encoded data removed]",
      "text/plain": [
       "<Figure size 1440x360 with 1 Axes>"
      ]
     },
     "metadata": {},
     "output_type": "display_data"
    },
    {
     "name": "stdout",
     "output_type": "stream",
     "text": [
      "                  clean_categories  project_is_approved  total       Avg\n",
      "24               Literacy_Language                20520  23655  0.867470\n",
      "32                    Math_Science                13991  17072  0.819529\n",
      "28  Literacy_Language Math_Science                12725  14636  0.869432\n",
      "8                    Health_Sports                 8640  10177  0.848973\n",
      "40                      Music_Arts                 4429   5180  0.855019\n",
      "==================================================\n",
      "                    clean_categories  project_is_approved  total       Avg\n",
      "19  History_Civics Literacy_Language                 1271   1421  0.894441\n",
      "14        Health_Sports SpecialNeeds                 1215   1391  0.873472\n",
      "50                Warmth Care_Hunger                 1212   1309  0.925898\n",
      "33      Math_Science AppliedLearning                 1019   1220  0.835246\n",
      "4       AppliedLearning Math_Science                  855   1052  0.812738\n"
     ]
    }
   ],
   "source": [
    "univariate_barplots(project, 'clean_categories', 'project_is_approved', top=20)"
   ]
  },
  {
   "cell_type": "markdown",
   "metadata": {},
   "source": [
    "#### Summary:\n",
    "1. Every grade has greater than 81 % success rate\n",
    "2. \"Literacy_Language\" is the subject category with maximum project proposals and also maximum projects approved.\n",
    "3. The %age of projects approval for \"Math_Science\" is 81.2 while that of \"Math_Science and Literacy_Language\" is 86.9%\n"
   ]
  },
  {
   "cell_type": "code",
   "execution_count": 13,
   "metadata": {},
   "outputs": [
    {
     "data": {
      "text/plain": [
       "Counter({'Literacy_Language': 52239,\n",
       "         'History_Civics': 5914,\n",
       "         'Health_Sports': 14223,\n",
       "         'Math_Science': 41421,\n",
       "         'SpecialNeeds': 13642,\n",
       "         'AppliedLearning': 12135,\n",
       "         'Music_Arts': 10293,\n",
       "         'Warmth': 1388,\n",
       "         'Care_Hunger': 1388})"
      ]
     },
     "execution_count": 13,
     "metadata": {},
     "output_type": "execute_result"
    }
   ],
   "source": [
    "# count of all the words for \"clean_categories\" in corpus python: https://stackoverflow.com/a/22898595/4084039\n",
    "from collections import Counter\n",
    "my_counter = Counter()\n",
    "for word in project['clean_categories'].values:\n",
    "    my_counter.update(word.split())\n",
    "my_counter"
   ]
  },
  {
   "cell_type": "code",
   "execution_count": 14,
   "metadata": {},
   "outputs": [
    {
     "data": {
      "image/png": "[encoded data removed]",
      "text/plain": [
       "<Figure size 1440x360 with 1 Axes>"
      ]
     },
     "metadata": {},
     "output_type": "display_data"
    }
   ],
   "source": [
    "# dict sort by value python: https://stackoverflow.com/a/613218/4084039\n",
    "\n",
    "cat_dict = dict(my_counter)\n",
    "sorted_cat_dict = dict(sorted(cat_dict.items(), key=lambda kv: kv[1]))\n",
    "\n",
    "\n",
    "ind = np.arange(len(sorted_cat_dict))\n",
    "mp.figure(figsize=(20,5))\n",
    "p1 = mp.bar(ind, list(sorted_cat_dict.values()))\n",
    "\n",
    "mp.ylabel('Projects')\n",
    "mp.title('% of projects aproved category wise')\n",
    "mp.xticks(ind, list(sorted_cat_dict.keys()))\n",
    "mp.show()"
   ]
  },
  {
   "cell_type": "markdown",
   "metadata": {},
   "source": [
    "### Summary:\n",
    "1. Literacy_Language has the maximum success rate."
   ]
  },
  {
   "cell_type": "code",
   "execution_count": 15,
   "metadata": {},
   "outputs": [
    {
     "name": "stdout",
     "output_type": "stream",
     "text": [
      "Warmth               :      1388\n",
      "Care_Hunger          :      1388\n",
      "History_Civics       :      5914\n",
      "Music_Arts           :     10293\n",
      "AppliedLearning      :     12135\n",
      "SpecialNeeds         :     13642\n",
      "Health_Sports        :     14223\n",
      "Math_Science         :     41421\n",
      "Literacy_Language    :     52239\n"
     ]
    }
   ],
   "source": [
    "for i, j in sorted_cat_dict.items():\n",
    "    print(\"{:20} :{:10}\".format(i,j))"
   ]
  },
  {
   "cell_type": "markdown",
   "metadata": {},
   "source": [
    "### 1.2.5 Univariate Analysis: project_subject_subcategories"
   ]
  },
  {
   "cell_type": "code",
   "execution_count": 16,
   "metadata": {},
   "outputs": [],
   "source": [
    "sub_categories = list(project['project_subject_subcategories'].values)\n",
    "# remove special characters from list of strings python: https://stackoverflow.com/a/47301924/4084039\n",
    "\n",
    "# https://www.geeksforgeeks.org/removing-stop-words-nltk-python/\n",
    "# https://stackoverflow.com/questions/23669024/how-to-strip-a-specific-word-from-a-string\n",
    "# https://stackoverflow.com/questions/8270092/remove-all-whitespace-in-a-string-in-python\n",
    "\n",
    "sub_cat_list = []\n",
    "for i in sub_categories:\n",
    "    temp = \"\"\n",
    "    # consider we have text like this \"Math & Science, Warmth, Care & Hunger\"\n",
    "    for j in i.split(','): # it will split it in three parts [\"Math & Science\", \"Warmth\", \"Care & Hunger\"]\n",
    "        if 'The' in j.split(): # this will split each of the catogory based on space \"Math & Science\"=> \"Math\",\"&\", \"Science\"\n",
    "            j=j.replace('The','') # if we have the words \"The\" we are going to replace it with ''(i.e removing 'The')\n",
    "        j = j.replace(' ','') # we are placeing all the ' '(space) with ''(empty) ex:\"Math & Science\"=>\"Math&Science\"\n",
    "        temp +=j.strip()+\" \"#\" abc \".strip() will return \"abc\", remove the trailing spaces\n",
    "        temp = temp.replace('&','_')\n",
    "    sub_cat_list.append(temp.strip())"
   ]
  },
  {
   "cell_type": "code",
   "execution_count": 17,
   "metadata": {},
   "outputs": [
    {
     "data": {
      "text/html": [
       "<div>\n",
       "<style scoped>\n",
       "    .dataframe tbody tr th:only-of-type {\n",
       "        vertical-align: middle;\n",
       "    }\n",
       "\n",
       "    .dataframe tbody tr th {\n",
       "        vertical-align: top;\n",
       "    }\n",
       "\n",
       "    .dataframe thead th {\n",
       "        text-align: right;\n",
       "    }\n",
       "</style>\n",
       "<table border=\"1\" class=\"dataframe\">\n",
       "  <thead>\n",
       "    <tr style=\"text-align: right;\">\n",
       "      <th></th>\n",
       "      <th>Unnamed: 0</th>\n",
       "      <th>id</th>\n",
       "      <th>teacher_id</th>\n",
       "      <th>teacher_prefix</th>\n",
       "      <th>school_state</th>\n",
       "      <th>project_submitted_datetime</th>\n",
       "      <th>project_grade_category</th>\n",
       "      <th>project_title</th>\n",
       "      <th>project_essay_1</th>\n",
       "      <th>project_essay_2</th>\n",
       "      <th>project_essay_3</th>\n",
       "      <th>project_essay_4</th>\n",
       "      <th>project_resource_summary</th>\n",
       "      <th>teacher_number_of_previously_posted_projects</th>\n",
       "      <th>project_is_approved</th>\n",
       "      <th>clean_categories</th>\n",
       "      <th>clean_subcategories</th>\n",
       "    </tr>\n",
       "  </thead>\n",
       "  <tbody>\n",
       "    <tr>\n",
       "      <th>0</th>\n",
       "      <td>160221</td>\n",
       "      <td>p253737</td>\n",
       "      <td>c90749f5d961ff158d4b4d1e7dc665fc</td>\n",
       "      <td>Mrs.</td>\n",
       "      <td>IN</td>\n",
       "      <td>2016-12-05 13:43:57</td>\n",
       "      <td>Grades PreK-2</td>\n",
       "      <td>Educational Support for English Learners at Home</td>\n",
       "      <td>My students are English learners that are work...</td>\n",
       "      <td>\\\"The limits of your language are the limits o...</td>\n",
       "      <td>NaN</td>\n",
       "      <td>NaN</td>\n",
       "      <td>My students need opportunities to practice beg...</td>\n",
       "      <td>0</td>\n",
       "      <td>0</td>\n",
       "      <td>Literacy_Language</td>\n",
       "      <td>ESL Literacy</td>\n",
       "    </tr>\n",
       "    <tr>\n",
       "      <th>1</th>\n",
       "      <td>140945</td>\n",
       "      <td>p258326</td>\n",
       "      <td>897464ce9ddc600bced1151f324dd63a</td>\n",
       "      <td>Mr.</td>\n",
       "      <td>FL</td>\n",
       "      <td>2016-10-25 09:22:10</td>\n",
       "      <td>Grades 6-8</td>\n",
       "      <td>Wanted: Projector for Hungry Learners</td>\n",
       "      <td>Our students arrive to our school eager to lea...</td>\n",
       "      <td>The projector we need for our school is very c...</td>\n",
       "      <td>NaN</td>\n",
       "      <td>NaN</td>\n",
       "      <td>My students need a projector to help with view...</td>\n",
       "      <td>7</td>\n",
       "      <td>1</td>\n",
       "      <td>History_Civics Health_Sports</td>\n",
       "      <td>Civics_Government TeamSports</td>\n",
       "    </tr>\n",
       "  </tbody>\n",
       "</table>\n",
       "</div>"
      ],
      "text/plain": [
       "   Unnamed: 0       id                        teacher_id teacher_prefix  \\\n",
       "0      160221  p253737  c90749f5d961ff158d4b4d1e7dc665fc           Mrs.   \n",
       "1      140945  p258326  897464ce9ddc600bced1151f324dd63a            Mr.   \n",
       "\n",
       "  school_state project_submitted_datetime project_grade_category  \\\n",
       "0           IN        2016-12-05 13:43:57          Grades PreK-2   \n",
       "1           FL        2016-10-25 09:22:10             Grades 6-8   \n",
       "\n",
       "                                      project_title  \\\n",
       "0  Educational Support for English Learners at Home   \n",
       "1             Wanted: Projector for Hungry Learners   \n",
       "\n",
       "                                     project_essay_1  \\\n",
       "0  My students are English learners that are work...   \n",
       "1  Our students arrive to our school eager to lea...   \n",
       "\n",
       "                                     project_essay_2 project_essay_3  \\\n",
       "0  \\\"The limits of your language are the limits o...             NaN   \n",
       "1  The projector we need for our school is very c...             NaN   \n",
       "\n",
       "  project_essay_4                           project_resource_summary  \\\n",
       "0             NaN  My students need opportunities to practice beg...   \n",
       "1             NaN  My students need a projector to help with view...   \n",
       "\n",
       "   teacher_number_of_previously_posted_projects  project_is_approved  \\\n",
       "0                                             0                    0   \n",
       "1                                             7                    1   \n",
       "\n",
       "               clean_categories           clean_subcategories  \n",
       "0             Literacy_Language                  ESL Literacy  \n",
       "1  History_Civics Health_Sports  Civics_Government TeamSports  "
      ]
     },
     "execution_count": 17,
     "metadata": {},
     "output_type": "execute_result"
    }
   ],
   "source": [
    "## dropping the subcategories\n",
    "\n",
    "project['clean_subcategories'] = sub_cat_list\n",
    "project.drop(['project_subject_subcategories'], axis=1, inplace=True)\n",
    "project.head(2)"
   ]
  },
  {
   "cell_type": "code",
   "execution_count": 18,
   "metadata": {},
   "outputs": [
    {
     "data": {
      "image/png": "[encoded data removed]",
      "text/plain": [
       "<Figure size 1440x360 with 1 Axes>"
      ]
     },
     "metadata": {},
     "output_type": "display_data"
    },
    {
     "name": "stdout",
     "output_type": "stream",
     "text": [
      "                clean_subcategories  project_is_approved  total       Avg\n",
      "317                        Literacy                 8371   9486  0.882458\n",
      "319            Literacy Mathematics                 7260   8325  0.872072\n",
      "331  Literature_Writing Mathematics                 5140   5923  0.867803\n",
      "318     Literacy Literature_Writing                 4823   5571  0.865733\n",
      "342                     Mathematics                 4385   5379  0.815207\n",
      "==================================================\n",
      "                    clean_subcategories  project_is_approved  total       Avg\n",
      "196       EnvironmentalScience Literacy                  389    444  0.876126\n",
      "127                                 ESL                  349    421  0.828979\n",
      "79                   College_CareerPrep                  343    421  0.814727\n",
      "17   AppliedSciences Literature_Writing                  361    420  0.859524\n",
      "3    AppliedSciences College_CareerPrep                  330    405  0.814815\n"
     ]
    }
   ],
   "source": [
    "univariate_barplots(project, 'clean_subcategories', 'project_is_approved', top=50)"
   ]
  },
  {
   "cell_type": "markdown",
   "metadata": {},
   "source": [
    "### Summary:\n",
    "1. Literacy subcategory has the maximum success rate.\n",
    "2. Mathematics has a approval rate of 81.5 %, but when coupled with sub-categories like Literacy and Literature_writing it has\n",
    "a approval %age of 87.2% and 86.78%."
   ]
  },
  {
   "cell_type": "code",
   "execution_count": 19,
   "metadata": {},
   "outputs": [],
   "source": [
    "# count of all the words in corpus python: https://stackoverflow.com/a/22898595/4084039\n",
    "from collections import Counter\n",
    "my_counter = Counter()\n",
    "for word in project['clean_subcategories'].values:\n",
    "    my_counter.update(word.split())"
   ]
  },
  {
   "cell_type": "code",
   "execution_count": 20,
   "metadata": {},
   "outputs": [
    {
     "data": {
      "image/png": "[encoded data removed]",
      "text/plain": [
       "<Figure size 1440x360 with 1 Axes>"
      ]
     },
     "metadata": {},
     "output_type": "display_data"
    }
   ],
   "source": [
    "# dict sort by value python: https://stackoverflow.com/a/613218/4084039\n",
    "sub_cat_dict = dict(my_counter)\n",
    "sorted_sub_cat_dict = dict(sorted(sub_cat_dict.items(), key=lambda kv: kv[1]))\n",
    "\n",
    "\n",
    "ind = np.arange(len(sorted_sub_cat_dict))\n",
    "mp.figure(figsize=(20,5))\n",
    "p1 = mp.bar(ind, list(sorted_sub_cat_dict.values()))\n",
    "\n",
    "mp.ylabel('Projects')\n",
    "mp.title('% of projects aproved state wise')\n",
    "mp.xticks(ind, list(sorted_sub_cat_dict.keys()))\n",
    "mp.show()"
   ]
  },
  {
   "cell_type": "code",
   "execution_count": 21,
   "metadata": {},
   "outputs": [
    {
     "name": "stdout",
     "output_type": "stream",
     "text": [
      "Economics            :       269\n",
      "CommunityService     :       441\n",
      "FinancialLiteracy    :       568\n",
      "ParentInvolvement    :       677\n",
      "Extracurricular      :       810\n",
      "Civics_Government    :       815\n",
      "ForeignLanguages     :       890\n",
      "NutritionEducation   :      1355\n",
      "Warmth               :      1388\n",
      "Care_Hunger          :      1388\n",
      "SocialSciences       :      1920\n",
      "PerformingArts       :      1961\n",
      "CharacterEducation   :      2065\n",
      "TeamSports           :      2192\n",
      "Other                :      2372\n",
      "College_CareerPrep   :      2568\n",
      "Music                :      3145\n",
      "History_Geography    :      3171\n",
      "Health_LifeScience   :      4235\n",
      "EarlyDevelopment     :      4254\n",
      "ESL                  :      4367\n",
      "Gym_Fitness          :      4509\n",
      "EnvironmentalScience :      5591\n",
      "VisualArts           :      6278\n",
      "Health_Wellness      :     10234\n",
      "AppliedSciences      :     10816\n",
      "SpecialNeeds         :     13642\n",
      "Literature_Writing   :     22179\n",
      "Mathematics          :     28074\n",
      "Literacy             :     33700\n"
     ]
    }
   ],
   "source": [
    "for i, j in sorted_sub_cat_dict.items():\n",
    "    print(\"{:20} :{:10}\".format(i,j))"
   ]
  },
  {
   "cell_type": "markdown",
   "metadata": {},
   "source": [
    "### Summary:\n",
    "1. People like to donate more when it comes to Literacy and less when there's economics."
   ]
  },
  {
   "cell_type": "markdown",
   "metadata": {},
   "source": [
    "### 1.2.6 Univariate Analysis: project_title (Text features (Title))"
   ]
  },
  {
   "cell_type": "code",
   "execution_count": 22,
   "metadata": {},
   "outputs": [
    {
     "data": {
      "image/png": "[encoded data removed]",
      "text/plain": [
       "<Figure size 1440x360 with 1 Axes>"
      ]
     },
     "metadata": {},
     "output_type": "display_data"
    }
   ],
   "source": [
    "#How to calculate number of words in a string in DataFrame: https://stackoverflow.com/a/37483537/4084039\n",
    "word_count = project['project_title'].str.split().apply(len).value_counts()\n",
    "word_dict = dict(word_count)\n",
    "word_dict = dict(sorted(word_dict.items(), key=lambda kv: kv[1]))\n",
    "\n",
    "\n",
    "ind = np.arange(len(word_dict))\n",
    "mp.figure(figsize=(20,5))\n",
    "p1 = mp.bar(ind, list(word_dict.values()))\n",
    "\n",
    "mp.ylabel('Number of projects')\n",
    "mp.xlabel('Number words in project title')\n",
    "mp.title('Words for each title of the project')\n",
    "mp.xticks(ind, list(word_dict.keys()))\n",
    "mp.show()"
   ]
  },
  {
   "cell_type": "markdown",
   "metadata": {},
   "source": [
    "### Summary:\n",
    "1. There are more number of projects with 4 to 5 words in project title than other number of words.\n",
    "2. people may tend to keep the project title short and crisp and not too long for the sake of avoiding ambiguity and vagueness."
   ]
  },
  {
   "cell_type": "code",
   "execution_count": 23,
   "metadata": {},
   "outputs": [
    {
     "name": "stdout",
     "output_type": "stream",
     "text": [
      "[5 2 3 ... 6 5 7]\n",
      "[7 7 4 ... 3 6 3]\n"
     ]
    }
   ],
   "source": [
    "approved_title_word_count = project[project['project_is_approved']==1]['project_title'].str.split().apply(len)\n",
    "approved_title_word_count = approved_title_word_count.values\n",
    "\n",
    "print(approved_title_word_count)\n",
    "\n",
    "rejected_title_word_count = project[project['project_is_approved']==0]['project_title'].str.split().apply(len)\n",
    "rejected_title_word_count = rejected_title_word_count.values\n",
    "\n",
    "print(rejected_title_word_count)"
   ]
  },
  {
   "cell_type": "code",
   "execution_count": 24,
   "metadata": {},
   "outputs": [
    {
     "data": {
      "image/png": "[encoded data removed]",
      "text/plain": [
       "<Figure size 432x288 with 1 Axes>"
      ]
     },
     "metadata": {},
     "output_type": "display_data"
    }
   ],
   "source": [
    "# https://glowingpython.blogspot.com/2012/09/boxplot-with-matplotlib.html\n",
    "mp.boxplot([approved_title_word_count, rejected_title_word_count])\n",
    "mp.xticks([1,2],('Approved Projects','Rejected Projects'))\n",
    "mp.ylabel('Words in project title')\n",
    "mp.grid()\n",
    "mp.show()"
   ]
  },
  {
   "cell_type": "markdown",
   "metadata": {},
   "source": [
    "### Summary\n",
    "1. The 50th percentile for both approved as well as rejected projects is just the same.\n",
    "2. However 75th & 25th percentile for approved projects is more than Rejected projects which implies approved projects\n",
    "tend to have slighlty more number of words than the one rejected.\n"
   ]
  },
  {
   "cell_type": "code",
   "execution_count": 25,
   "metadata": {},
   "outputs": [
    {
     "data": {
      "image/png": "[encoded data removed]",
      "text/plain": [
       "<Figure size 720x216 with 1 Axes>"
      ]
     },
     "metadata": {},
     "output_type": "display_data"
    }
   ],
   "source": [
    "mp.figure(figsize=(10,3))\n",
    "sns.kdeplot(approved_title_word_count,label=\"Approved Projects\", bw=0.6)\n",
    "sns.kdeplot(rejected_title_word_count,label=\"Not Approved Projects\", bw=0.6)\n",
    "mp.legend()\n",
    "mp.show()"
   ]
  },
  {
   "cell_type": "markdown",
   "metadata": {},
   "source": [
    "### Summary \n",
    "1. the pdf for approved projects is ahead to Rejected projects which implies approved projects tend to have slighlty more number of words than the one rejected."
   ]
  },
  {
   "cell_type": "markdown",
   "metadata": {},
   "source": [
    "### 1.2.7 Univariate Analysis: Text features (Project Essay's)"
   ]
  },
  {
   "cell_type": "code",
   "execution_count": 26,
   "metadata": {},
   "outputs": [],
   "source": [
    "# merge two column text dataframe: \n",
    "\n",
    "project[\"essay\"] = project[\"project_essay_1\"].map(str) +\\\n",
    "                        project[\"project_essay_2\"].map(str) + \\\n",
    "                        project[\"project_essay_3\"].map(str) + \\\n",
    "                        project[\"project_essay_4\"].map(str)"
   ]
  },
  {
   "cell_type": "code",
   "execution_count": 27,
   "metadata": {},
   "outputs": [],
   "source": [
    "approved_word_count = project[project['project_is_approved']==1]['essay'].str.split().apply(len)\n",
    "approved_word_count = approved_word_count.values\n",
    "\n",
    "rejected_word_count = project[project['project_is_approved']==0]['essay'].str.split().apply(len)\n",
    "rejected_word_count = rejected_word_count.values"
   ]
  },
  {
   "cell_type": "code",
   "execution_count": 28,
   "metadata": {},
   "outputs": [
    {
     "data": {
      "image/png": "[encoded data removed]",
      "text/plain": [
       "<Figure size 432x288 with 1 Axes>"
      ]
     },
     "metadata": {},
     "output_type": "display_data"
    }
   ],
   "source": [
    "# https://glowingpython.blogspot.com/2012/09/boxplot-with-matplotlib.html\n",
    "mp.boxplot([approved_word_count, rejected_word_count])\n",
    "mp.title('Words for each essay of the project')\n",
    "mp.xticks([1,2],('Approved Projects','Rejected Projects'))\n",
    "mp.ylabel('Words in project essays')\n",
    "mp.grid()\n",
    "mp.show()"
   ]
  },
  {
   "cell_type": "markdown",
   "metadata": {},
   "source": [
    "### Summary\n",
    "1. It seems as approved projects have more words in project essays than rejected projects."
   ]
  },
  {
   "cell_type": "code",
   "execution_count": 29,
   "metadata": {},
   "outputs": [
    {
     "data": {
      "image/png": "[encoded data removed]",
      "text/plain": [
       "<Figure size 720x216 with 1 Axes>"
      ]
     },
     "metadata": {},
     "output_type": "display_data"
    }
   ],
   "source": [
    "mp.figure(figsize=(10,3))\n",
    "sns.distplot(approved_word_count, hist=False, label=\"Approved Projects\")\n",
    "sns.distplot(rejected_word_count, hist=False, label=\"Not Approved Projects\")\n",
    "\n",
    "mp.title('Words for each essay of the project')\n",
    "mp.xlabel('Number of words in each eassay')\n",
    "mp.legend()\n",
    "mp.show()"
   ]
  },
  {
   "cell_type": "markdown",
   "metadata": {},
   "source": [
    "### Summary\n",
    "1. It seems as approved projects have more words in project essays than rejected projects."
   ]
  },
  {
   "cell_type": "markdown",
   "metadata": {},
   "source": [
    "### 1.2.8 Univariate Analysis: Cost per project"
   ]
  },
  {
   "cell_type": "code",
   "execution_count": 30,
   "metadata": {},
   "outputs": [
    {
     "data": {
      "text/html": [
       "<div>\n",
       "<style scoped>\n",
       "    .dataframe tbody tr th:only-of-type {\n",
       "        vertical-align: middle;\n",
       "    }\n",
       "\n",
       "    .dataframe tbody tr th {\n",
       "        vertical-align: top;\n",
       "    }\n",
       "\n",
       "    .dataframe thead th {\n",
       "        text-align: right;\n",
       "    }\n",
       "</style>\n",
       "<table border=\"1\" class=\"dataframe\">\n",
       "  <thead>\n",
       "    <tr style=\"text-align: right;\">\n",
       "      <th></th>\n",
       "      <th>id</th>\n",
       "      <th>description</th>\n",
       "      <th>quantity</th>\n",
       "      <th>price</th>\n",
       "    </tr>\n",
       "  </thead>\n",
       "  <tbody>\n",
       "    <tr>\n",
       "      <th>0</th>\n",
       "      <td>p233245</td>\n",
       "      <td>LC652 - Lakeshore Double-Space Mobile Drying Rack</td>\n",
       "      <td>1</td>\n",
       "      <td>149.00</td>\n",
       "    </tr>\n",
       "    <tr>\n",
       "      <th>1</th>\n",
       "      <td>p069063</td>\n",
       "      <td>Bouncy Bands for Desks (Blue support pipes)</td>\n",
       "      <td>3</td>\n",
       "      <td>14.95</td>\n",
       "    </tr>\n",
       "  </tbody>\n",
       "</table>\n",
       "</div>"
      ],
      "text/plain": [
       "        id                                        description  quantity  \\\n",
       "0  p233245  LC652 - Lakeshore Double-Space Mobile Drying Rack         1   \n",
       "1  p069063        Bouncy Bands for Desks (Blue support pipes)         3   \n",
       "\n",
       "    price  \n",
       "0  149.00  \n",
       "1   14.95  "
      ]
     },
     "execution_count": 30,
     "metadata": {},
     "output_type": "execute_result"
    }
   ],
   "source": [
    "# we get the cost of the project using resource.csv file\n",
    "resource.head(2)"
   ]
  },
  {
   "cell_type": "code",
   "execution_count": 31,
   "metadata": {},
   "outputs": [
    {
     "data": {
      "text/html": [
       "<div>\n",
       "<style scoped>\n",
       "    .dataframe tbody tr th:only-of-type {\n",
       "        vertical-align: middle;\n",
       "    }\n",
       "\n",
       "    .dataframe tbody tr th {\n",
       "        vertical-align: top;\n",
       "    }\n",
       "\n",
       "    .dataframe thead th {\n",
       "        text-align: right;\n",
       "    }\n",
       "</style>\n",
       "<table border=\"1\" class=\"dataframe\">\n",
       "  <thead>\n",
       "    <tr style=\"text-align: right;\">\n",
       "      <th></th>\n",
       "      <th>id</th>\n",
       "      <th>price</th>\n",
       "      <th>quantity</th>\n",
       "    </tr>\n",
       "  </thead>\n",
       "  <tbody>\n",
       "    <tr>\n",
       "      <th>0</th>\n",
       "      <td>p000001</td>\n",
       "      <td>459.56</td>\n",
       "      <td>7</td>\n",
       "    </tr>\n",
       "    <tr>\n",
       "      <th>1</th>\n",
       "      <td>p000002</td>\n",
       "      <td>515.89</td>\n",
       "      <td>21</td>\n",
       "    </tr>\n",
       "  </tbody>\n",
       "</table>\n",
       "</div>"
      ],
      "text/plain": [
       "        id   price  quantity\n",
       "0  p000001  459.56         7\n",
       "1  p000002  515.89        21"
      ]
     },
     "execution_count": 31,
     "metadata": {},
     "output_type": "execute_result"
    }
   ],
   "source": [
    "# https://stackoverflow.com/questions/22407798/how-to-reset-a-dataframes-indexes-for-all-groups-in-one-step\n",
    "price= resource.groupby('id').agg({'price':'sum', 'quantity':'sum'}).reset_index()\n",
    "price.head(2)"
   ]
  },
  {
   "cell_type": "code",
   "execution_count": 32,
   "metadata": {},
   "outputs": [
    {
     "data": {
      "text/html": [
       "<div>\n",
       "<style scoped>\n",
       "    .dataframe tbody tr th:only-of-type {\n",
       "        vertical-align: middle;\n",
       "    }\n",
       "\n",
       "    .dataframe tbody tr th {\n",
       "        vertical-align: top;\n",
       "    }\n",
       "\n",
       "    .dataframe thead th {\n",
       "        text-align: right;\n",
       "    }\n",
       "</style>\n",
       "<table border=\"1\" class=\"dataframe\">\n",
       "  <thead>\n",
       "    <tr style=\"text-align: right;\">\n",
       "      <th></th>\n",
       "      <th>Unnamed: 0</th>\n",
       "      <th>id</th>\n",
       "      <th>teacher_id</th>\n",
       "      <th>teacher_prefix</th>\n",
       "      <th>school_state</th>\n",
       "      <th>project_submitted_datetime</th>\n",
       "      <th>project_grade_category</th>\n",
       "      <th>project_title</th>\n",
       "      <th>project_essay_1</th>\n",
       "      <th>project_essay_2</th>\n",
       "      <th>project_essay_3</th>\n",
       "      <th>project_essay_4</th>\n",
       "      <th>project_resource_summary</th>\n",
       "      <th>teacher_number_of_previously_posted_projects</th>\n",
       "      <th>project_is_approved</th>\n",
       "      <th>clean_categories</th>\n",
       "      <th>clean_subcategories</th>\n",
       "      <th>essay</th>\n",
       "      <th>price</th>\n",
       "      <th>quantity</th>\n",
       "    </tr>\n",
       "  </thead>\n",
       "  <tbody>\n",
       "    <tr>\n",
       "      <th>0</th>\n",
       "      <td>160221</td>\n",
       "      <td>p253737</td>\n",
       "      <td>c90749f5d961ff158d4b4d1e7dc665fc</td>\n",
       "      <td>Mrs.</td>\n",
       "      <td>IN</td>\n",
       "      <td>2016-12-05 13:43:57</td>\n",
       "      <td>Grades PreK-2</td>\n",
       "      <td>Educational Support for English Learners at Home</td>\n",
       "      <td>My students are English learners that are work...</td>\n",
       "      <td>\\\"The limits of your language are the limits o...</td>\n",
       "      <td>NaN</td>\n",
       "      <td>NaN</td>\n",
       "      <td>My students need opportunities to practice beg...</td>\n",
       "      <td>0</td>\n",
       "      <td>0</td>\n",
       "      <td>Literacy_Language</td>\n",
       "      <td>ESL Literacy</td>\n",
       "      <td>My students are English learners that are work...</td>\n",
       "      <td>154.60</td>\n",
       "      <td>23</td>\n",
       "    </tr>\n",
       "    <tr>\n",
       "      <th>1</th>\n",
       "      <td>140945</td>\n",
       "      <td>p258326</td>\n",
       "      <td>897464ce9ddc600bced1151f324dd63a</td>\n",
       "      <td>Mr.</td>\n",
       "      <td>FL</td>\n",
       "      <td>2016-10-25 09:22:10</td>\n",
       "      <td>Grades 6-8</td>\n",
       "      <td>Wanted: Projector for Hungry Learners</td>\n",
       "      <td>Our students arrive to our school eager to lea...</td>\n",
       "      <td>The projector we need for our school is very c...</td>\n",
       "      <td>NaN</td>\n",
       "      <td>NaN</td>\n",
       "      <td>My students need a projector to help with view...</td>\n",
       "      <td>7</td>\n",
       "      <td>1</td>\n",
       "      <td>History_Civics Health_Sports</td>\n",
       "      <td>Civics_Government TeamSports</td>\n",
       "      <td>Our students arrive to our school eager to lea...</td>\n",
       "      <td>299.00</td>\n",
       "      <td>1</td>\n",
       "    </tr>\n",
       "    <tr>\n",
       "      <th>2</th>\n",
       "      <td>21895</td>\n",
       "      <td>p182444</td>\n",
       "      <td>3465aaf82da834c0582ebd0ef8040ca0</td>\n",
       "      <td>Ms.</td>\n",
       "      <td>AZ</td>\n",
       "      <td>2016-08-31 12:03:56</td>\n",
       "      <td>Grades 6-8</td>\n",
       "      <td>Soccer Equipment for AWESOME Middle School Stu...</td>\n",
       "      <td>\\r\\n\\\"True champions aren't always the ones th...</td>\n",
       "      <td>The students on the campus come to school know...</td>\n",
       "      <td>NaN</td>\n",
       "      <td>NaN</td>\n",
       "      <td>My students need shine guards, athletic socks,...</td>\n",
       "      <td>1</td>\n",
       "      <td>0</td>\n",
       "      <td>Health_Sports</td>\n",
       "      <td>Health_Wellness TeamSports</td>\n",
       "      <td>\\r\\n\\\"True champions aren't always the ones th...</td>\n",
       "      <td>516.85</td>\n",
       "      <td>22</td>\n",
       "    </tr>\n",
       "    <tr>\n",
       "      <th>3</th>\n",
       "      <td>45</td>\n",
       "      <td>p246581</td>\n",
       "      <td>f3cb9bffbba169bef1a77b243e620b60</td>\n",
       "      <td>Mrs.</td>\n",
       "      <td>KY</td>\n",
       "      <td>2016-10-06 21:16:17</td>\n",
       "      <td>Grades PreK-2</td>\n",
       "      <td>Techie Kindergarteners</td>\n",
       "      <td>I work at a unique school filled with both ESL...</td>\n",
       "      <td>My students live in high poverty conditions wi...</td>\n",
       "      <td>NaN</td>\n",
       "      <td>NaN</td>\n",
       "      <td>My students need to engage in Reading and Math...</td>\n",
       "      <td>4</td>\n",
       "      <td>1</td>\n",
       "      <td>Literacy_Language Math_Science</td>\n",
       "      <td>Literacy Mathematics</td>\n",
       "      <td>I work at a unique school filled with both ESL...</td>\n",
       "      <td>232.90</td>\n",
       "      <td>4</td>\n",
       "    </tr>\n",
       "    <tr>\n",
       "      <th>4</th>\n",
       "      <td>172407</td>\n",
       "      <td>p104768</td>\n",
       "      <td>be1f7507a41f8479dc06f047086a39ec</td>\n",
       "      <td>Mrs.</td>\n",
       "      <td>TX</td>\n",
       "      <td>2016-07-11 01:10:09</td>\n",
       "      <td>Grades PreK-2</td>\n",
       "      <td>Interactive Math Tools</td>\n",
       "      <td>Our second grade classroom next year will be m...</td>\n",
       "      <td>For many students, math is a subject that does...</td>\n",
       "      <td>NaN</td>\n",
       "      <td>NaN</td>\n",
       "      <td>My students need hands on practice in mathemat...</td>\n",
       "      <td>1</td>\n",
       "      <td>1</td>\n",
       "      <td>Math_Science</td>\n",
       "      <td>Mathematics</td>\n",
       "      <td>Our second grade classroom next year will be m...</td>\n",
       "      <td>67.98</td>\n",
       "      <td>4</td>\n",
       "    </tr>\n",
       "    <tr>\n",
       "      <th>5</th>\n",
       "      <td>141660</td>\n",
       "      <td>p154343</td>\n",
       "      <td>a50a390e8327a95b77b9e495b58b9a6e</td>\n",
       "      <td>Mrs.</td>\n",
       "      <td>FL</td>\n",
       "      <td>2017-04-08 22:40:43</td>\n",
       "      <td>Grades 3-5</td>\n",
       "      <td>Flexible Seating for Mrs. Jarvis' Terrific Thi...</td>\n",
       "      <td>I will be moving from 2nd grade to 3rd grade a...</td>\n",
       "      <td>These flexible seating options will allow my s...</td>\n",
       "      <td>NaN</td>\n",
       "      <td>NaN</td>\n",
       "      <td>My students need movement to be successful. Be...</td>\n",
       "      <td>1</td>\n",
       "      <td>1</td>\n",
       "      <td>Literacy_Language SpecialNeeds</td>\n",
       "      <td>Literature_Writing SpecialNeeds</td>\n",
       "      <td>I will be moving from 2nd grade to 3rd grade a...</td>\n",
       "      <td>113.22</td>\n",
       "      <td>11</td>\n",
       "    </tr>\n",
       "    <tr>\n",
       "      <th>6</th>\n",
       "      <td>21147</td>\n",
       "      <td>p099819</td>\n",
       "      <td>9b40170bfa65e399981717ee8731efc3</td>\n",
       "      <td>Mrs.</td>\n",
       "      <td>CT</td>\n",
       "      <td>2017-02-17 19:58:56</td>\n",
       "      <td>Grades 6-8</td>\n",
       "      <td>Chromebooks for Special Education Reading Program</td>\n",
       "      <td>My students are a dynamic and very energetic g...</td>\n",
       "      <td>My students are an engaging and active group o...</td>\n",
       "      <td>NaN</td>\n",
       "      <td>NaN</td>\n",
       "      <td>My students need some dependable laptops for d...</td>\n",
       "      <td>1</td>\n",
       "      <td>1</td>\n",
       "      <td>Literacy_Language SpecialNeeds</td>\n",
       "      <td>Literacy SpecialNeeds</td>\n",
       "      <td>My students are a dynamic and very energetic g...</td>\n",
       "      <td>159.99</td>\n",
       "      <td>3</td>\n",
       "    </tr>\n",
       "    <tr>\n",
       "      <th>7</th>\n",
       "      <td>94142</td>\n",
       "      <td>p092424</td>\n",
       "      <td>5bfd3d12fae3d2fe88684bbac570c9d2</td>\n",
       "      <td>Ms.</td>\n",
       "      <td>GA</td>\n",
       "      <td>2016-09-01 00:02:15</td>\n",
       "      <td>Grades 3-5</td>\n",
       "      <td>It's the 21st Century</td>\n",
       "      <td>Not only do our students struggle with poverty...</td>\n",
       "      <td>My students need 4 iPads, the latest technolog...</td>\n",
       "      <td>NaN</td>\n",
       "      <td>NaN</td>\n",
       "      <td>My students need ipads to help them access a w...</td>\n",
       "      <td>7</td>\n",
       "      <td>1</td>\n",
       "      <td>Math_Science</td>\n",
       "      <td>Mathematics</td>\n",
       "      <td>Not only do our students struggle with poverty...</td>\n",
       "      <td>229.00</td>\n",
       "      <td>4</td>\n",
       "    </tr>\n",
       "    <tr>\n",
       "      <th>8</th>\n",
       "      <td>112489</td>\n",
       "      <td>p045029</td>\n",
       "      <td>487448f5226005d08d36bdd75f095b31</td>\n",
       "      <td>Mrs.</td>\n",
       "      <td>SC</td>\n",
       "      <td>2016-09-25 17:00:26</td>\n",
       "      <td>Grades PreK-2</td>\n",
       "      <td>Targeting More Success in Class</td>\n",
       "      <td>My students are enthusiastic and inquisitive l...</td>\n",
       "      <td>My second graders need extra activity time dur...</td>\n",
       "      <td>NaN</td>\n",
       "      <td>NaN</td>\n",
       "      <td>My students need three devices and three manag...</td>\n",
       "      <td>28</td>\n",
       "      <td>1</td>\n",
       "      <td>Health_Sports</td>\n",
       "      <td>Health_Wellness</td>\n",
       "      <td>My students are enthusiastic and inquisitive l...</td>\n",
       "      <td>241.98</td>\n",
       "      <td>6</td>\n",
       "    </tr>\n",
       "    <tr>\n",
       "      <th>9</th>\n",
       "      <td>158561</td>\n",
       "      <td>p001713</td>\n",
       "      <td>140eeac1885c820ad5592a409a3a8994</td>\n",
       "      <td>Ms.</td>\n",
       "      <td>NC</td>\n",
       "      <td>2016-11-17 18:18:56</td>\n",
       "      <td>Grades PreK-2</td>\n",
       "      <td>Just For the Love of Reading--\\r\\nPure Pleasure</td>\n",
       "      <td>Over 95% of my students are on free or reduced...</td>\n",
       "      <td>Reading is Fundamental! My students will read ...</td>\n",
       "      <td>NaN</td>\n",
       "      <td>NaN</td>\n",
       "      <td>My students need great books to use during Ind...</td>\n",
       "      <td>36</td>\n",
       "      <td>1</td>\n",
       "      <td>Literacy_Language</td>\n",
       "      <td>Literacy Literature_Writing</td>\n",
       "      <td>Over 95% of my students are on free or reduced...</td>\n",
       "      <td>125.36</td>\n",
       "      <td>14</td>\n",
       "    </tr>\n",
       "    <tr>\n",
       "      <th>10</th>\n",
       "      <td>43184</td>\n",
       "      <td>p040307</td>\n",
       "      <td>363788b51d40d978fe276bcb1f8a2b35</td>\n",
       "      <td>Mrs.</td>\n",
       "      <td>CA</td>\n",
       "      <td>2017-01-04 16:40:30</td>\n",
       "      <td>Grades 3-5</td>\n",
       "      <td>Reading Changes Lives</td>\n",
       "      <td>\\\"There are many little ways to enlarge your w...</td>\n",
       "      <td>I've had 8 sets of students enjoy the books in...</td>\n",
       "      <td>NaN</td>\n",
       "      <td>NaN</td>\n",
       "      <td>My students need books by their favorite autho...</td>\n",
       "      <td>37</td>\n",
       "      <td>1</td>\n",
       "      <td>Literacy_Language</td>\n",
       "      <td>Literacy</td>\n",
       "      <td>\\\"There are many little ways to enlarge your w...</td>\n",
       "      <td>100.21</td>\n",
       "      <td>10</td>\n",
       "    </tr>\n",
       "    <tr>\n",
       "      <th>11</th>\n",
       "      <td>127083</td>\n",
       "      <td>p251806</td>\n",
       "      <td>4ba7c721133ef651ca54a03551746708</td>\n",
       "      <td>Ms.</td>\n",
       "      <td>CA</td>\n",
       "      <td>2016-11-14 22:57:28</td>\n",
       "      <td>Grades PreK-2</td>\n",
       "      <td>Elevating Academics and Parent Rapports Throug...</td>\n",
       "      <td>All of our students receive free breakfast, lu...</td>\n",
       "      <td>With three chromebooks, I can teach the Common...</td>\n",
       "      <td>NaN</td>\n",
       "      <td>NaN</td>\n",
       "      <td>My students need paper, three chromebooks, and...</td>\n",
       "      <td>32</td>\n",
       "      <td>1</td>\n",
       "      <td>Literacy_Language AppliedLearning</td>\n",
       "      <td>Literacy ParentInvolvement</td>\n",
       "      <td>All of our students receive free breakfast, lu...</td>\n",
       "      <td>431.77</td>\n",
       "      <td>8</td>\n",
       "    </tr>\n",
       "    <tr>\n",
       "      <th>12</th>\n",
       "      <td>19090</td>\n",
       "      <td>p051126</td>\n",
       "      <td>5e52c92b7e3c472aad247a239d345543</td>\n",
       "      <td>Mrs.</td>\n",
       "      <td>NY</td>\n",
       "      <td>2016-05-23 15:46:02</td>\n",
       "      <td>Grades 6-8</td>\n",
       "      <td>Building Life Science Experiences</td>\n",
       "      <td>My students are always working on new projects...</td>\n",
       "      <td>My Spanish Dual Language students are always r...</td>\n",
       "      <td>NaN</td>\n",
       "      <td>NaN</td>\n",
       "      <td>My students need 3D and 4D life science activi...</td>\n",
       "      <td>5</td>\n",
       "      <td>0</td>\n",
       "      <td>Math_Science</td>\n",
       "      <td>EnvironmentalScience Health_LifeScience</td>\n",
       "      <td>My students are always working on new projects...</td>\n",
       "      <td>219.46</td>\n",
       "      <td>22</td>\n",
       "    </tr>\n",
       "    <tr>\n",
       "      <th>13</th>\n",
       "      <td>15126</td>\n",
       "      <td>p003874</td>\n",
       "      <td>178f6ae765cd4e0fb143a77c47fd65e2</td>\n",
       "      <td>Mrs.</td>\n",
       "      <td>OK</td>\n",
       "      <td>2016-10-17 09:49:27</td>\n",
       "      <td>Grades PreK-2</td>\n",
       "      <td>Everyone deserves to be heard!</td>\n",
       "      <td>I teach in a small school district in central ...</td>\n",
       "      <td>My students are smart, creative, and also have...</td>\n",
       "      <td>NaN</td>\n",
       "      <td>NaN</td>\n",
       "      <td>My students need access to technology that wil...</td>\n",
       "      <td>30</td>\n",
       "      <td>1</td>\n",
       "      <td>SpecialNeeds</td>\n",
       "      <td>SpecialNeeds</td>\n",
       "      <td>I teach in a small school district in central ...</td>\n",
       "      <td>399.99</td>\n",
       "      <td>1</td>\n",
       "    </tr>\n",
       "    <tr>\n",
       "      <th>14</th>\n",
       "      <td>62232</td>\n",
       "      <td>p233127</td>\n",
       "      <td>424819801de22a60bba7d0f4354d0258</td>\n",
       "      <td>Ms.</td>\n",
       "      <td>MA</td>\n",
       "      <td>2017-02-14 16:29:10</td>\n",
       "      <td>Grades PreK-2</td>\n",
       "      <td>TABLETS CAN SHOW US THE WORLD</td>\n",
       "      <td>My students are my babies...I want the world f...</td>\n",
       "      <td>Having this computer in the classroom would pr...</td>\n",
       "      <td>NaN</td>\n",
       "      <td>NaN</td>\n",
       "      <td>My students need 5 tablets for our classroom t...</td>\n",
       "      <td>15</td>\n",
       "      <td>0</td>\n",
       "      <td>Literacy_Language</td>\n",
       "      <td>Literacy</td>\n",
       "      <td>My students are my babies...I want the world f...</td>\n",
       "      <td>91.94</td>\n",
       "      <td>10</td>\n",
       "    </tr>\n",
       "    <tr>\n",
       "      <th>15</th>\n",
       "      <td>67303</td>\n",
       "      <td>p132832</td>\n",
       "      <td>bb6d6d054824fa01576ab38dfa2be160</td>\n",
       "      <td>Ms.</td>\n",
       "      <td>TX</td>\n",
       "      <td>2016-10-05 21:05:38</td>\n",
       "      <td>Grades 3-5</td>\n",
       "      <td>Making Recess Active</td>\n",
       "      <td>Located in West Dallas, my students face sever...</td>\n",
       "      <td>Due to the size of our school, and the tiny na...</td>\n",
       "      <td>NaN</td>\n",
       "      <td>NaN</td>\n",
       "      <td>My students need activities to play during rec...</td>\n",
       "      <td>3</td>\n",
       "      <td>1</td>\n",
       "      <td>Health_Sports</td>\n",
       "      <td>Health_Wellness</td>\n",
       "      <td>Located in West Dallas, my students face sever...</td>\n",
       "      <td>435.84</td>\n",
       "      <td>24</td>\n",
       "    </tr>\n",
       "    <tr>\n",
       "      <th>16</th>\n",
       "      <td>127215</td>\n",
       "      <td>p174627</td>\n",
       "      <td>4ad7e280fddff889e1355cc9f29c3b89</td>\n",
       "      <td>Mrs.</td>\n",
       "      <td>FL</td>\n",
       "      <td>2017-01-18 10:59:05</td>\n",
       "      <td>Grades PreK-2</td>\n",
       "      <td>Making Great LEAP's With Leapfrog!</td>\n",
       "      <td>My Preschool children, ages 3-5 years old with...</td>\n",
       "      <td>Having a set of Leapfrog iPads and educational...</td>\n",
       "      <td>NaN</td>\n",
       "      <td>NaN</td>\n",
       "      <td>My students need 2 LeapPad that will engage th...</td>\n",
       "      <td>1</td>\n",
       "      <td>1</td>\n",
       "      <td>Literacy_Language SpecialNeeds</td>\n",
       "      <td>Literacy SpecialNeeds</td>\n",
       "      <td>My Preschool children, ages 3-5 years old with...</td>\n",
       "      <td>298.43</td>\n",
       "      <td>7</td>\n",
       "    </tr>\n",
       "    <tr>\n",
       "      <th>17</th>\n",
       "      <td>157771</td>\n",
       "      <td>p152491</td>\n",
       "      <td>e39abda057354c979c5b075cffbe5f88</td>\n",
       "      <td>Ms.</td>\n",
       "      <td>NV</td>\n",
       "      <td>2016-11-23 17:14:17</td>\n",
       "      <td>Grades 3-5</td>\n",
       "      <td>Technology Teaches Tomorrow's Talents Today</td>\n",
       "      <td>My students are special because they come from...</td>\n",
       "      <td>Classroom ChromebookCar\\r\\n\\r\\nMy name is Shan...</td>\n",
       "      <td>NaN</td>\n",
       "      <td>NaN</td>\n",
       "      <td>My students need Chromebooks to publish writte...</td>\n",
       "      <td>0</td>\n",
       "      <td>1</td>\n",
       "      <td>Math_Science Literacy_Language</td>\n",
       "      <td>AppliedSciences Literature_Writing</td>\n",
       "      <td>My students are special because they come from...</td>\n",
       "      <td>158.63</td>\n",
       "      <td>12</td>\n",
       "    </tr>\n",
       "    <tr>\n",
       "      <th>18</th>\n",
       "      <td>122186</td>\n",
       "      <td>p196421</td>\n",
       "      <td>fcd9b003fc1891383f340a89da02a1a6</td>\n",
       "      <td>Mrs.</td>\n",
       "      <td>GA</td>\n",
       "      <td>2016-08-28 15:04:42</td>\n",
       "      <td>Grades PreK-2</td>\n",
       "      <td>Test Time</td>\n",
       "      <td>I teach at a Title I school in a low-income ar...</td>\n",
       "      <td>My 2nd grade students will benefit from having...</td>\n",
       "      <td>NaN</td>\n",
       "      <td>NaN</td>\n",
       "      <td>My students need privacy partitions to use whi...</td>\n",
       "      <td>0</td>\n",
       "      <td>1</td>\n",
       "      <td>AppliedLearning</td>\n",
       "      <td>EarlyDevelopment</td>\n",
       "      <td>I teach at a Title I school in a low-income ar...</td>\n",
       "      <td>59.98</td>\n",
       "      <td>4</td>\n",
       "    </tr>\n",
       "    <tr>\n",
       "      <th>19</th>\n",
       "      <td>146331</td>\n",
       "      <td>p058343</td>\n",
       "      <td>8e07a98deb1bc74c75b97521e05b1691</td>\n",
       "      <td>Ms.</td>\n",
       "      <td>OH</td>\n",
       "      <td>2016-08-06 13:05:20</td>\n",
       "      <td>Grades 3-5</td>\n",
       "      <td>Wiggling Our Way to Success</td>\n",
       "      <td>We are apart of an urban district and many of ...</td>\n",
       "      <td>Many of my students struggle to sit still for ...</td>\n",
       "      <td>NaN</td>\n",
       "      <td>NaN</td>\n",
       "      <td>My students need 7 Hokki stools to encourage a...</td>\n",
       "      <td>9</td>\n",
       "      <td>1</td>\n",
       "      <td>Health_Sports</td>\n",
       "      <td>Health_Wellness</td>\n",
       "      <td>We are apart of an urban district and many of ...</td>\n",
       "      <td>749.42</td>\n",
       "      <td>7</td>\n",
       "    </tr>\n",
       "    <tr>\n",
       "      <th>20</th>\n",
       "      <td>75560</td>\n",
       "      <td>p052326</td>\n",
       "      <td>e0c1aad1f71badeff703fadc15f57680</td>\n",
       "      <td>Mrs.</td>\n",
       "      <td>PA</td>\n",
       "      <td>2016-10-07 18:27:02</td>\n",
       "      <td>Grades PreK-2</td>\n",
       "      <td>Magic Carpet Ride in Our Library</td>\n",
       "      <td>The students in our school come from diverse b...</td>\n",
       "      <td>Each week our students love visiting the schoo...</td>\n",
       "      <td>NaN</td>\n",
       "      <td>NaN</td>\n",
       "      <td>My students need carpet in our library to brig...</td>\n",
       "      <td>23</td>\n",
       "      <td>1</td>\n",
       "      <td>Literacy_Language</td>\n",
       "      <td>Literacy</td>\n",
       "      <td>The students in our school come from diverse b...</td>\n",
       "      <td>213.85</td>\n",
       "      <td>1</td>\n",
       "    </tr>\n",
       "    <tr>\n",
       "      <th>21</th>\n",
       "      <td>132078</td>\n",
       "      <td>p187097</td>\n",
       "      <td>2d4a4d2d774e5c2fdd25b2ba0e7341f8</td>\n",
       "      <td>Mrs.</td>\n",
       "      <td>NC</td>\n",
       "      <td>2016-05-17 19:45:13</td>\n",
       "      <td>Grades 6-8</td>\n",
       "      <td>From Sitting to Standing in the Classroom</td>\n",
       "      <td>My students walk into school every day full of...</td>\n",
       "      <td>I want to purchase desks in my classroom that ...</td>\n",
       "      <td>NaN</td>\n",
       "      <td>NaN</td>\n",
       "      <td>My students need desks to stand at and be able...</td>\n",
       "      <td>0</td>\n",
       "      <td>1</td>\n",
       "      <td>Math_Science SpecialNeeds</td>\n",
       "      <td>Health_LifeScience SpecialNeeds</td>\n",
       "      <td>My students walk into school every day full of...</td>\n",
       "      <td>250.91</td>\n",
       "      <td>4</td>\n",
       "    </tr>\n",
       "    <tr>\n",
       "      <th>22</th>\n",
       "      <td>84810</td>\n",
       "      <td>p165540</td>\n",
       "      <td>30f08fbe02eba5453c4ce2e857e88eb4</td>\n",
       "      <td>Ms.</td>\n",
       "      <td>CA</td>\n",
       "      <td>2016-09-01 10:09:15</td>\n",
       "      <td>Grades 9-12</td>\n",
       "      <td>Books for Budding Intellectuals</td>\n",
       "      <td>Every day in my English classroom, we work to ...</td>\n",
       "      <td>My students need books that interest them so t...</td>\n",
       "      <td>NaN</td>\n",
       "      <td>NaN</td>\n",
       "      <td>My students need books so that they can become...</td>\n",
       "      <td>0</td>\n",
       "      <td>0</td>\n",
       "      <td>Literacy_Language</td>\n",
       "      <td>Literacy</td>\n",
       "      <td>Every day in my English classroom, we work to ...</td>\n",
       "      <td>278.09</td>\n",
       "      <td>21</td>\n",
       "    </tr>\n",
       "    <tr>\n",
       "      <th>23</th>\n",
       "      <td>8636</td>\n",
       "      <td>p219330</td>\n",
       "      <td>258ef2e6ab5ce007ac6764ce15d261ba</td>\n",
       "      <td>Mr.</td>\n",
       "      <td>AL</td>\n",
       "      <td>2017-01-10 11:41:06</td>\n",
       "      <td>Grades 6-8</td>\n",
       "      <td>Instrumental Power: Conquering STEAM!</td>\n",
       "      <td>100% of our musical students eat free breakfas...</td>\n",
       "      <td>We need classroom instruments for our band pro...</td>\n",
       "      <td>NaN</td>\n",
       "      <td>NaN</td>\n",
       "      <td>My students need these instruments to give the...</td>\n",
       "      <td>2</td>\n",
       "      <td>1</td>\n",
       "      <td>Music_Arts</td>\n",
       "      <td>Music</td>\n",
       "      <td>100% of our musical students eat free breakfas...</td>\n",
       "      <td>299.98</td>\n",
       "      <td>2</td>\n",
       "    </tr>\n",
       "    <tr>\n",
       "      <th>24</th>\n",
       "      <td>21478</td>\n",
       "      <td>p126524</td>\n",
       "      <td>74f8690562c44fc88f65f845b9fe61d0</td>\n",
       "      <td>Mrs.</td>\n",
       "      <td>FL</td>\n",
       "      <td>2017-03-31 12:34:44</td>\n",
       "      <td>Grades PreK-2</td>\n",
       "      <td>S.T.E.A.M. Challenges(Science Technology Engin...</td>\n",
       "      <td>This year, I am teaching in an EFL (Extended F...</td>\n",
       "      <td>I will use these items to create S.T.E.A.M. bi...</td>\n",
       "      <td>NaN</td>\n",
       "      <td>NaN</td>\n",
       "      <td>My students need building materials, such as g...</td>\n",
       "      <td>0</td>\n",
       "      <td>1</td>\n",
       "      <td>Math_Science</td>\n",
       "      <td>AppliedSciences Mathematics</td>\n",
       "      <td>This year, I am teaching in an EFL (Extended F...</td>\n",
       "      <td>250.00</td>\n",
       "      <td>6</td>\n",
       "    </tr>\n",
       "    <tr>\n",
       "      <th>25</th>\n",
       "      <td>20142</td>\n",
       "      <td>p009037</td>\n",
       "      <td>b8bf3507cee960d5fedcb27719df2d59</td>\n",
       "      <td>Mrs.</td>\n",
       "      <td>AL</td>\n",
       "      <td>2017-03-09 15:36:20</td>\n",
       "      <td>Grades 3-5</td>\n",
       "      <td>Math Masters!</td>\n",
       "      <td>My students are highly motivated to succeed. U...</td>\n",
       "      <td>These math games will help reinforce the skill...</td>\n",
       "      <td>NaN</td>\n",
       "      <td>NaN</td>\n",
       "      <td>My students need the learning centers and mult...</td>\n",
       "      <td>11</td>\n",
       "      <td>0</td>\n",
       "      <td>Math_Science</td>\n",
       "      <td>Mathematics</td>\n",
       "      <td>My students are highly motivated to succeed. U...</td>\n",
       "      <td>268.99</td>\n",
       "      <td>2</td>\n",
       "    </tr>\n",
       "    <tr>\n",
       "      <th>26</th>\n",
       "      <td>33903</td>\n",
       "      <td>p040091</td>\n",
       "      <td>7a0a5de5ed94e7036946b1ac3eaa99d0</td>\n",
       "      <td>Ms.</td>\n",
       "      <td>TX</td>\n",
       "      <td>2016-09-18 22:10:40</td>\n",
       "      <td>Grades PreK-2</td>\n",
       "      <td>Techy Teaching</td>\n",
       "      <td>I teach 22 bright 5 and 6 year olds. My studen...</td>\n",
       "      <td>The iPads will be effectively used to improve ...</td>\n",
       "      <td>NaN</td>\n",
       "      <td>NaN</td>\n",
       "      <td>My students need 2 ipad minis to enhance learn...</td>\n",
       "      <td>2</td>\n",
       "      <td>1</td>\n",
       "      <td>Literacy_Language Math_Science</td>\n",
       "      <td>Literacy Mathematics</td>\n",
       "      <td>I teach 22 bright 5 and 6 year olds. My studen...</td>\n",
       "      <td>280.83</td>\n",
       "      <td>4</td>\n",
       "    </tr>\n",
       "    <tr>\n",
       "      <th>27</th>\n",
       "      <td>1156</td>\n",
       "      <td>p161033</td>\n",
       "      <td>efdc3cf14d136473c9f62becc00d4cec</td>\n",
       "      <td>Teacher</td>\n",
       "      <td>LA</td>\n",
       "      <td>2016-11-06 16:02:31</td>\n",
       "      <td>Grades 3-5</td>\n",
       "      <td>4th Grade French Immersion Class Ipads</td>\n",
       "      <td>My students spend most of their day learning f...</td>\n",
       "      <td>The iPads will also be used to enhance the stu...</td>\n",
       "      <td>NaN</td>\n",
       "      <td>NaN</td>\n",
       "      <td>My students need Ipads to work in smaller grou...</td>\n",
       "      <td>2</td>\n",
       "      <td>1</td>\n",
       "      <td>Literacy_Language Math_Science</td>\n",
       "      <td>ForeignLanguages Mathematics</td>\n",
       "      <td>My students spend most of their day learning f...</td>\n",
       "      <td>660.84</td>\n",
       "      <td>7</td>\n",
       "    </tr>\n",
       "    <tr>\n",
       "      <th>28</th>\n",
       "      <td>35430</td>\n",
       "      <td>p085706</td>\n",
       "      <td>22c8184c4660f1c589bea061d14b7f35</td>\n",
       "      <td>Mrs.</td>\n",
       "      <td>GA</td>\n",
       "      <td>2017-01-27 12:34:59</td>\n",
       "      <td>Grades 9-12</td>\n",
       "      <td>Hands-On Language and Literacy</td>\n",
       "      <td>My students all have a primary diagnosis of au...</td>\n",
       "      <td>Children with autism struggle in core deficit ...</td>\n",
       "      <td>NaN</td>\n",
       "      <td>NaN</td>\n",
       "      <td>My students need to increase language and lite...</td>\n",
       "      <td>5</td>\n",
       "      <td>0</td>\n",
       "      <td>Literacy_Language SpecialNeeds</td>\n",
       "      <td>Literacy SpecialNeeds</td>\n",
       "      <td>My students all have a primary diagnosis of au...</td>\n",
       "      <td>129.98</td>\n",
       "      <td>3</td>\n",
       "    </tr>\n",
       "    <tr>\n",
       "      <th>29</th>\n",
       "      <td>22088</td>\n",
       "      <td>p032018</td>\n",
       "      <td>45f16a103f1e00b7439861d4e0728a59</td>\n",
       "      <td>Mrs.</td>\n",
       "      <td>VA</td>\n",
       "      <td>2016-07-15 12:58:40</td>\n",
       "      <td>Grades PreK-2</td>\n",
       "      <td>Basic Classroom Supplies Needed</td>\n",
       "      <td>I have an awesome group of 24 students any tea...</td>\n",
       "      <td>My students need basic school supplies such as...</td>\n",
       "      <td>NaN</td>\n",
       "      <td>NaN</td>\n",
       "      <td>My students need basic school supplies such as...</td>\n",
       "      <td>0</td>\n",
       "      <td>1</td>\n",
       "      <td>Literacy_Language AppliedLearning</td>\n",
       "      <td>Literacy Other</td>\n",
       "      <td>I have an awesome group of 24 students any tea...</td>\n",
       "      <td>86.74</td>\n",
       "      <td>53</td>\n",
       "    </tr>\n",
       "    <tr>\n",
       "      <th>...</th>\n",
       "      <td>...</td>\n",
       "      <td>...</td>\n",
       "      <td>...</td>\n",
       "      <td>...</td>\n",
       "      <td>...</td>\n",
       "      <td>...</td>\n",
       "      <td>...</td>\n",
       "      <td>...</td>\n",
       "      <td>...</td>\n",
       "      <td>...</td>\n",
       "      <td>...</td>\n",
       "      <td>...</td>\n",
       "      <td>...</td>\n",
       "      <td>...</td>\n",
       "      <td>...</td>\n",
       "      <td>...</td>\n",
       "      <td>...</td>\n",
       "      <td>...</td>\n",
       "      <td>...</td>\n",
       "      <td>...</td>\n",
       "    </tr>\n",
       "    <tr>\n",
       "      <th>109218</th>\n",
       "      <td>127181</td>\n",
       "      <td>p077978</td>\n",
       "      <td>91f5c69bf72c82edb9bc1f55596d8d95</td>\n",
       "      <td>Mrs.</td>\n",
       "      <td>IL</td>\n",
       "      <td>2017-01-10 14:08:28</td>\n",
       "      <td>Grades PreK-2</td>\n",
       "      <td>***Multi-Sensory Classroom Wish!***</td>\n",
       "      <td>My students are an amazing group of kind heart...</td>\n",
       "      <td>Our Kindergarten classroom currently lacks any...</td>\n",
       "      <td>NaN</td>\n",
       "      <td>NaN</td>\n",
       "      <td>My students need to have a multi sensory learn...</td>\n",
       "      <td>4</td>\n",
       "      <td>0</td>\n",
       "      <td>Literacy_Language</td>\n",
       "      <td>Literature_Writing</td>\n",
       "      <td>My students are an amazing group of kind heart...</td>\n",
       "      <td>747.00</td>\n",
       "      <td>3</td>\n",
       "    </tr>\n",
       "    <tr>\n",
       "      <th>109219</th>\n",
       "      <td>65838</td>\n",
       "      <td>p042022</td>\n",
       "      <td>9a6784108c76576565f46446594f99c4</td>\n",
       "      <td>Teacher</td>\n",
       "      <td>FL</td>\n",
       "      <td>2016-07-26 22:43:52</td>\n",
       "      <td>Grades PreK-2</td>\n",
       "      <td>Make Learning Fun in Grade One!</td>\n",
       "      <td>Creating an Interactive Learning Environment! ...</td>\n",
       "      <td>\\r\\n\\r\\nThese materials will provide flexible ...</td>\n",
       "      <td>NaN</td>\n",
       "      <td>NaN</td>\n",
       "      <td>My students need access to a fun, learning and...</td>\n",
       "      <td>0</td>\n",
       "      <td>0</td>\n",
       "      <td>Literacy_Language History_Civics</td>\n",
       "      <td>Literature_Writing SocialSciences</td>\n",
       "      <td>Creating an Interactive Learning Environment! ...</td>\n",
       "      <td>300.18</td>\n",
       "      <td>14</td>\n",
       "    </tr>\n",
       "    <tr>\n",
       "      <th>109220</th>\n",
       "      <td>21062</td>\n",
       "      <td>p064087</td>\n",
       "      <td>19c622a38a0cd76c2e9dbcc40541fabd</td>\n",
       "      <td>Mrs.</td>\n",
       "      <td>WI</td>\n",
       "      <td>2016-09-18 13:15:13</td>\n",
       "      <td>Grades 6-8</td>\n",
       "      <td>Hooking Young Readers with Engaging Books</td>\n",
       "      <td>Do you remember middle school?  I am sure tons...</td>\n",
       "      <td>These books will go into the hands of young re...</td>\n",
       "      <td>NaN</td>\n",
       "      <td>NaN</td>\n",
       "      <td>My students need engaging books with topics th...</td>\n",
       "      <td>3</td>\n",
       "      <td>1</td>\n",
       "      <td>Literacy_Language</td>\n",
       "      <td>Literacy</td>\n",
       "      <td>Do you remember middle school?  I am sure tons...</td>\n",
       "      <td>121.59</td>\n",
       "      <td>14</td>\n",
       "    </tr>\n",
       "    <tr>\n",
       "      <th>109221</th>\n",
       "      <td>81490</td>\n",
       "      <td>p117254</td>\n",
       "      <td>031e299278ac511616b2950fc1312a55</td>\n",
       "      <td>Teacher</td>\n",
       "      <td>NY</td>\n",
       "      <td>2016-07-03 23:09:29</td>\n",
       "      <td>Grades PreK-2</td>\n",
       "      <td>Dual language Class</td>\n",
       "      <td>Most of the students are ENL students.  This i...</td>\n",
       "      <td>These school supplies will help my students to...</td>\n",
       "      <td>NaN</td>\n",
       "      <td>NaN</td>\n",
       "      <td>My students need seat sacks to have their book...</td>\n",
       "      <td>1</td>\n",
       "      <td>1</td>\n",
       "      <td>Literacy_Language</td>\n",
       "      <td>ForeignLanguages</td>\n",
       "      <td>Most of the students are ENL students.  This i...</td>\n",
       "      <td>289.52</td>\n",
       "      <td>32</td>\n",
       "    </tr>\n",
       "    <tr>\n",
       "      <th>109222</th>\n",
       "      <td>69138</td>\n",
       "      <td>p152194</td>\n",
       "      <td>6f6e951e435aa9dc966091945414bcc4</td>\n",
       "      <td>Ms.</td>\n",
       "      <td>NC</td>\n",
       "      <td>2016-12-01 20:29:04</td>\n",
       "      <td>Grades PreK-2</td>\n",
       "      <td>Replenishing Our Supplies to Extend Our Learni...</td>\n",
       "      <td>For most of my students, this is the first tim...</td>\n",
       "      <td>For most of my students, this is their first y...</td>\n",
       "      <td>NaN</td>\n",
       "      <td>NaN</td>\n",
       "      <td>My students need classroom supplies to repleni...</td>\n",
       "      <td>34</td>\n",
       "      <td>1</td>\n",
       "      <td>Literacy_Language Math_Science</td>\n",
       "      <td>Literacy Mathematics</td>\n",
       "      <td>For most of my students, this is the first tim...</td>\n",
       "      <td>241.08</td>\n",
       "      <td>40</td>\n",
       "    </tr>\n",
       "    <tr>\n",
       "      <th>109223</th>\n",
       "      <td>5110</td>\n",
       "      <td>p041136</td>\n",
       "      <td>6db62616b4ef6efc2310088f7ea0ae14</td>\n",
       "      <td>Ms.</td>\n",
       "      <td>GA</td>\n",
       "      <td>2017-02-15 14:07:07</td>\n",
       "      <td>Grades 6-8</td>\n",
       "      <td>Hunger Busters for Students</td>\n",
       "      <td>The students that I serve are in a low-income ...</td>\n",
       "      <td>Since the students in the schools I serve are ...</td>\n",
       "      <td>NaN</td>\n",
       "      <td>NaN</td>\n",
       "      <td>My students need snacks for during the day whe...</td>\n",
       "      <td>12</td>\n",
       "      <td>1</td>\n",
       "      <td>Warmth Care_Hunger</td>\n",
       "      <td>Warmth Care_Hunger</td>\n",
       "      <td>The students that I serve are in a low-income ...</td>\n",
       "      <td>692.17</td>\n",
       "      <td>46</td>\n",
       "    </tr>\n",
       "    <tr>\n",
       "      <th>109224</th>\n",
       "      <td>109630</td>\n",
       "      <td>p257774</td>\n",
       "      <td>651866d8215616f65934aafcbee21bf5</td>\n",
       "      <td>Ms.</td>\n",
       "      <td>NY</td>\n",
       "      <td>2016-05-23 20:36:51</td>\n",
       "      <td>Grades PreK-2</td>\n",
       "      <td>STEM for 2nd Grade</td>\n",
       "      <td>My students are an amazing group of kids. Thes...</td>\n",
       "      <td>STEM is the use of science, technology, engine...</td>\n",
       "      <td>NaN</td>\n",
       "      <td>NaN</td>\n",
       "      <td>My students need STEM activities to make their...</td>\n",
       "      <td>7</td>\n",
       "      <td>1</td>\n",
       "      <td>Math_Science Literacy_Language</td>\n",
       "      <td>AppliedSciences Literacy</td>\n",
       "      <td>My students are an amazing group of kids. Thes...</td>\n",
       "      <td>915.27</td>\n",
       "      <td>7</td>\n",
       "    </tr>\n",
       "    <tr>\n",
       "      <th>109225</th>\n",
       "      <td>177841</td>\n",
       "      <td>p079425</td>\n",
       "      <td>c628dff071aa8028b08a5d4972bef2a1</td>\n",
       "      <td>Mrs.</td>\n",
       "      <td>NC</td>\n",
       "      <td>2016-11-14 21:04:43</td>\n",
       "      <td>Grades PreK-2</td>\n",
       "      <td>Together We Learn</td>\n",
       "      <td>My students come in ready to rock and roll eve...</td>\n",
       "      <td>Having two classes, that are bilingual, is ama...</td>\n",
       "      <td>NaN</td>\n",
       "      <td>NaN</td>\n",
       "      <td>My students need a whole group environment to ...</td>\n",
       "      <td>1</td>\n",
       "      <td>0</td>\n",
       "      <td>AppliedLearning Literacy_Language</td>\n",
       "      <td>CharacterEducation Literature_Writing</td>\n",
       "      <td>My students come in ready to rock and roll eve...</td>\n",
       "      <td>737.95</td>\n",
       "      <td>2</td>\n",
       "    </tr>\n",
       "    <tr>\n",
       "      <th>109226</th>\n",
       "      <td>65359</td>\n",
       "      <td>p085810</td>\n",
       "      <td>1d286ff10ee3982b2b47813f1e415ef2</td>\n",
       "      <td>Ms.</td>\n",
       "      <td>CA</td>\n",
       "      <td>2016-08-12 09:19:22</td>\n",
       "      <td>Grades 3-5</td>\n",
       "      <td>Stand Up for Learning!</td>\n",
       "      <td>My students are inquisitive, engaging 4th grad...</td>\n",
       "      <td>My students love to learn and move. Sitting in...</td>\n",
       "      <td>NaN</td>\n",
       "      <td>NaN</td>\n",
       "      <td>My students need standing desks and wobble cha...</td>\n",
       "      <td>47</td>\n",
       "      <td>1</td>\n",
       "      <td>Health_Sports</td>\n",
       "      <td>Gym_Fitness Health_Wellness</td>\n",
       "      <td>My students are inquisitive, engaging 4th grad...</td>\n",
       "      <td>379.96</td>\n",
       "      <td>9</td>\n",
       "    </tr>\n",
       "    <tr>\n",
       "      <th>109227</th>\n",
       "      <td>55643</td>\n",
       "      <td>p146149</td>\n",
       "      <td>e15cd063caa1ce11a45f2179535105f2</td>\n",
       "      <td>Mrs.</td>\n",
       "      <td>NY</td>\n",
       "      <td>2016-10-19 10:10:04</td>\n",
       "      <td>Grades 3-5</td>\n",
       "      <td>Grab a Stool...the Fun is About to Start!</td>\n",
       "      <td>My students attend a Title 1 school in Upstate...</td>\n",
       "      <td>My students are very active.  Many students at...</td>\n",
       "      <td>NaN</td>\n",
       "      <td>NaN</td>\n",
       "      <td>My students need ergonomic seats that are made...</td>\n",
       "      <td>0</td>\n",
       "      <td>1</td>\n",
       "      <td>Literacy_Language</td>\n",
       "      <td>Literacy</td>\n",
       "      <td>My students attend a Title 1 school in Upstate...</td>\n",
       "      <td>428.24</td>\n",
       "      <td>5</td>\n",
       "    </tr>\n",
       "    <tr>\n",
       "      <th>109228</th>\n",
       "      <td>103666</td>\n",
       "      <td>p191845</td>\n",
       "      <td>d0603199630760d8d0eb003108208998</td>\n",
       "      <td>Mrs.</td>\n",
       "      <td>LA</td>\n",
       "      <td>2016-10-14 18:05:17</td>\n",
       "      <td>Grades PreK-2</td>\n",
       "      <td>Technology For Flooded Kindergarten Class</td>\n",
       "      <td>Every day, my kindergarten class comes in exci...</td>\n",
       "      <td>Before the flooding, my classroom had 4 deskto...</td>\n",
       "      <td>NaN</td>\n",
       "      <td>NaN</td>\n",
       "      <td>My students need chromebooks to replace comput...</td>\n",
       "      <td>8</td>\n",
       "      <td>1</td>\n",
       "      <td>Literacy_Language Math_Science</td>\n",
       "      <td>Literacy Mathematics</td>\n",
       "      <td>Every day, my kindergarten class comes in exci...</td>\n",
       "      <td>159.43</td>\n",
       "      <td>4</td>\n",
       "    </tr>\n",
       "    <tr>\n",
       "      <th>109229</th>\n",
       "      <td>121219</td>\n",
       "      <td>p055363</td>\n",
       "      <td>523f95270c6aec82bee90e3931ceeeca</td>\n",
       "      <td>Mrs.</td>\n",
       "      <td>CO</td>\n",
       "      <td>2016-09-06 23:19:17</td>\n",
       "      <td>Grades PreK-2</td>\n",
       "      <td>Criss Cross Applesauce, we are ready to roll!</td>\n",
       "      <td>Each morning 21 loving and smiling faces walk ...</td>\n",
       "      <td>My classroom is in need of a large learning ru...</td>\n",
       "      <td>NaN</td>\n",
       "      <td>NaN</td>\n",
       "      <td>My students need a rug for whole group learnin...</td>\n",
       "      <td>0</td>\n",
       "      <td>1</td>\n",
       "      <td>Literacy_Language Math_Science</td>\n",
       "      <td>Literature_Writing Mathematics</td>\n",
       "      <td>Each morning 21 loving and smiling faces walk ...</td>\n",
       "      <td>688.00</td>\n",
       "      <td>2</td>\n",
       "    </tr>\n",
       "    <tr>\n",
       "      <th>109230</th>\n",
       "      <td>117282</td>\n",
       "      <td>p235512</td>\n",
       "      <td>ee59900af64d9244487e7ed87d0bc423</td>\n",
       "      <td>Ms.</td>\n",
       "      <td>NY</td>\n",
       "      <td>2016-08-09 21:06:33</td>\n",
       "      <td>Grades 9-12</td>\n",
       "      <td>Ipad Minis for Special Needs High School Students</td>\n",
       "      <td>can only be described as a diverse group of ch...</td>\n",
       "      <td>All of my students demonstrate a desire to lea...</td>\n",
       "      <td>NaN</td>\n",
       "      <td>NaN</td>\n",
       "      <td>My students need two Ipad minis with cases to ...</td>\n",
       "      <td>0</td>\n",
       "      <td>1</td>\n",
       "      <td>SpecialNeeds</td>\n",
       "      <td>SpecialNeeds</td>\n",
       "      <td>can only be described as a diverse group of ch...</td>\n",
       "      <td>309.60</td>\n",
       "      <td>4</td>\n",
       "    </tr>\n",
       "    <tr>\n",
       "      <th>109231</th>\n",
       "      <td>170085</td>\n",
       "      <td>p248898</td>\n",
       "      <td>9d7a4dae637d1a170778e2db1515e574</td>\n",
       "      <td>Mrs.</td>\n",
       "      <td>AZ</td>\n",
       "      <td>2016-09-17 09:58:59</td>\n",
       "      <td>Grades 9-12</td>\n",
       "      <td>Keeping Students Informed and Inspired</td>\n",
       "      <td>There is nothing better than seeing a student ...</td>\n",
       "      <td>My PE classes are very fitness based and my st...</td>\n",
       "      <td>NaN</td>\n",
       "      <td>NaN</td>\n",
       "      <td>My students need access to printed materials f...</td>\n",
       "      <td>7</td>\n",
       "      <td>1</td>\n",
       "      <td>Health_Sports</td>\n",
       "      <td>Gym_Fitness</td>\n",
       "      <td>There is nothing better than seeing a student ...</td>\n",
       "      <td>155.70</td>\n",
       "      <td>5</td>\n",
       "    </tr>\n",
       "    <tr>\n",
       "      <th>109232</th>\n",
       "      <td>36083</td>\n",
       "      <td>p204774</td>\n",
       "      <td>c116af7435274872bea9ff123a69cf6a</td>\n",
       "      <td>Mrs.</td>\n",
       "      <td>MD</td>\n",
       "      <td>2017-03-14 19:59:52</td>\n",
       "      <td>Grades 3-5</td>\n",
       "      <td>Everyone Needs to have an Opinion!</td>\n",
       "      <td>Our class is home to a diverse class of studen...</td>\n",
       "      <td>Our students struggle when it comes to writing...</td>\n",
       "      <td>NaN</td>\n",
       "      <td>NaN</td>\n",
       "      <td>My students need a set of 5 opinion picture bo...</td>\n",
       "      <td>0</td>\n",
       "      <td>1</td>\n",
       "      <td>Literacy_Language</td>\n",
       "      <td>Literacy Literature_Writing</td>\n",
       "      <td>Our class is home to a diverse class of studen...</td>\n",
       "      <td>43.20</td>\n",
       "      <td>20</td>\n",
       "    </tr>\n",
       "    <tr>\n",
       "      <th>109233</th>\n",
       "      <td>155847</td>\n",
       "      <td>p120664</td>\n",
       "      <td>b90258ab009b84e0dc11a7186d597141</td>\n",
       "      <td>Ms.</td>\n",
       "      <td>AZ</td>\n",
       "      <td>2016-12-21 16:36:26</td>\n",
       "      <td>Grades 6-8</td>\n",
       "      <td>Engagement through Tablets</td>\n",
       "      <td>My students are hard workers who strive to be ...</td>\n",
       "      <td>Having a tablet in the classroom will help my ...</td>\n",
       "      <td>NaN</td>\n",
       "      <td>NaN</td>\n",
       "      <td>My students need a tablet to increase motivati...</td>\n",
       "      <td>1</td>\n",
       "      <td>1</td>\n",
       "      <td>Math_Science History_Civics</td>\n",
       "      <td>AppliedSciences FinancialLiteracy</td>\n",
       "      <td>My students are hard workers who strive to be ...</td>\n",
       "      <td>490.05</td>\n",
       "      <td>1</td>\n",
       "    </tr>\n",
       "    <tr>\n",
       "      <th>109234</th>\n",
       "      <td>52918</td>\n",
       "      <td>p057638</td>\n",
       "      <td>dd68d9fbae85933c0173c13f66291cbe</td>\n",
       "      <td>Ms.</td>\n",
       "      <td>NY</td>\n",
       "      <td>2017-03-29 20:06:10</td>\n",
       "      <td>Grades 3-5</td>\n",
       "      <td>Developing A Growth Mindset for School Success</td>\n",
       "      <td>are kind, respectful, and eager learners. They...</td>\n",
       "      <td>These materials will make a difference in my c...</td>\n",
       "      <td>NaN</td>\n",
       "      <td>NaN</td>\n",
       "      <td>My students need story books, team building ac...</td>\n",
       "      <td>9</td>\n",
       "      <td>1</td>\n",
       "      <td>AppliedLearning</td>\n",
       "      <td>CharacterEducation</td>\n",
       "      <td>are kind, respectful, and eager learners. They...</td>\n",
       "      <td>273.72</td>\n",
       "      <td>6</td>\n",
       "    </tr>\n",
       "    <tr>\n",
       "      <th>109235</th>\n",
       "      <td>69971</td>\n",
       "      <td>p105083</td>\n",
       "      <td>9636fcacbf65eb393133a94c83c4a0d4</td>\n",
       "      <td>Mrs.</td>\n",
       "      <td>TX</td>\n",
       "      <td>2017-01-07 14:50:08</td>\n",
       "      <td>Grades PreK-2</td>\n",
       "      <td>Let's focus through movement!</td>\n",
       "      <td>As a Kindergarten teacher in a low-income/high...</td>\n",
       "      <td>After teaching kindergarten for 9 years, I hav...</td>\n",
       "      <td>NaN</td>\n",
       "      <td>NaN</td>\n",
       "      <td>My students need Bouncy Bands to help students...</td>\n",
       "      <td>1</td>\n",
       "      <td>1</td>\n",
       "      <td>AppliedLearning Literacy_Language</td>\n",
       "      <td>EarlyDevelopment Literature_Writing</td>\n",
       "      <td>As a Kindergarten teacher in a low-income/high...</td>\n",
       "      <td>11.86</td>\n",
       "      <td>24</td>\n",
       "    </tr>\n",
       "    <tr>\n",
       "      <th>109236</th>\n",
       "      <td>120581</td>\n",
       "      <td>p254202</td>\n",
       "      <td>2950019dd34581dbcddcae683e74207a</td>\n",
       "      <td>Mrs.</td>\n",
       "      <td>OH</td>\n",
       "      <td>2016-08-14 08:27:24</td>\n",
       "      <td>Grades 3-5</td>\n",
       "      <td>Portable Projector</td>\n",
       "      <td>Many students have a hard time making a connec...</td>\n",
       "      <td>I would love to have a projector to help stude...</td>\n",
       "      <td>NaN</td>\n",
       "      <td>NaN</td>\n",
       "      <td>My students need a portable projector. This wi...</td>\n",
       "      <td>6</td>\n",
       "      <td>1</td>\n",
       "      <td>SpecialNeeds</td>\n",
       "      <td>SpecialNeeds</td>\n",
       "      <td>Many students have a hard time making a connec...</td>\n",
       "      <td>269.00</td>\n",
       "      <td>1</td>\n",
       "    </tr>\n",
       "    <tr>\n",
       "      <th>109237</th>\n",
       "      <td>115336</td>\n",
       "      <td>p056813</td>\n",
       "      <td>07fd2c09f8dfcc74dbb161e1ec3df1fe</td>\n",
       "      <td>Mrs.</td>\n",
       "      <td>IN</td>\n",
       "      <td>2016-05-05 13:03:58</td>\n",
       "      <td>Grades 3-5</td>\n",
       "      <td>Choose Kindness Book Club: Wonder</td>\n",
       "      <td>\\\"You can find magic wherever you look. Sit ba...</td>\n",
       "      <td>We are the most diverse school district in Ind...</td>\n",
       "      <td>\\\"Some things you just can't explain. You don'...</td>\n",
       "      <td>I am asking for a class set of books. This wil...</td>\n",
       "      <td>My students need a class set of Wonder books, ...</td>\n",
       "      <td>4</td>\n",
       "      <td>1</td>\n",
       "      <td>Literacy_Language</td>\n",
       "      <td>ForeignLanguages Literacy</td>\n",
       "      <td>\\\"You can find magic wherever you look. Sit ba...</td>\n",
       "      <td>30.76</td>\n",
       "      <td>30</td>\n",
       "    </tr>\n",
       "    <tr>\n",
       "      <th>109238</th>\n",
       "      <td>32628</td>\n",
       "      <td>p143363</td>\n",
       "      <td>5b42211690ca8418c7c839436d0b7e49</td>\n",
       "      <td>Mrs.</td>\n",
       "      <td>WI</td>\n",
       "      <td>2016-08-01 21:17:33</td>\n",
       "      <td>Grades PreK-2</td>\n",
       "      <td>We Like to Move It, Move It! Flexible Seating ...</td>\n",
       "      <td>We are the Bucket Fillers! This means we fill ...</td>\n",
       "      <td>We like to move it, move it!  My students do N...</td>\n",
       "      <td>NaN</td>\n",
       "      <td>NaN</td>\n",
       "      <td>My students need flexible seating options like...</td>\n",
       "      <td>41</td>\n",
       "      <td>1</td>\n",
       "      <td>Health_Sports</td>\n",
       "      <td>Health_Wellness</td>\n",
       "      <td>We are the Bucket Fillers! This means we fill ...</td>\n",
       "      <td>267.50</td>\n",
       "      <td>12</td>\n",
       "    </tr>\n",
       "    <tr>\n",
       "      <th>109239</th>\n",
       "      <td>156548</td>\n",
       "      <td>p103958</td>\n",
       "      <td>8b9a9dc5bd4aa0301b0ff416e2ed29f6</td>\n",
       "      <td>Mrs.</td>\n",
       "      <td>MN</td>\n",
       "      <td>2016-08-15 17:01:00</td>\n",
       "      <td>Grades 6-8</td>\n",
       "      <td>Integrating the Arts</td>\n",
       "      <td>My students are amazing and motivated. We are ...</td>\n",
       "      <td>Our school is a creative arts integrated schoo...</td>\n",
       "      <td>NaN</td>\n",
       "      <td>NaN</td>\n",
       "      <td>My students need a green screen kit and iPad s...</td>\n",
       "      <td>6</td>\n",
       "      <td>1</td>\n",
       "      <td>Literacy_Language Math_Science</td>\n",
       "      <td>Literacy Mathematics</td>\n",
       "      <td>My students are amazing and motivated. We are ...</td>\n",
       "      <td>178.98</td>\n",
       "      <td>2</td>\n",
       "    </tr>\n",
       "    <tr>\n",
       "      <th>109240</th>\n",
       "      <td>93971</td>\n",
       "      <td>p257729</td>\n",
       "      <td>58c112dcb2f1634a4d4236bf0dcdcb31</td>\n",
       "      <td>Mrs.</td>\n",
       "      <td>MD</td>\n",
       "      <td>2016-08-25 13:09:19</td>\n",
       "      <td>Grades PreK-2</td>\n",
       "      <td>Spread the Love of Literature</td>\n",
       "      <td>Leaving your family to come to school for the ...</td>\n",
       "      <td>There is no tool as powerful as a good book. I...</td>\n",
       "      <td>NaN</td>\n",
       "      <td>NaN</td>\n",
       "      <td>My students need books to supplement the thema...</td>\n",
       "      <td>10</td>\n",
       "      <td>1</td>\n",
       "      <td>Literacy_Language</td>\n",
       "      <td>Literacy</td>\n",
       "      <td>Leaving your family to come to school for the ...</td>\n",
       "      <td>225.10</td>\n",
       "      <td>30</td>\n",
       "    </tr>\n",
       "    <tr>\n",
       "      <th>109241</th>\n",
       "      <td>36517</td>\n",
       "      <td>p180358</td>\n",
       "      <td>3e5c98480f4f39d465837b2955df6ae0</td>\n",
       "      <td>Mrs.</td>\n",
       "      <td>MD</td>\n",
       "      <td>2016-06-24 11:48:12</td>\n",
       "      <td>Grades 3-5</td>\n",
       "      <td>Read Your Heart Out!</td>\n",
       "      <td>I had a wonderful group of inquisitive and ent...</td>\n",
       "      <td>Children need to be exposed to all different t...</td>\n",
       "      <td>NaN</td>\n",
       "      <td>NaN</td>\n",
       "      <td>My students need a nonfiction leveled library ...</td>\n",
       "      <td>0</td>\n",
       "      <td>1</td>\n",
       "      <td>AppliedLearning Literacy_Language</td>\n",
       "      <td>EarlyDevelopment Literacy</td>\n",
       "      <td>I had a wonderful group of inquisitive and ent...</td>\n",
       "      <td>659.00</td>\n",
       "      <td>1</td>\n",
       "    </tr>\n",
       "    <tr>\n",
       "      <th>109242</th>\n",
       "      <td>34811</td>\n",
       "      <td>p080323</td>\n",
       "      <td>fe10e79b7aeb570dfac87eeea7e9a8f1</td>\n",
       "      <td>Mrs.</td>\n",
       "      <td>SC</td>\n",
       "      <td>2017-03-09 20:00:33</td>\n",
       "      <td>Grades PreK-2</td>\n",
       "      <td>STEM LEARNERS NEED AN IPAD MINI</td>\n",
       "      <td>My students come from a rural community in Sou...</td>\n",
       "      <td>Students will use the iPad mini for hands on S...</td>\n",
       "      <td>NaN</td>\n",
       "      <td>NaN</td>\n",
       "      <td>My students need an iPad mini anda Life Proof ...</td>\n",
       "      <td>26</td>\n",
       "      <td>1</td>\n",
       "      <td>Math_Science Literacy_Language</td>\n",
       "      <td>AppliedSciences Literacy</td>\n",
       "      <td>My students come from a rural community in Sou...</td>\n",
       "      <td>592.16</td>\n",
       "      <td>2</td>\n",
       "    </tr>\n",
       "    <tr>\n",
       "      <th>109243</th>\n",
       "      <td>38267</td>\n",
       "      <td>p048540</td>\n",
       "      <td>fadf72d6cd83ce6074f9be78a6fcd374</td>\n",
       "      <td>Mr.</td>\n",
       "      <td>MO</td>\n",
       "      <td>2016-06-17 12:02:31</td>\n",
       "      <td>Grades PreK-2</td>\n",
       "      <td>Privacy Shields Help Promote Independent Thinking</td>\n",
       "      <td>Welcome to Mr. Ramos's 2nd grade classroom! We...</td>\n",
       "      <td>I would like to start preparing my second grad...</td>\n",
       "      <td>NaN</td>\n",
       "      <td>NaN</td>\n",
       "      <td>My students need these privacy partitions to h...</td>\n",
       "      <td>0</td>\n",
       "      <td>1</td>\n",
       "      <td>Literacy_Language Math_Science</td>\n",
       "      <td>Literature_Writing Mathematics</td>\n",
       "      <td>Welcome to Mr. Ramos's 2nd grade classroom! We...</td>\n",
       "      <td>59.98</td>\n",
       "      <td>8</td>\n",
       "    </tr>\n",
       "    <tr>\n",
       "      <th>109244</th>\n",
       "      <td>169142</td>\n",
       "      <td>p166281</td>\n",
       "      <td>1984d915cc8b91aa16b4d1e6e39296c6</td>\n",
       "      <td>Ms.</td>\n",
       "      <td>NJ</td>\n",
       "      <td>2017-01-11 12:49:39</td>\n",
       "      <td>Grades PreK-2</td>\n",
       "      <td>Technology in Our Classroom</td>\n",
       "      <td>Every morning, we start our day with our core ...</td>\n",
       "      <td>In this technological age, we need to give our...</td>\n",
       "      <td>NaN</td>\n",
       "      <td>NaN</td>\n",
       "      <td>My students need two iPad's and protective cas...</td>\n",
       "      <td>0</td>\n",
       "      <td>1</td>\n",
       "      <td>Literacy_Language Math_Science</td>\n",
       "      <td>Literacy Mathematics</td>\n",
       "      <td>Every morning, we start our day with our core ...</td>\n",
       "      <td>846.32</td>\n",
       "      <td>4</td>\n",
       "    </tr>\n",
       "    <tr>\n",
       "      <th>109245</th>\n",
       "      <td>143653</td>\n",
       "      <td>p155633</td>\n",
       "      <td>cdbfd04aa041dc6739e9e576b1fb1478</td>\n",
       "      <td>Mrs.</td>\n",
       "      <td>NJ</td>\n",
       "      <td>2016-08-25 17:11:32</td>\n",
       "      <td>Grades PreK-2</td>\n",
       "      <td>2016/2017 Beginning of the Year Basics</td>\n",
       "      <td>This is a great group of sharing and caring st...</td>\n",
       "      <td>My students learn about special events, holida...</td>\n",
       "      <td>NaN</td>\n",
       "      <td>NaN</td>\n",
       "      <td>My students need giant comfy pillows in order ...</td>\n",
       "      <td>3</td>\n",
       "      <td>1</td>\n",
       "      <td>Literacy_Language Math_Science</td>\n",
       "      <td>Literacy Mathematics</td>\n",
       "      <td>This is a great group of sharing and caring st...</td>\n",
       "      <td>239.96</td>\n",
       "      <td>4</td>\n",
       "    </tr>\n",
       "    <tr>\n",
       "      <th>109246</th>\n",
       "      <td>164599</td>\n",
       "      <td>p206114</td>\n",
       "      <td>6d5675dbfafa1371f0e2f6f1b716fe2d</td>\n",
       "      <td>Mrs.</td>\n",
       "      <td>NY</td>\n",
       "      <td>2016-07-29 17:53:15</td>\n",
       "      <td>Grades 3-5</td>\n",
       "      <td>Flexible Seating in Inclusive Classroom</td>\n",
       "      <td>Our students live in a small rural community. ...</td>\n",
       "      <td>Flexible classroom seating has been researched...</td>\n",
       "      <td>NaN</td>\n",
       "      <td>NaN</td>\n",
       "      <td>My students need flexible seating options: bea...</td>\n",
       "      <td>0</td>\n",
       "      <td>1</td>\n",
       "      <td>Health_Sports SpecialNeeds</td>\n",
       "      <td>Health_Wellness SpecialNeeds</td>\n",
       "      <td>Our students live in a small rural community. ...</td>\n",
       "      <td>73.05</td>\n",
       "      <td>16</td>\n",
       "    </tr>\n",
       "    <tr>\n",
       "      <th>109247</th>\n",
       "      <td>128381</td>\n",
       "      <td>p191189</td>\n",
       "      <td>ca25d5573f2bd2660f7850a886395927</td>\n",
       "      <td>Ms.</td>\n",
       "      <td>VA</td>\n",
       "      <td>2016-06-29 09:17:01</td>\n",
       "      <td>Grades 6-8</td>\n",
       "      <td>Classroom Tech to Develop 21st Century Leaders</td>\n",
       "      <td>When was the last time that you used math? Pro...</td>\n",
       "      <td>According to Forbes Magazine (2014), companies...</td>\n",
       "      <td>NaN</td>\n",
       "      <td>NaN</td>\n",
       "      <td>My students need opportunities to work with te...</td>\n",
       "      <td>0</td>\n",
       "      <td>1</td>\n",
       "      <td>AppliedLearning Math_Science</td>\n",
       "      <td>College_CareerPrep Mathematics</td>\n",
       "      <td>When was the last time that you used math? Pro...</td>\n",
       "      <td>109.90</td>\n",
       "      <td>5</td>\n",
       "    </tr>\n",
       "  </tbody>\n",
       "</table>\n",
       "<p>109248 rows × 20 columns</p>\n",
       "</div>"
      ],
      "text/plain": [
       "        Unnamed: 0       id                        teacher_id teacher_prefix  \\\n",
       "0           160221  p253737  c90749f5d961ff158d4b4d1e7dc665fc           Mrs.   \n",
       "1           140945  p258326  897464ce9ddc600bced1151f324dd63a            Mr.   \n",
       "2            21895  p182444  3465aaf82da834c0582ebd0ef8040ca0            Ms.   \n",
       "3               45  p246581  f3cb9bffbba169bef1a77b243e620b60           Mrs.   \n",
       "4           172407  p104768  be1f7507a41f8479dc06f047086a39ec           Mrs.   \n",
       "5           141660  p154343  a50a390e8327a95b77b9e495b58b9a6e           Mrs.   \n",
       "6            21147  p099819  9b40170bfa65e399981717ee8731efc3           Mrs.   \n",
       "7            94142  p092424  5bfd3d12fae3d2fe88684bbac570c9d2            Ms.   \n",
       "8           112489  p045029  487448f5226005d08d36bdd75f095b31           Mrs.   \n",
       "9           158561  p001713  140eeac1885c820ad5592a409a3a8994            Ms.   \n",
       "10           43184  p040307  363788b51d40d978fe276bcb1f8a2b35           Mrs.   \n",
       "11          127083  p251806  4ba7c721133ef651ca54a03551746708            Ms.   \n",
       "12           19090  p051126  5e52c92b7e3c472aad247a239d345543           Mrs.   \n",
       "13           15126  p003874  178f6ae765cd4e0fb143a77c47fd65e2           Mrs.   \n",
       "14           62232  p233127  424819801de22a60bba7d0f4354d0258            Ms.   \n",
       "15           67303  p132832  bb6d6d054824fa01576ab38dfa2be160            Ms.   \n",
       "16          127215  p174627  4ad7e280fddff889e1355cc9f29c3b89           Mrs.   \n",
       "17          157771  p152491  e39abda057354c979c5b075cffbe5f88            Ms.   \n",
       "18          122186  p196421  fcd9b003fc1891383f340a89da02a1a6           Mrs.   \n",
       "19          146331  p058343  8e07a98deb1bc74c75b97521e05b1691            Ms.   \n",
       "20           75560  p052326  e0c1aad1f71badeff703fadc15f57680           Mrs.   \n",
       "21          132078  p187097  2d4a4d2d774e5c2fdd25b2ba0e7341f8           Mrs.   \n",
       "22           84810  p165540  30f08fbe02eba5453c4ce2e857e88eb4            Ms.   \n",
       "23            8636  p219330  258ef2e6ab5ce007ac6764ce15d261ba            Mr.   \n",
       "24           21478  p126524  74f8690562c44fc88f65f845b9fe61d0           Mrs.   \n",
       "25           20142  p009037  b8bf3507cee960d5fedcb27719df2d59           Mrs.   \n",
       "26           33903  p040091  7a0a5de5ed94e7036946b1ac3eaa99d0            Ms.   \n",
       "27            1156  p161033  efdc3cf14d136473c9f62becc00d4cec        Teacher   \n",
       "28           35430  p085706  22c8184c4660f1c589bea061d14b7f35           Mrs.   \n",
       "29           22088  p032018  45f16a103f1e00b7439861d4e0728a59           Mrs.   \n",
       "...            ...      ...                               ...            ...   \n",
       "109218      127181  p077978  91f5c69bf72c82edb9bc1f55596d8d95           Mrs.   \n",
       "109219       65838  p042022  9a6784108c76576565f46446594f99c4        Teacher   \n",
       "109220       21062  p064087  19c622a38a0cd76c2e9dbcc40541fabd           Mrs.   \n",
       "109221       81490  p117254  031e299278ac511616b2950fc1312a55        Teacher   \n",
       "109222       69138  p152194  6f6e951e435aa9dc966091945414bcc4            Ms.   \n",
       "109223        5110  p041136  6db62616b4ef6efc2310088f7ea0ae14            Ms.   \n",
       "109224      109630  p257774  651866d8215616f65934aafcbee21bf5            Ms.   \n",
       "109225      177841  p079425  c628dff071aa8028b08a5d4972bef2a1           Mrs.   \n",
       "109226       65359  p085810  1d286ff10ee3982b2b47813f1e415ef2            Ms.   \n",
       "109227       55643  p146149  e15cd063caa1ce11a45f2179535105f2           Mrs.   \n",
       "109228      103666  p191845  d0603199630760d8d0eb003108208998           Mrs.   \n",
       "109229      121219  p055363  523f95270c6aec82bee90e3931ceeeca           Mrs.   \n",
       "109230      117282  p235512  ee59900af64d9244487e7ed87d0bc423            Ms.   \n",
       "109231      170085  p248898  9d7a4dae637d1a170778e2db1515e574           Mrs.   \n",
       "109232       36083  p204774  c116af7435274872bea9ff123a69cf6a           Mrs.   \n",
       "109233      155847  p120664  b90258ab009b84e0dc11a7186d597141            Ms.   \n",
       "109234       52918  p057638  dd68d9fbae85933c0173c13f66291cbe            Ms.   \n",
       "109235       69971  p105083  9636fcacbf65eb393133a94c83c4a0d4           Mrs.   \n",
       "109236      120581  p254202  2950019dd34581dbcddcae683e74207a           Mrs.   \n",
       "109237      115336  p056813  07fd2c09f8dfcc74dbb161e1ec3df1fe           Mrs.   \n",
       "109238       32628  p143363  5b42211690ca8418c7c839436d0b7e49           Mrs.   \n",
       "109239      156548  p103958  8b9a9dc5bd4aa0301b0ff416e2ed29f6           Mrs.   \n",
       "109240       93971  p257729  58c112dcb2f1634a4d4236bf0dcdcb31           Mrs.   \n",
       "109241       36517  p180358  3e5c98480f4f39d465837b2955df6ae0           Mrs.   \n",
       "109242       34811  p080323  fe10e79b7aeb570dfac87eeea7e9a8f1           Mrs.   \n",
       "109243       38267  p048540  fadf72d6cd83ce6074f9be78a6fcd374            Mr.   \n",
       "109244      169142  p166281  1984d915cc8b91aa16b4d1e6e39296c6            Ms.   \n",
       "109245      143653  p155633  cdbfd04aa041dc6739e9e576b1fb1478           Mrs.   \n",
       "109246      164599  p206114  6d5675dbfafa1371f0e2f6f1b716fe2d           Mrs.   \n",
       "109247      128381  p191189  ca25d5573f2bd2660f7850a886395927            Ms.   \n",
       "\n",
       "       school_state project_submitted_datetime project_grade_category  \\\n",
       "0                IN        2016-12-05 13:43:57          Grades PreK-2   \n",
       "1                FL        2016-10-25 09:22:10             Grades 6-8   \n",
       "2                AZ        2016-08-31 12:03:56             Grades 6-8   \n",
       "3                KY        2016-10-06 21:16:17          Grades PreK-2   \n",
       "4                TX        2016-07-11 01:10:09          Grades PreK-2   \n",
       "5                FL        2017-04-08 22:40:43             Grades 3-5   \n",
       "6                CT        2017-02-17 19:58:56             Grades 6-8   \n",
       "7                GA        2016-09-01 00:02:15             Grades 3-5   \n",
       "8                SC        2016-09-25 17:00:26          Grades PreK-2   \n",
       "9                NC        2016-11-17 18:18:56          Grades PreK-2   \n",
       "10               CA        2017-01-04 16:40:30             Grades 3-5   \n",
       "11               CA        2016-11-14 22:57:28          Grades PreK-2   \n",
       "12               NY        2016-05-23 15:46:02             Grades 6-8   \n",
       "13               OK        2016-10-17 09:49:27          Grades PreK-2   \n",
       "14               MA        2017-02-14 16:29:10          Grades PreK-2   \n",
       "15               TX        2016-10-05 21:05:38             Grades 3-5   \n",
       "16               FL        2017-01-18 10:59:05          Grades PreK-2   \n",
       "17               NV        2016-11-23 17:14:17             Grades 3-5   \n",
       "18               GA        2016-08-28 15:04:42          Grades PreK-2   \n",
       "19               OH        2016-08-06 13:05:20             Grades 3-5   \n",
       "20               PA        2016-10-07 18:27:02          Grades PreK-2   \n",
       "21               NC        2016-05-17 19:45:13             Grades 6-8   \n",
       "22               CA        2016-09-01 10:09:15            Grades 9-12   \n",
       "23               AL        2017-01-10 11:41:06             Grades 6-8   \n",
       "24               FL        2017-03-31 12:34:44          Grades PreK-2   \n",
       "25               AL        2017-03-09 15:36:20             Grades 3-5   \n",
       "26               TX        2016-09-18 22:10:40          Grades PreK-2   \n",
       "27               LA        2016-11-06 16:02:31             Grades 3-5   \n",
       "28               GA        2017-01-27 12:34:59            Grades 9-12   \n",
       "29               VA        2016-07-15 12:58:40          Grades PreK-2   \n",
       "...             ...                        ...                    ...   \n",
       "109218           IL        2017-01-10 14:08:28          Grades PreK-2   \n",
       "109219           FL        2016-07-26 22:43:52          Grades PreK-2   \n",
       "109220           WI        2016-09-18 13:15:13             Grades 6-8   \n",
       "109221           NY        2016-07-03 23:09:29          Grades PreK-2   \n",
       "109222           NC        2016-12-01 20:29:04          Grades PreK-2   \n",
       "109223           GA        2017-02-15 14:07:07             Grades 6-8   \n",
       "109224           NY        2016-05-23 20:36:51          Grades PreK-2   \n",
       "109225           NC        2016-11-14 21:04:43          Grades PreK-2   \n",
       "109226           CA        2016-08-12 09:19:22             Grades 3-5   \n",
       "109227           NY        2016-10-19 10:10:04             Grades 3-5   \n",
       "109228           LA        2016-10-14 18:05:17          Grades PreK-2   \n",
       "109229           CO        2016-09-06 23:19:17          Grades PreK-2   \n",
       "109230           NY        2016-08-09 21:06:33            Grades 9-12   \n",
       "109231           AZ        2016-09-17 09:58:59            Grades 9-12   \n",
       "109232           MD        2017-03-14 19:59:52             Grades 3-5   \n",
       "109233           AZ        2016-12-21 16:36:26             Grades 6-8   \n",
       "109234           NY        2017-03-29 20:06:10             Grades 3-5   \n",
       "109235           TX        2017-01-07 14:50:08          Grades PreK-2   \n",
       "109236           OH        2016-08-14 08:27:24             Grades 3-5   \n",
       "109237           IN        2016-05-05 13:03:58             Grades 3-5   \n",
       "109238           WI        2016-08-01 21:17:33          Grades PreK-2   \n",
       "109239           MN        2016-08-15 17:01:00             Grades 6-8   \n",
       "109240           MD        2016-08-25 13:09:19          Grades PreK-2   \n",
       "109241           MD        2016-06-24 11:48:12             Grades 3-5   \n",
       "109242           SC        2017-03-09 20:00:33          Grades PreK-2   \n",
       "109243           MO        2016-06-17 12:02:31          Grades PreK-2   \n",
       "109244           NJ        2017-01-11 12:49:39          Grades PreK-2   \n",
       "109245           NJ        2016-08-25 17:11:32          Grades PreK-2   \n",
       "109246           NY        2016-07-29 17:53:15             Grades 3-5   \n",
       "109247           VA        2016-06-29 09:17:01             Grades 6-8   \n",
       "\n",
       "                                            project_title  \\\n",
       "0        Educational Support for English Learners at Home   \n",
       "1                   Wanted: Projector for Hungry Learners   \n",
       "2       Soccer Equipment for AWESOME Middle School Stu...   \n",
       "3                                  Techie Kindergarteners   \n",
       "4                                  Interactive Math Tools   \n",
       "5       Flexible Seating for Mrs. Jarvis' Terrific Thi...   \n",
       "6       Chromebooks for Special Education Reading Program   \n",
       "7                                   It's the 21st Century   \n",
       "8                         Targeting More Success in Class   \n",
       "9         Just For the Love of Reading--\\r\\nPure Pleasure   \n",
       "10                                  Reading Changes Lives   \n",
       "11      Elevating Academics and Parent Rapports Throug...   \n",
       "12                      Building Life Science Experiences   \n",
       "13                         Everyone deserves to be heard!   \n",
       "14                          TABLETS CAN SHOW US THE WORLD   \n",
       "15                                   Making Recess Active   \n",
       "16                     Making Great LEAP's With Leapfrog!   \n",
       "17            Technology Teaches Tomorrow's Talents Today   \n",
       "18                                              Test Time   \n",
       "19                            Wiggling Our Way to Success   \n",
       "20                       Magic Carpet Ride in Our Library   \n",
       "21              From Sitting to Standing in the Classroom   \n",
       "22                        Books for Budding Intellectuals   \n",
       "23                  Instrumental Power: Conquering STEAM!   \n",
       "24      S.T.E.A.M. Challenges(Science Technology Engin...   \n",
       "25                                          Math Masters!   \n",
       "26                                         Techy Teaching   \n",
       "27                 4th Grade French Immersion Class Ipads   \n",
       "28                         Hands-On Language and Literacy   \n",
       "29                        Basic Classroom Supplies Needed   \n",
       "...                                                   ...   \n",
       "109218                ***Multi-Sensory Classroom Wish!***   \n",
       "109219                    Make Learning Fun in Grade One!   \n",
       "109220          Hooking Young Readers with Engaging Books   \n",
       "109221                                Dual language Class   \n",
       "109222  Replenishing Our Supplies to Extend Our Learni...   \n",
       "109223                        Hunger Busters for Students   \n",
       "109224                                 STEM for 2nd Grade   \n",
       "109225                                  Together We Learn   \n",
       "109226                             Stand Up for Learning!   \n",
       "109227          Grab a Stool...the Fun is About to Start!   \n",
       "109228          Technology For Flooded Kindergarten Class   \n",
       "109229      Criss Cross Applesauce, we are ready to roll!   \n",
       "109230  Ipad Minis for Special Needs High School Students   \n",
       "109231             Keeping Students Informed and Inspired   \n",
       "109232                 Everyone Needs to have an Opinion!   \n",
       "109233                         Engagement through Tablets   \n",
       "109234     Developing A Growth Mindset for School Success   \n",
       "109235                      Let's focus through movement!   \n",
       "109236                                 Portable Projector   \n",
       "109237                  Choose Kindness Book Club: Wonder   \n",
       "109238  We Like to Move It, Move It! Flexible Seating ...   \n",
       "109239                               Integrating the Arts   \n",
       "109240                      Spread the Love of Literature   \n",
       "109241                               Read Your Heart Out!   \n",
       "109242                    STEM LEARNERS NEED AN IPAD MINI   \n",
       "109243  Privacy Shields Help Promote Independent Thinking   \n",
       "109244                        Technology in Our Classroom   \n",
       "109245             2016/2017 Beginning of the Year Basics   \n",
       "109246            Flexible Seating in Inclusive Classroom   \n",
       "109247     Classroom Tech to Develop 21st Century Leaders   \n",
       "\n",
       "                                          project_essay_1  \\\n",
       "0       My students are English learners that are work...   \n",
       "1       Our students arrive to our school eager to lea...   \n",
       "2       \\r\\n\\\"True champions aren't always the ones th...   \n",
       "3       I work at a unique school filled with both ESL...   \n",
       "4       Our second grade classroom next year will be m...   \n",
       "5       I will be moving from 2nd grade to 3rd grade a...   \n",
       "6       My students are a dynamic and very energetic g...   \n",
       "7       Not only do our students struggle with poverty...   \n",
       "8       My students are enthusiastic and inquisitive l...   \n",
       "9       Over 95% of my students are on free or reduced...   \n",
       "10      \\\"There are many little ways to enlarge your w...   \n",
       "11      All of our students receive free breakfast, lu...   \n",
       "12      My students are always working on new projects...   \n",
       "13      I teach in a small school district in central ...   \n",
       "14      My students are my babies...I want the world f...   \n",
       "15      Located in West Dallas, my students face sever...   \n",
       "16      My Preschool children, ages 3-5 years old with...   \n",
       "17      My students are special because they come from...   \n",
       "18      I teach at a Title I school in a low-income ar...   \n",
       "19      We are apart of an urban district and many of ...   \n",
       "20      The students in our school come from diverse b...   \n",
       "21      My students walk into school every day full of...   \n",
       "22      Every day in my English classroom, we work to ...   \n",
       "23      100% of our musical students eat free breakfas...   \n",
       "24      This year, I am teaching in an EFL (Extended F...   \n",
       "25      My students are highly motivated to succeed. U...   \n",
       "26      I teach 22 bright 5 and 6 year olds. My studen...   \n",
       "27      My students spend most of their day learning f...   \n",
       "28      My students all have a primary diagnosis of au...   \n",
       "29      I have an awesome group of 24 students any tea...   \n",
       "...                                                   ...   \n",
       "109218  My students are an amazing group of kind heart...   \n",
       "109219  Creating an Interactive Learning Environment! ...   \n",
       "109220  Do you remember middle school?  I am sure tons...   \n",
       "109221  Most of the students are ENL students.  This i...   \n",
       "109222  For most of my students, this is the first tim...   \n",
       "109223  The students that I serve are in a low-income ...   \n",
       "109224  My students are an amazing group of kids. Thes...   \n",
       "109225  My students come in ready to rock and roll eve...   \n",
       "109226  My students are inquisitive, engaging 4th grad...   \n",
       "109227  My students attend a Title 1 school in Upstate...   \n",
       "109228  Every day, my kindergarten class comes in exci...   \n",
       "109229  Each morning 21 loving and smiling faces walk ...   \n",
       "109230  can only be described as a diverse group of ch...   \n",
       "109231  There is nothing better than seeing a student ...   \n",
       "109232  Our class is home to a diverse class of studen...   \n",
       "109233  My students are hard workers who strive to be ...   \n",
       "109234  are kind, respectful, and eager learners. They...   \n",
       "109235  As a Kindergarten teacher in a low-income/high...   \n",
       "109236  Many students have a hard time making a connec...   \n",
       "109237  \\\"You can find magic wherever you look. Sit ba...   \n",
       "109238  We are the Bucket Fillers! This means we fill ...   \n",
       "109239  My students are amazing and motivated. We are ...   \n",
       "109240  Leaving your family to come to school for the ...   \n",
       "109241  I had a wonderful group of inquisitive and ent...   \n",
       "109242  My students come from a rural community in Sou...   \n",
       "109243  Welcome to Mr. Ramos's 2nd grade classroom! We...   \n",
       "109244  Every morning, we start our day with our core ...   \n",
       "109245  This is a great group of sharing and caring st...   \n",
       "109246  Our students live in a small rural community. ...   \n",
       "109247  When was the last time that you used math? Pro...   \n",
       "\n",
       "                                          project_essay_2  \\\n",
       "0       \\\"The limits of your language are the limits o...   \n",
       "1       The projector we need for our school is very c...   \n",
       "2       The students on the campus come to school know...   \n",
       "3       My students live in high poverty conditions wi...   \n",
       "4       For many students, math is a subject that does...   \n",
       "5       These flexible seating options will allow my s...   \n",
       "6       My students are an engaging and active group o...   \n",
       "7       My students need 4 iPads, the latest technolog...   \n",
       "8       My second graders need extra activity time dur...   \n",
       "9       Reading is Fundamental! My students will read ...   \n",
       "10      I've had 8 sets of students enjoy the books in...   \n",
       "11      With three chromebooks, I can teach the Common...   \n",
       "12      My Spanish Dual Language students are always r...   \n",
       "13      My students are smart, creative, and also have...   \n",
       "14      Having this computer in the classroom would pr...   \n",
       "15      Due to the size of our school, and the tiny na...   \n",
       "16      Having a set of Leapfrog iPads and educational...   \n",
       "17      Classroom ChromebookCar\\r\\n\\r\\nMy name is Shan...   \n",
       "18      My 2nd grade students will benefit from having...   \n",
       "19      Many of my students struggle to sit still for ...   \n",
       "20      Each week our students love visiting the schoo...   \n",
       "21      I want to purchase desks in my classroom that ...   \n",
       "22      My students need books that interest them so t...   \n",
       "23      We need classroom instruments for our band pro...   \n",
       "24      I will use these items to create S.T.E.A.M. bi...   \n",
       "25      These math games will help reinforce the skill...   \n",
       "26      The iPads will be effectively used to improve ...   \n",
       "27      The iPads will also be used to enhance the stu...   \n",
       "28      Children with autism struggle in core deficit ...   \n",
       "29      My students need basic school supplies such as...   \n",
       "...                                                   ...   \n",
       "109218  Our Kindergarten classroom currently lacks any...   \n",
       "109219  \\r\\n\\r\\nThese materials will provide flexible ...   \n",
       "109220  These books will go into the hands of young re...   \n",
       "109221  These school supplies will help my students to...   \n",
       "109222  For most of my students, this is their first y...   \n",
       "109223  Since the students in the schools I serve are ...   \n",
       "109224  STEM is the use of science, technology, engine...   \n",
       "109225  Having two classes, that are bilingual, is ama...   \n",
       "109226  My students love to learn and move. Sitting in...   \n",
       "109227  My students are very active.  Many students at...   \n",
       "109228  Before the flooding, my classroom had 4 deskto...   \n",
       "109229  My classroom is in need of a large learning ru...   \n",
       "109230  All of my students demonstrate a desire to lea...   \n",
       "109231  My PE classes are very fitness based and my st...   \n",
       "109232  Our students struggle when it comes to writing...   \n",
       "109233  Having a tablet in the classroom will help my ...   \n",
       "109234  These materials will make a difference in my c...   \n",
       "109235  After teaching kindergarten for 9 years, I hav...   \n",
       "109236  I would love to have a projector to help stude...   \n",
       "109237  We are the most diverse school district in Ind...   \n",
       "109238  We like to move it, move it!  My students do N...   \n",
       "109239  Our school is a creative arts integrated schoo...   \n",
       "109240  There is no tool as powerful as a good book. I...   \n",
       "109241  Children need to be exposed to all different t...   \n",
       "109242  Students will use the iPad mini for hands on S...   \n",
       "109243  I would like to start preparing my second grad...   \n",
       "109244  In this technological age, we need to give our...   \n",
       "109245  My students learn about special events, holida...   \n",
       "109246  Flexible classroom seating has been researched...   \n",
       "109247  According to Forbes Magazine (2014), companies...   \n",
       "\n",
       "                                          project_essay_3  \\\n",
       "0                                                     NaN   \n",
       "1                                                     NaN   \n",
       "2                                                     NaN   \n",
       "3                                                     NaN   \n",
       "4                                                     NaN   \n",
       "5                                                     NaN   \n",
       "6                                                     NaN   \n",
       "7                                                     NaN   \n",
       "8                                                     NaN   \n",
       "9                                                     NaN   \n",
       "10                                                    NaN   \n",
       "11                                                    NaN   \n",
       "12                                                    NaN   \n",
       "13                                                    NaN   \n",
       "14                                                    NaN   \n",
       "15                                                    NaN   \n",
       "16                                                    NaN   \n",
       "17                                                    NaN   \n",
       "18                                                    NaN   \n",
       "19                                                    NaN   \n",
       "20                                                    NaN   \n",
       "21                                                    NaN   \n",
       "22                                                    NaN   \n",
       "23                                                    NaN   \n",
       "24                                                    NaN   \n",
       "25                                                    NaN   \n",
       "26                                                    NaN   \n",
       "27                                                    NaN   \n",
       "28                                                    NaN   \n",
       "29                                                    NaN   \n",
       "...                                                   ...   \n",
       "109218                                                NaN   \n",
       "109219                                                NaN   \n",
       "109220                                                NaN   \n",
       "109221                                                NaN   \n",
       "109222                                                NaN   \n",
       "109223                                                NaN   \n",
       "109224                                                NaN   \n",
       "109225                                                NaN   \n",
       "109226                                                NaN   \n",
       "109227                                                NaN   \n",
       "109228                                                NaN   \n",
       "109229                                                NaN   \n",
       "109230                                                NaN   \n",
       "109231                                                NaN   \n",
       "109232                                                NaN   \n",
       "109233                                                NaN   \n",
       "109234                                                NaN   \n",
       "109235                                                NaN   \n",
       "109236                                                NaN   \n",
       "109237  \\\"Some things you just can't explain. You don'...   \n",
       "109238                                                NaN   \n",
       "109239                                                NaN   \n",
       "109240                                                NaN   \n",
       "109241                                                NaN   \n",
       "109242                                                NaN   \n",
       "109243                                                NaN   \n",
       "109244                                                NaN   \n",
       "109245                                                NaN   \n",
       "109246                                                NaN   \n",
       "109247                                                NaN   \n",
       "\n",
       "                                          project_essay_4  \\\n",
       "0                                                     NaN   \n",
       "1                                                     NaN   \n",
       "2                                                     NaN   \n",
       "3                                                     NaN   \n",
       "4                                                     NaN   \n",
       "5                                                     NaN   \n",
       "6                                                     NaN   \n",
       "7                                                     NaN   \n",
       "8                                                     NaN   \n",
       "9                                                     NaN   \n",
       "10                                                    NaN   \n",
       "11                                                    NaN   \n",
       "12                                                    NaN   \n",
       "13                                                    NaN   \n",
       "14                                                    NaN   \n",
       "15                                                    NaN   \n",
       "16                                                    NaN   \n",
       "17                                                    NaN   \n",
       "18                                                    NaN   \n",
       "19                                                    NaN   \n",
       "20                                                    NaN   \n",
       "21                                                    NaN   \n",
       "22                                                    NaN   \n",
       "23                                                    NaN   \n",
       "24                                                    NaN   \n",
       "25                                                    NaN   \n",
       "26                                                    NaN   \n",
       "27                                                    NaN   \n",
       "28                                                    NaN   \n",
       "29                                                    NaN   \n",
       "...                                                   ...   \n",
       "109218                                                NaN   \n",
       "109219                                                NaN   \n",
       "109220                                                NaN   \n",
       "109221                                                NaN   \n",
       "109222                                                NaN   \n",
       "109223                                                NaN   \n",
       "109224                                                NaN   \n",
       "109225                                                NaN   \n",
       "109226                                                NaN   \n",
       "109227                                                NaN   \n",
       "109228                                                NaN   \n",
       "109229                                                NaN   \n",
       "109230                                                NaN   \n",
       "109231                                                NaN   \n",
       "109232                                                NaN   \n",
       "109233                                                NaN   \n",
       "109234                                                NaN   \n",
       "109235                                                NaN   \n",
       "109236                                                NaN   \n",
       "109237  I am asking for a class set of books. This wil...   \n",
       "109238                                                NaN   \n",
       "109239                                                NaN   \n",
       "109240                                                NaN   \n",
       "109241                                                NaN   \n",
       "109242                                                NaN   \n",
       "109243                                                NaN   \n",
       "109244                                                NaN   \n",
       "109245                                                NaN   \n",
       "109246                                                NaN   \n",
       "109247                                                NaN   \n",
       "\n",
       "                                 project_resource_summary  \\\n",
       "0       My students need opportunities to practice beg...   \n",
       "1       My students need a projector to help with view...   \n",
       "2       My students need shine guards, athletic socks,...   \n",
       "3       My students need to engage in Reading and Math...   \n",
       "4       My students need hands on practice in mathemat...   \n",
       "5       My students need movement to be successful. Be...   \n",
       "6       My students need some dependable laptops for d...   \n",
       "7       My students need ipads to help them access a w...   \n",
       "8       My students need three devices and three manag...   \n",
       "9       My students need great books to use during Ind...   \n",
       "10      My students need books by their favorite autho...   \n",
       "11      My students need paper, three chromebooks, and...   \n",
       "12      My students need 3D and 4D life science activi...   \n",
       "13      My students need access to technology that wil...   \n",
       "14      My students need 5 tablets for our classroom t...   \n",
       "15      My students need activities to play during rec...   \n",
       "16      My students need 2 LeapPad that will engage th...   \n",
       "17      My students need Chromebooks to publish writte...   \n",
       "18      My students need privacy partitions to use whi...   \n",
       "19      My students need 7 Hokki stools to encourage a...   \n",
       "20      My students need carpet in our library to brig...   \n",
       "21      My students need desks to stand at and be able...   \n",
       "22      My students need books so that they can become...   \n",
       "23      My students need these instruments to give the...   \n",
       "24      My students need building materials, such as g...   \n",
       "25      My students need the learning centers and mult...   \n",
       "26      My students need 2 ipad minis to enhance learn...   \n",
       "27      My students need Ipads to work in smaller grou...   \n",
       "28      My students need to increase language and lite...   \n",
       "29      My students need basic school supplies such as...   \n",
       "...                                                   ...   \n",
       "109218  My students need to have a multi sensory learn...   \n",
       "109219  My students need access to a fun, learning and...   \n",
       "109220  My students need engaging books with topics th...   \n",
       "109221  My students need seat sacks to have their book...   \n",
       "109222  My students need classroom supplies to repleni...   \n",
       "109223  My students need snacks for during the day whe...   \n",
       "109224  My students need STEM activities to make their...   \n",
       "109225  My students need a whole group environment to ...   \n",
       "109226  My students need standing desks and wobble cha...   \n",
       "109227  My students need ergonomic seats that are made...   \n",
       "109228  My students need chromebooks to replace comput...   \n",
       "109229  My students need a rug for whole group learnin...   \n",
       "109230  My students need two Ipad minis with cases to ...   \n",
       "109231  My students need access to printed materials f...   \n",
       "109232  My students need a set of 5 opinion picture bo...   \n",
       "109233  My students need a tablet to increase motivati...   \n",
       "109234  My students need story books, team building ac...   \n",
       "109235  My students need Bouncy Bands to help students...   \n",
       "109236  My students need a portable projector. This wi...   \n",
       "109237  My students need a class set of Wonder books, ...   \n",
       "109238  My students need flexible seating options like...   \n",
       "109239  My students need a green screen kit and iPad s...   \n",
       "109240  My students need books to supplement the thema...   \n",
       "109241  My students need a nonfiction leveled library ...   \n",
       "109242  My students need an iPad mini anda Life Proof ...   \n",
       "109243  My students need these privacy partitions to h...   \n",
       "109244  My students need two iPad's and protective cas...   \n",
       "109245  My students need giant comfy pillows in order ...   \n",
       "109246  My students need flexible seating options: bea...   \n",
       "109247  My students need opportunities to work with te...   \n",
       "\n",
       "        teacher_number_of_previously_posted_projects  project_is_approved  \\\n",
       "0                                                  0                    0   \n",
       "1                                                  7                    1   \n",
       "2                                                  1                    0   \n",
       "3                                                  4                    1   \n",
       "4                                                  1                    1   \n",
       "5                                                  1                    1   \n",
       "6                                                  1                    1   \n",
       "7                                                  7                    1   \n",
       "8                                                 28                    1   \n",
       "9                                                 36                    1   \n",
       "10                                                37                    1   \n",
       "11                                                32                    1   \n",
       "12                                                 5                    0   \n",
       "13                                                30                    1   \n",
       "14                                                15                    0   \n",
       "15                                                 3                    1   \n",
       "16                                                 1                    1   \n",
       "17                                                 0                    1   \n",
       "18                                                 0                    1   \n",
       "19                                                 9                    1   \n",
       "20                                                23                    1   \n",
       "21                                                 0                    1   \n",
       "22                                                 0                    0   \n",
       "23                                                 2                    1   \n",
       "24                                                 0                    1   \n",
       "25                                                11                    0   \n",
       "26                                                 2                    1   \n",
       "27                                                 2                    1   \n",
       "28                                                 5                    0   \n",
       "29                                                 0                    1   \n",
       "...                                              ...                  ...   \n",
       "109218                                             4                    0   \n",
       "109219                                             0                    0   \n",
       "109220                                             3                    1   \n",
       "109221                                             1                    1   \n",
       "109222                                            34                    1   \n",
       "109223                                            12                    1   \n",
       "109224                                             7                    1   \n",
       "109225                                             1                    0   \n",
       "109226                                            47                    1   \n",
       "109227                                             0                    1   \n",
       "109228                                             8                    1   \n",
       "109229                                             0                    1   \n",
       "109230                                             0                    1   \n",
       "109231                                             7                    1   \n",
       "109232                                             0                    1   \n",
       "109233                                             1                    1   \n",
       "109234                                             9                    1   \n",
       "109235                                             1                    1   \n",
       "109236                                             6                    1   \n",
       "109237                                             4                    1   \n",
       "109238                                            41                    1   \n",
       "109239                                             6                    1   \n",
       "109240                                            10                    1   \n",
       "109241                                             0                    1   \n",
       "109242                                            26                    1   \n",
       "109243                                             0                    1   \n",
       "109244                                             0                    1   \n",
       "109245                                             3                    1   \n",
       "109246                                             0                    1   \n",
       "109247                                             0                    1   \n",
       "\n",
       "                         clean_categories  \\\n",
       "0                       Literacy_Language   \n",
       "1            History_Civics Health_Sports   \n",
       "2                           Health_Sports   \n",
       "3          Literacy_Language Math_Science   \n",
       "4                            Math_Science   \n",
       "5          Literacy_Language SpecialNeeds   \n",
       "6          Literacy_Language SpecialNeeds   \n",
       "7                            Math_Science   \n",
       "8                           Health_Sports   \n",
       "9                       Literacy_Language   \n",
       "10                      Literacy_Language   \n",
       "11      Literacy_Language AppliedLearning   \n",
       "12                           Math_Science   \n",
       "13                           SpecialNeeds   \n",
       "14                      Literacy_Language   \n",
       "15                          Health_Sports   \n",
       "16         Literacy_Language SpecialNeeds   \n",
       "17         Math_Science Literacy_Language   \n",
       "18                        AppliedLearning   \n",
       "19                          Health_Sports   \n",
       "20                      Literacy_Language   \n",
       "21              Math_Science SpecialNeeds   \n",
       "22                      Literacy_Language   \n",
       "23                             Music_Arts   \n",
       "24                           Math_Science   \n",
       "25                           Math_Science   \n",
       "26         Literacy_Language Math_Science   \n",
       "27         Literacy_Language Math_Science   \n",
       "28         Literacy_Language SpecialNeeds   \n",
       "29      Literacy_Language AppliedLearning   \n",
       "...                                   ...   \n",
       "109218                  Literacy_Language   \n",
       "109219   Literacy_Language History_Civics   \n",
       "109220                  Literacy_Language   \n",
       "109221                  Literacy_Language   \n",
       "109222     Literacy_Language Math_Science   \n",
       "109223                 Warmth Care_Hunger   \n",
       "109224     Math_Science Literacy_Language   \n",
       "109225  AppliedLearning Literacy_Language   \n",
       "109226                      Health_Sports   \n",
       "109227                  Literacy_Language   \n",
       "109228     Literacy_Language Math_Science   \n",
       "109229     Literacy_Language Math_Science   \n",
       "109230                       SpecialNeeds   \n",
       "109231                      Health_Sports   \n",
       "109232                  Literacy_Language   \n",
       "109233        Math_Science History_Civics   \n",
       "109234                    AppliedLearning   \n",
       "109235  AppliedLearning Literacy_Language   \n",
       "109236                       SpecialNeeds   \n",
       "109237                  Literacy_Language   \n",
       "109238                      Health_Sports   \n",
       "109239     Literacy_Language Math_Science   \n",
       "109240                  Literacy_Language   \n",
       "109241  AppliedLearning Literacy_Language   \n",
       "109242     Math_Science Literacy_Language   \n",
       "109243     Literacy_Language Math_Science   \n",
       "109244     Literacy_Language Math_Science   \n",
       "109245     Literacy_Language Math_Science   \n",
       "109246         Health_Sports SpecialNeeds   \n",
       "109247       AppliedLearning Math_Science   \n",
       "\n",
       "                            clean_subcategories  \\\n",
       "0                                  ESL Literacy   \n",
       "1                  Civics_Government TeamSports   \n",
       "2                    Health_Wellness TeamSports   \n",
       "3                          Literacy Mathematics   \n",
       "4                                   Mathematics   \n",
       "5               Literature_Writing SpecialNeeds   \n",
       "6                         Literacy SpecialNeeds   \n",
       "7                                   Mathematics   \n",
       "8                               Health_Wellness   \n",
       "9                   Literacy Literature_Writing   \n",
       "10                                     Literacy   \n",
       "11                   Literacy ParentInvolvement   \n",
       "12      EnvironmentalScience Health_LifeScience   \n",
       "13                                 SpecialNeeds   \n",
       "14                                     Literacy   \n",
       "15                              Health_Wellness   \n",
       "16                        Literacy SpecialNeeds   \n",
       "17           AppliedSciences Literature_Writing   \n",
       "18                             EarlyDevelopment   \n",
       "19                              Health_Wellness   \n",
       "20                                     Literacy   \n",
       "21              Health_LifeScience SpecialNeeds   \n",
       "22                                     Literacy   \n",
       "23                                        Music   \n",
       "24                  AppliedSciences Mathematics   \n",
       "25                                  Mathematics   \n",
       "26                         Literacy Mathematics   \n",
       "27                 ForeignLanguages Mathematics   \n",
       "28                        Literacy SpecialNeeds   \n",
       "29                               Literacy Other   \n",
       "...                                         ...   \n",
       "109218                       Literature_Writing   \n",
       "109219        Literature_Writing SocialSciences   \n",
       "109220                                 Literacy   \n",
       "109221                         ForeignLanguages   \n",
       "109222                     Literacy Mathematics   \n",
       "109223                       Warmth Care_Hunger   \n",
       "109224                 AppliedSciences Literacy   \n",
       "109225    CharacterEducation Literature_Writing   \n",
       "109226              Gym_Fitness Health_Wellness   \n",
       "109227                                 Literacy   \n",
       "109228                     Literacy Mathematics   \n",
       "109229           Literature_Writing Mathematics   \n",
       "109230                             SpecialNeeds   \n",
       "109231                              Gym_Fitness   \n",
       "109232              Literacy Literature_Writing   \n",
       "109233        AppliedSciences FinancialLiteracy   \n",
       "109234                       CharacterEducation   \n",
       "109235      EarlyDevelopment Literature_Writing   \n",
       "109236                             SpecialNeeds   \n",
       "109237                ForeignLanguages Literacy   \n",
       "109238                          Health_Wellness   \n",
       "109239                     Literacy Mathematics   \n",
       "109240                                 Literacy   \n",
       "109241                EarlyDevelopment Literacy   \n",
       "109242                 AppliedSciences Literacy   \n",
       "109243           Literature_Writing Mathematics   \n",
       "109244                     Literacy Mathematics   \n",
       "109245                     Literacy Mathematics   \n",
       "109246             Health_Wellness SpecialNeeds   \n",
       "109247           College_CareerPrep Mathematics   \n",
       "\n",
       "                                                    essay   price  quantity  \n",
       "0       My students are English learners that are work...  154.60        23  \n",
       "1       Our students arrive to our school eager to lea...  299.00         1  \n",
       "2       \\r\\n\\\"True champions aren't always the ones th...  516.85        22  \n",
       "3       I work at a unique school filled with both ESL...  232.90         4  \n",
       "4       Our second grade classroom next year will be m...   67.98         4  \n",
       "5       I will be moving from 2nd grade to 3rd grade a...  113.22        11  \n",
       "6       My students are a dynamic and very energetic g...  159.99         3  \n",
       "7       Not only do our students struggle with poverty...  229.00         4  \n",
       "8       My students are enthusiastic and inquisitive l...  241.98         6  \n",
       "9       Over 95% of my students are on free or reduced...  125.36        14  \n",
       "10      \\\"There are many little ways to enlarge your w...  100.21        10  \n",
       "11      All of our students receive free breakfast, lu...  431.77         8  \n",
       "12      My students are always working on new projects...  219.46        22  \n",
       "13      I teach in a small school district in central ...  399.99         1  \n",
       "14      My students are my babies...I want the world f...   91.94        10  \n",
       "15      Located in West Dallas, my students face sever...  435.84        24  \n",
       "16      My Preschool children, ages 3-5 years old with...  298.43         7  \n",
       "17      My students are special because they come from...  158.63        12  \n",
       "18      I teach at a Title I school in a low-income ar...   59.98         4  \n",
       "19      We are apart of an urban district and many of ...  749.42         7  \n",
       "20      The students in our school come from diverse b...  213.85         1  \n",
       "21      My students walk into school every day full of...  250.91         4  \n",
       "22      Every day in my English classroom, we work to ...  278.09        21  \n",
       "23      100% of our musical students eat free breakfas...  299.98         2  \n",
       "24      This year, I am teaching in an EFL (Extended F...  250.00         6  \n",
       "25      My students are highly motivated to succeed. U...  268.99         2  \n",
       "26      I teach 22 bright 5 and 6 year olds. My studen...  280.83         4  \n",
       "27      My students spend most of their day learning f...  660.84         7  \n",
       "28      My students all have a primary diagnosis of au...  129.98         3  \n",
       "29      I have an awesome group of 24 students any tea...   86.74        53  \n",
       "...                                                   ...     ...       ...  \n",
       "109218  My students are an amazing group of kind heart...  747.00         3  \n",
       "109219  Creating an Interactive Learning Environment! ...  300.18        14  \n",
       "109220  Do you remember middle school?  I am sure tons...  121.59        14  \n",
       "109221  Most of the students are ENL students.  This i...  289.52        32  \n",
       "109222  For most of my students, this is the first tim...  241.08        40  \n",
       "109223  The students that I serve are in a low-income ...  692.17        46  \n",
       "109224  My students are an amazing group of kids. Thes...  915.27         7  \n",
       "109225  My students come in ready to rock and roll eve...  737.95         2  \n",
       "109226  My students are inquisitive, engaging 4th grad...  379.96         9  \n",
       "109227  My students attend a Title 1 school in Upstate...  428.24         5  \n",
       "109228  Every day, my kindergarten class comes in exci...  159.43         4  \n",
       "109229  Each morning 21 loving and smiling faces walk ...  688.00         2  \n",
       "109230  can only be described as a diverse group of ch...  309.60         4  \n",
       "109231  There is nothing better than seeing a student ...  155.70         5  \n",
       "109232  Our class is home to a diverse class of studen...   43.20        20  \n",
       "109233  My students are hard workers who strive to be ...  490.05         1  \n",
       "109234  are kind, respectful, and eager learners. They...  273.72         6  \n",
       "109235  As a Kindergarten teacher in a low-income/high...   11.86        24  \n",
       "109236  Many students have a hard time making a connec...  269.00         1  \n",
       "109237  \\\"You can find magic wherever you look. Sit ba...   30.76        30  \n",
       "109238  We are the Bucket Fillers! This means we fill ...  267.50        12  \n",
       "109239  My students are amazing and motivated. We are ...  178.98         2  \n",
       "109240  Leaving your family to come to school for the ...  225.10        30  \n",
       "109241  I had a wonderful group of inquisitive and ent...  659.00         1  \n",
       "109242  My students come from a rural community in Sou...  592.16         2  \n",
       "109243  Welcome to Mr. Ramos's 2nd grade classroom! We...   59.98         8  \n",
       "109244  Every morning, we start our day with our core ...  846.32         4  \n",
       "109245  This is a great group of sharing and caring st...  239.96         4  \n",
       "109246  Our students live in a small rural community. ...   73.05        16  \n",
       "109247  When was the last time that you used math? Pro...  109.90         5  \n",
       "\n",
       "[109248 rows x 20 columns]"
      ]
     },
     "execution_count": 32,
     "metadata": {},
     "output_type": "execute_result"
    }
   ],
   "source": [
    "# join two dataframes in python: \n",
    "project = pd.merge(project, price, on='id', how='left')\n",
    "project"
   ]
  },
  {
   "cell_type": "code",
   "execution_count": 33,
   "metadata": {},
   "outputs": [],
   "source": [
    "approved_price = project[project['project_is_approved']==1]['price'].values\n",
    "\n",
    "rejected_price = project[project['project_is_approved']==0]['price'].values"
   ]
  },
  {
   "cell_type": "code",
   "execution_count": 34,
   "metadata": {},
   "outputs": [
    {
     "data": {
      "image/png": "[encoded data removed]",
      "text/plain": [
       "<Figure size 432x288 with 1 Axes>"
      ]
     },
     "metadata": {},
     "output_type": "display_data"
    }
   ],
   "source": [
    "# https://glowingpython.blogspot.com/2012/09/boxplot-with-matplotlib.html\n",
    "mp.boxplot([approved_price, rejected_price])\n",
    "mp.title('Box Plots of Cost per approved and not approved Projects')\n",
    "mp.xticks([1,2],('Approved Projects','Rejected Projects'))\n",
    "mp.ylabel('Price')\n",
    "mp.grid()\n",
    "mp.show()"
   ]
  },
  {
   "cell_type": "code",
   "execution_count": 35,
   "metadata": {},
   "outputs": [
    {
     "data": {
      "image/png": "[encoded data removed]",
      "text/plain": [
       "<Figure size 720x216 with 1 Axes>"
      ]
     },
     "metadata": {},
     "output_type": "display_data"
    }
   ],
   "source": [
    "mp.figure(figsize=(10,3))\n",
    "sns.distplot(approved_price, hist=False, label=\"Approved Projects\")\n",
    "sns.distplot(rejected_price, hist=False, label=\"Not Approved Projects\")\n",
    "mp.title('Cost per approved and not approved Projects')\n",
    "mp.xlabel('Cost of a project')\n",
    "mp.legend()\n",
    "mp.show()"
   ]
  },
  {
   "cell_type": "markdown",
   "metadata": {},
   "source": [
    "### Summary:\n",
    "\n",
    "1. Here we can see than the plots are almost overlapping.\n",
    "2. Also we can see that the cost of not-approved projects happens to be more than the approved projects."
   ]
  },
  {
   "cell_type": "code",
   "execution_count": 36,
   "metadata": {},
   "outputs": [
    {
     "name": "stdout",
     "output_type": "stream",
     "text": [
      "+------------+-------------------+-----------------------+\n",
      "| Percentile | Approved Projects | Not Approved Projects |\n",
      "+------------+-------------------+-----------------------+\n",
      "|     0      |        0.66       |          1.97         |\n",
      "|     5      |       13.59       |          41.9         |\n",
      "|     10     |       33.88       |         73.67         |\n",
      "|     15     |        58.0       |         99.109        |\n",
      "|     20     |       77.38       |         118.56        |\n",
      "|     25     |       99.95       |        140.892        |\n",
      "|     30     |       116.68      |         162.23        |\n",
      "|     35     |      137.232      |        184.014        |\n",
      "|     40     |       157.0       |        208.632        |\n",
      "|     45     |      178.265      |        235.106        |\n",
      "|     50     |       198.99      |        263.145        |\n",
      "|     55     |       223.99      |         292.61        |\n",
      "|     60     |       255.63      |        325.144        |\n",
      "|     65     |      285.412      |         362.39        |\n",
      "|     70     |      321.225      |         399.99        |\n",
      "|     75     |      366.075      |        449.945        |\n",
      "|     80     |       411.67      |        519.282        |\n",
      "|     85     |       479.0       |        618.276        |\n",
      "|     90     |       593.11      |        739.356        |\n",
      "|     95     |      801.598      |        992.486        |\n",
      "|    100     |       9999.0      |         9999.0        |\n",
      "+------------+-------------------+-----------------------+\n"
     ]
    }
   ],
   "source": [
    "# http://zetcode.com/python/prettytable/\n",
    "from prettytable import PrettyTable\n",
    "\n",
    "#If you get a ModuleNotFoundError error , install prettytable using: pip3 install prettytable\n",
    "\n",
    "x = PrettyTable()\n",
    "x.field_names = [\"Percentile\", \"Approved Projects\", \"Not Approved Projects\"]\n",
    "\n",
    "for i in range(0,101,5):\n",
    "    x.add_row([i,np.round(np.percentile(approved_price,i), 3), np.round(np.percentile(rejected_price,i), 3)])\n",
    "print(x)"
   ]
  },
  {
   "cell_type": "markdown",
   "metadata": {},
   "source": [
    "### Summary:\n",
    "\n",
    "1. Here we can see that 50th percentile price of approved projects are 198.99 and whereas not-approved projects is 263.145 dollars, 75th percentile for approved is 366.075 and not-approved is 449.945 dollars, the price of not-approved projects is more than approves ones."
   ]
  },
  {
   "cell_type": "markdown",
   "metadata": {},
   "source": [
    "<h3><font color='red'>1.2.9 Univariate Analysis: teacher_number_of_previously_posted_projects</font></h3>"
   ]
  },
  {
   "cell_type": "code",
   "execution_count": 37,
   "metadata": {},
   "outputs": [
    {
     "data": {
      "image/png": "[encoded data removed]",
      "text/plain": [
       "<Figure size 1440x360 with 1 Axes>"
      ]
     },
     "metadata": {},
     "output_type": "display_data"
    },
    {
     "name": "stdout",
     "output_type": "stream",
     "text": [
      "   teacher_number_of_previously_posted_projects  project_is_approved  total  \\\n",
      "0                                             0                24652  30014   \n",
      "1                                             1                13329  16058   \n",
      "2                                             2                 8705  10350   \n",
      "3                                             3                 5997   7110   \n",
      "4                                             4                 4452   5266   \n",
      "\n",
      "        Avg  \n",
      "0  0.821350  \n",
      "1  0.830054  \n",
      "2  0.841063  \n",
      "3  0.843460  \n",
      "4  0.845423  \n",
      "==================================================\n",
      "    teacher_number_of_previously_posted_projects  project_is_approved  total  \\\n",
      "15                                            15                  818    942   \n",
      "16                                            16                  769    894   \n",
      "17                                            17                  712    803   \n",
      "18                                            18                  666    772   \n",
      "19                                            19                  632    710   \n",
      "\n",
      "         Avg  \n",
      "15  0.868365  \n",
      "16  0.860179  \n",
      "17  0.886675  \n",
      "18  0.862694  \n",
      "19  0.890141  \n"
     ]
    }
   ],
   "source": [
    "univariate_barplots(project, 'teacher_number_of_previously_posted_projects', 'project_is_approved', 20)"
   ]
  },
  {
   "cell_type": "markdown",
   "metadata": {},
   "source": [
    "## Summary:\n",
    "1. There are 30014 teachers who are submitting the project proposal for the first time, & their approval %age stands at 82.13%.\n",
    "2. As number of previously posted projects increase, the number of projects submitted goes on decreasing albeit their approval % age goes on increasing.\n",
    "3. The minimum approval %age of a project proposal is 82%."
   ]
  },
  {
   "cell_type": "markdown",
   "metadata": {},
   "source": [
    "<h3><font color='red'>1.2.10 Univariate Analysis: project_resource_summary</font></h3>"
   ]
  },
  {
   "cell_type": "code",
   "execution_count": 38,
   "metadata": {},
   "outputs": [
    {
     "data": {
      "image/png": "[encoded data removed]",
      "text/plain": [
       "<Figure size 1440x360 with 1 Axes>"
      ]
     },
     "metadata": {},
     "output_type": "display_data"
    },
    {
     "name": "stdout",
     "output_type": "stream",
     "text": [
      "                                project_resource_summary  project_is_approved  \\\n",
      "56539  My students need electronic tablets to do all ...                   40   \n",
      "10193  My students need Chromebooks to do all the thi...                   14   \n",
      "18828  My students need a Dell Chromebook 3120 and a ...                    7   \n",
      "51417  My students need chromebooks to do all the thi...                    6   \n",
      "18819  My students need a Dell Chromebook 3120 11 6 C...                    6   \n",
      "\n",
      "       total       Avg  \n",
      "56539     48  0.833333  \n",
      "10193     15  0.933333  \n",
      "18828      7  1.000000  \n",
      "51417      7  0.857143  \n",
      "18819      6  1.000000  \n",
      "==================================================\n",
      "                                project_resource_summary  project_is_approved  \\\n",
      "3786   My students need 3 \\\"iPad\\\" minis and cases to...                    5   \n",
      "18830  My students need a Dell Chromebook and Google ...                    5   \n",
      "3774   My students need 3 Texas Instruments TI - 84 P...                    5   \n",
      "82608  My students need quick and flexible grouping o...                    4   \n",
      "62634  My students need graphing calculators and a do...                    4   \n",
      "\n",
      "       total  Avg  \n",
      "3786       5  1.0  \n",
      "18830      5  1.0  \n",
      "3774       5  1.0  \n",
      "82608      4  1.0  \n",
      "62634      4  1.0  \n"
     ]
    }
   ],
   "source": [
    "univariate_barplots(project, 'project_resource_summary', 'project_is_approved', 10)"
   ]
  },
  {
   "cell_type": "markdown",
   "metadata": {},
   "source": [
    "### Summary:\n",
    "\n",
    "1. Not much is clear from the above plot, lets see if the numbers that are present in the resource summary have any impact on the approval of the project proposal."
   ]
  },
  {
   "cell_type": "code",
   "execution_count": 39,
   "metadata": {},
   "outputs": [
    {
     "data": {
      "text/plain": [
       "'My students need to engage in Reading and Math in a way that will inspire them with these Mini iPads!'"
      ]
     },
     "execution_count": 39,
     "metadata": {},
     "output_type": "execute_result"
    }
   ],
   "source": [
    "proj_resource_summ= list(project['project_resource_summary'])\n",
    "proj_resource_summ[3]   ## randomly printing a summary at index 3"
   ]
  },
  {
   "cell_type": "code",
   "execution_count": 40,
   "metadata": {},
   "outputs": [
    {
     "data": {
      "text/plain": [
       "'\\n\\nimport re\\n\\nwords= 0\\nnumbers = 0  # initiating the count of numbers to 0\\nnumbers_present=[]\\n\\nfor i in proj_resource_summ:\\n    for x in i.split():\\n        if x.isdigit():     \\n            numbers +=1\\n            numbers_present.append(int(1))\\n            break\\n    \\n    for x in i.split():\\n        if x.isalpha():\\n            words+=1\\n            numbers_present.append(int(0))\\n              \\nprint(numbers)\\nprint(words)\\nprint(\"Number of summaries having digits in them :\",numbers)\\nprint(\\'% age of summaries having digits in them\\', (numbers/109248)*100)\\nnumbers_present[:20]\\n\\n'"
      ]
     },
     "execution_count": 40,
     "metadata": {},
     "output_type": "execute_result"
    }
   ],
   "source": [
    "## https://stackoverflow.com/questions/24878174/how-to-count-digits-letters-spaces-for-a-string-in-python\n",
    "\n",
    "'''\n",
    "\n",
    "import re\n",
    "\n",
    "words= 0\n",
    "numbers = 0  # initiating the count of numbers to 0\n",
    "numbers_present=[]\n",
    "\n",
    "for i in proj_resource_summ:\n",
    "    for x in i.split():\n",
    "        if x.isdigit():     \n",
    "            numbers +=1\n",
    "            numbers_present.append(int(1))\n",
    "            break\n",
    "    \n",
    "    for x in i.split():\n",
    "        if x.isalpha():\n",
    "            words+=1\n",
    "            numbers_present.append(int(0))\n",
    "              \n",
    "print(numbers)\n",
    "print(words)\n",
    "print(\"Number of summaries having digits in them :\",numbers)\n",
    "print('% age of summaries having digits in them', (numbers/109248)*100)\n",
    "numbers_present[:20]\n",
    "\n",
    "'''"
   ]
  },
  {
   "cell_type": "code",
   "execution_count": 41,
   "metadata": {},
   "outputs": [
    {
     "name": "stdout",
     "output_type": "stream",
     "text": [
      "[0, 0, 0, 0, 0, 0, 0, 0, 0, 0, 0, 0, 1, 0, 1, 0, 1, 0, 0, 1]\n"
     ]
    },
    {
     "data": {
      "text/html": [
       "<div>\n",
       "<style scoped>\n",
       "    .dataframe tbody tr th:only-of-type {\n",
       "        vertical-align: middle;\n",
       "    }\n",
       "\n",
       "    .dataframe tbody tr th {\n",
       "        vertical-align: top;\n",
       "    }\n",
       "\n",
       "    .dataframe thead th {\n",
       "        text-align: right;\n",
       "    }\n",
       "</style>\n",
       "<table border=\"1\" class=\"dataframe\">\n",
       "  <thead>\n",
       "    <tr style=\"text-align: right;\">\n",
       "      <th></th>\n",
       "      <th>Unnamed: 0</th>\n",
       "      <th>id</th>\n",
       "      <th>teacher_id</th>\n",
       "      <th>teacher_prefix</th>\n",
       "      <th>school_state</th>\n",
       "      <th>project_submitted_datetime</th>\n",
       "      <th>project_grade_category</th>\n",
       "      <th>project_title</th>\n",
       "      <th>project_essay_1</th>\n",
       "      <th>project_essay_2</th>\n",
       "      <th>...</th>\n",
       "      <th>project_essay_4</th>\n",
       "      <th>project_resource_summary</th>\n",
       "      <th>teacher_number_of_previously_posted_projects</th>\n",
       "      <th>project_is_approved</th>\n",
       "      <th>clean_categories</th>\n",
       "      <th>clean_subcategories</th>\n",
       "      <th>essay</th>\n",
       "      <th>price</th>\n",
       "      <th>quantity</th>\n",
       "      <th>numbers_present_summary</th>\n",
       "    </tr>\n",
       "  </thead>\n",
       "  <tbody>\n",
       "    <tr>\n",
       "      <th>0</th>\n",
       "      <td>160221</td>\n",
       "      <td>p253737</td>\n",
       "      <td>c90749f5d961ff158d4b4d1e7dc665fc</td>\n",
       "      <td>Mrs.</td>\n",
       "      <td>IN</td>\n",
       "      <td>2016-12-05 13:43:57</td>\n",
       "      <td>Grades PreK-2</td>\n",
       "      <td>Educational Support for English Learners at Home</td>\n",
       "      <td>My students are English learners that are work...</td>\n",
       "      <td>\\\"The limits of your language are the limits o...</td>\n",
       "      <td>...</td>\n",
       "      <td>NaN</td>\n",
       "      <td>My students need opportunities to practice beg...</td>\n",
       "      <td>0</td>\n",
       "      <td>0</td>\n",
       "      <td>Literacy_Language</td>\n",
       "      <td>ESL Literacy</td>\n",
       "      <td>My students are English learners that are work...</td>\n",
       "      <td>154.6</td>\n",
       "      <td>23</td>\n",
       "      <td>0</td>\n",
       "    </tr>\n",
       "    <tr>\n",
       "      <th>1</th>\n",
       "      <td>140945</td>\n",
       "      <td>p258326</td>\n",
       "      <td>897464ce9ddc600bced1151f324dd63a</td>\n",
       "      <td>Mr.</td>\n",
       "      <td>FL</td>\n",
       "      <td>2016-10-25 09:22:10</td>\n",
       "      <td>Grades 6-8</td>\n",
       "      <td>Wanted: Projector for Hungry Learners</td>\n",
       "      <td>Our students arrive to our school eager to lea...</td>\n",
       "      <td>The projector we need for our school is very c...</td>\n",
       "      <td>...</td>\n",
       "      <td>NaN</td>\n",
       "      <td>My students need a projector to help with view...</td>\n",
       "      <td>7</td>\n",
       "      <td>1</td>\n",
       "      <td>History_Civics Health_Sports</td>\n",
       "      <td>Civics_Government TeamSports</td>\n",
       "      <td>Our students arrive to our school eager to lea...</td>\n",
       "      <td>299.0</td>\n",
       "      <td>1</td>\n",
       "      <td>0</td>\n",
       "    </tr>\n",
       "  </tbody>\n",
       "</table>\n",
       "<p>2 rows × 21 columns</p>\n",
       "</div>"
      ],
      "text/plain": [
       "   Unnamed: 0       id                        teacher_id teacher_prefix  \\\n",
       "0      160221  p253737  c90749f5d961ff158d4b4d1e7dc665fc           Mrs.   \n",
       "1      140945  p258326  897464ce9ddc600bced1151f324dd63a            Mr.   \n",
       "\n",
       "  school_state project_submitted_datetime project_grade_category  \\\n",
       "0           IN        2016-12-05 13:43:57          Grades PreK-2   \n",
       "1           FL        2016-10-25 09:22:10             Grades 6-8   \n",
       "\n",
       "                                      project_title  \\\n",
       "0  Educational Support for English Learners at Home   \n",
       "1             Wanted: Projector for Hungry Learners   \n",
       "\n",
       "                                     project_essay_1  \\\n",
       "0  My students are English learners that are work...   \n",
       "1  Our students arrive to our school eager to lea...   \n",
       "\n",
       "                                     project_essay_2           ...             \\\n",
       "0  \\\"The limits of your language are the limits o...           ...              \n",
       "1  The projector we need for our school is very c...           ...              \n",
       "\n",
       "  project_essay_4                           project_resource_summary  \\\n",
       "0             NaN  My students need opportunities to practice beg...   \n",
       "1             NaN  My students need a projector to help with view...   \n",
       "\n",
       "  teacher_number_of_previously_posted_projects  project_is_approved  \\\n",
       "0                                            0                    0   \n",
       "1                                            7                    1   \n",
       "\n",
       "               clean_categories           clean_subcategories  \\\n",
       "0             Literacy_Language                  ESL Literacy   \n",
       "1  History_Civics Health_Sports  Civics_Government TeamSports   \n",
       "\n",
       "                                               essay  price  quantity  \\\n",
       "0  My students are English learners that are work...  154.6        23   \n",
       "1  Our students arrive to our school eager to lea...  299.0         1   \n",
       "\n",
       "   numbers_present_summary  \n",
       "0                        0  \n",
       "1                        0  \n",
       "\n",
       "[2 rows x 21 columns]"
      ]
     },
     "execution_count": 41,
     "metadata": {},
     "output_type": "execute_result"
    }
   ],
   "source": [
    "## https://stackoverflow.com/questions/19859282/check-if-a-string-contains-a-number\n",
    "\n",
    "def numbers_are_present(i):\n",
    "    if any(x.isdigit() for x in i):\n",
    "        return 1\n",
    "    \n",
    "    else:\n",
    "        return 0\n",
    "        \n",
    "\n",
    "numbers_list=list(map(numbers_are_present, project['project_resource_summary']))\n",
    "print(numbers_list[:20])\n",
    "project['numbers_present_summary'] = numbers_list\n",
    "\n",
    "project.head(2)"
   ]
  },
  {
   "cell_type": "code",
   "execution_count": 42,
   "metadata": {},
   "outputs": [
    {
     "name": "stdout",
     "output_type": "stream",
     "text": [
      "15756\n",
      "%age of summaries which have numbers in them  14.422231985940245\n"
     ]
    }
   ],
   "source": [
    "numbers_present_count= project['numbers_present_summary'].value_counts()\n",
    "\n",
    "print(numbers_present_count[1])\n",
    "print(\"%age of summaries which have numbers in them \",  (numbers_present_count[1]/(numbers_present_count[1]+numbers_present_count[0]))*100)\n"
   ]
  },
  {
   "cell_type": "markdown",
   "metadata": {},
   "source": [
    "### Summary:\n",
    "\n",
    "1. Of all, 15756 summaries have digits in them which makes roughly 14.422%"
   ]
  },
  {
   "cell_type": "code",
   "execution_count": 43,
   "metadata": {},
   "outputs": [
    {
     "data": {
      "image/png": "[encoded data removed]",
      "text/plain": [
       "<Figure size 1440x360 with 1 Axes>"
      ]
     },
     "metadata": {},
     "output_type": "display_data"
    },
    {
     "name": "stdout",
     "output_type": "stream",
     "text": [
      "   numbers_present_summary  project_is_approved  total       Avg\n",
      "0                        0                78616  93492  0.840885\n",
      "1                        1                14090  15756  0.894263\n",
      "==================================================\n",
      "   numbers_present_summary  project_is_approved  total       Avg\n",
      "0                        0                78616  93492  0.840885\n",
      "1                        1                14090  15756  0.894263\n"
     ]
    }
   ],
   "source": [
    "univariate_barplots(project, 'numbers_present_summary', 'project_is_approved', 10)"
   ]
  },
  {
   "cell_type": "markdown",
   "metadata": {},
   "source": [
    "### Summary:\n",
    "\n",
    "1. Of all summaries, 93942 summaries do not have numbers in them, out which 78616 are approved which makes 84.08% of it.\n",
    "2. 15756 summaried have numbers in them, out which 14090 are approved which makes 89.42% of it."
   ]
  },
  {
   "cell_type": "markdown",
   "metadata": {},
   "source": [
    "## 1.3 Text preprocessing"
   ]
  },
  {
   "cell_type": "markdown",
   "metadata": {},
   "source": [
    "### 1.3.1 Essay Text"
   ]
  },
  {
   "cell_type": "code",
   "execution_count": 44,
   "metadata": {},
   "outputs": [
    {
     "data": {
      "text/html": [
       "<div>\n",
       "<style scoped>\n",
       "    .dataframe tbody tr th:only-of-type {\n",
       "        vertical-align: middle;\n",
       "    }\n",
       "\n",
       "    .dataframe tbody tr th {\n",
       "        vertical-align: top;\n",
       "    }\n",
       "\n",
       "    .dataframe thead th {\n",
       "        text-align: right;\n",
       "    }\n",
       "</style>\n",
       "<table border=\"1\" class=\"dataframe\">\n",
       "  <thead>\n",
       "    <tr style=\"text-align: right;\">\n",
       "      <th></th>\n",
       "      <th>Unnamed: 0</th>\n",
       "      <th>id</th>\n",
       "      <th>teacher_id</th>\n",
       "      <th>teacher_prefix</th>\n",
       "      <th>school_state</th>\n",
       "      <th>project_submitted_datetime</th>\n",
       "      <th>project_grade_category</th>\n",
       "      <th>project_title</th>\n",
       "      <th>project_essay_1</th>\n",
       "      <th>project_essay_2</th>\n",
       "      <th>...</th>\n",
       "      <th>project_essay_4</th>\n",
       "      <th>project_resource_summary</th>\n",
       "      <th>teacher_number_of_previously_posted_projects</th>\n",
       "      <th>project_is_approved</th>\n",
       "      <th>clean_categories</th>\n",
       "      <th>clean_subcategories</th>\n",
       "      <th>essay</th>\n",
       "      <th>price</th>\n",
       "      <th>quantity</th>\n",
       "      <th>numbers_present_summary</th>\n",
       "    </tr>\n",
       "  </thead>\n",
       "  <tbody>\n",
       "    <tr>\n",
       "      <th>0</th>\n",
       "      <td>160221</td>\n",
       "      <td>p253737</td>\n",
       "      <td>c90749f5d961ff158d4b4d1e7dc665fc</td>\n",
       "      <td>Mrs.</td>\n",
       "      <td>IN</td>\n",
       "      <td>2016-12-05 13:43:57</td>\n",
       "      <td>Grades PreK-2</td>\n",
       "      <td>Educational Support for English Learners at Home</td>\n",
       "      <td>My students are English learners that are work...</td>\n",
       "      <td>\\\"The limits of your language are the limits o...</td>\n",
       "      <td>...</td>\n",
       "      <td>NaN</td>\n",
       "      <td>My students need opportunities to practice beg...</td>\n",
       "      <td>0</td>\n",
       "      <td>0</td>\n",
       "      <td>Literacy_Language</td>\n",
       "      <td>ESL Literacy</td>\n",
       "      <td>My students are English learners that are work...</td>\n",
       "      <td>154.6</td>\n",
       "      <td>23</td>\n",
       "      <td>0</td>\n",
       "    </tr>\n",
       "    <tr>\n",
       "      <th>1</th>\n",
       "      <td>140945</td>\n",
       "      <td>p258326</td>\n",
       "      <td>897464ce9ddc600bced1151f324dd63a</td>\n",
       "      <td>Mr.</td>\n",
       "      <td>FL</td>\n",
       "      <td>2016-10-25 09:22:10</td>\n",
       "      <td>Grades 6-8</td>\n",
       "      <td>Wanted: Projector for Hungry Learners</td>\n",
       "      <td>Our students arrive to our school eager to lea...</td>\n",
       "      <td>The projector we need for our school is very c...</td>\n",
       "      <td>...</td>\n",
       "      <td>NaN</td>\n",
       "      <td>My students need a projector to help with view...</td>\n",
       "      <td>7</td>\n",
       "      <td>1</td>\n",
       "      <td>History_Civics Health_Sports</td>\n",
       "      <td>Civics_Government TeamSports</td>\n",
       "      <td>Our students arrive to our school eager to lea...</td>\n",
       "      <td>299.0</td>\n",
       "      <td>1</td>\n",
       "      <td>0</td>\n",
       "    </tr>\n",
       "  </tbody>\n",
       "</table>\n",
       "<p>2 rows × 21 columns</p>\n",
       "</div>"
      ],
      "text/plain": [
       "   Unnamed: 0       id                        teacher_id teacher_prefix  \\\n",
       "0      160221  p253737  c90749f5d961ff158d4b4d1e7dc665fc           Mrs.   \n",
       "1      140945  p258326  897464ce9ddc600bced1151f324dd63a            Mr.   \n",
       "\n",
       "  school_state project_submitted_datetime project_grade_category  \\\n",
       "0           IN        2016-12-05 13:43:57          Grades PreK-2   \n",
       "1           FL        2016-10-25 09:22:10             Grades 6-8   \n",
       "\n",
       "                                      project_title  \\\n",
       "0  Educational Support for English Learners at Home   \n",
       "1             Wanted: Projector for Hungry Learners   \n",
       "\n",
       "                                     project_essay_1  \\\n",
       "0  My students are English learners that are work...   \n",
       "1  Our students arrive to our school eager to lea...   \n",
       "\n",
       "                                     project_essay_2           ...             \\\n",
       "0  \\\"The limits of your language are the limits o...           ...              \n",
       "1  The projector we need for our school is very c...           ...              \n",
       "\n",
       "  project_essay_4                           project_resource_summary  \\\n",
       "0             NaN  My students need opportunities to practice beg...   \n",
       "1             NaN  My students need a projector to help with view...   \n",
       "\n",
       "  teacher_number_of_previously_posted_projects  project_is_approved  \\\n",
       "0                                            0                    0   \n",
       "1                                            7                    1   \n",
       "\n",
       "               clean_categories           clean_subcategories  \\\n",
       "0             Literacy_Language                  ESL Literacy   \n",
       "1  History_Civics Health_Sports  Civics_Government TeamSports   \n",
       "\n",
       "                                               essay  price  quantity  \\\n",
       "0  My students are English learners that are work...  154.6        23   \n",
       "1  Our students arrive to our school eager to lea...  299.0         1   \n",
       "\n",
       "   numbers_present_summary  \n",
       "0                        0  \n",
       "1                        0  \n",
       "\n",
       "[2 rows x 21 columns]"
      ]
     },
     "execution_count": 44,
     "metadata": {},
     "output_type": "execute_result"
    }
   ],
   "source": [
    "project.head(2)"
   ]
  },
  {
   "cell_type": "code",
   "execution_count": 45,
   "metadata": {},
   "outputs": [
    {
     "name": "stdout",
     "output_type": "stream",
     "text": [
      "My students are English learners that are working on English as their second or third languages. We are a melting pot of refugees, immigrants, and native-born Americans bringing the gift of language to our school. \\r\\n\\r\\n We have over 24 languages represented in our English Learner program with students at every level of mastery.  We also have over 40 countries represented with the families within our school.  Each student brings a wealth of knowledge and experiences to us that open our eyes to new cultures, beliefs, and respect.\\\"The limits of your language are the limits of your world.\\\"-Ludwig Wittgenstein  Our English learner's have a strong support system at home that begs for more resources.  Many times our parents are learning to read and speak English along side of their children.  Sometimes this creates barriers for parents to be able to help their child learn phonetics, letter recognition, and other reading skills.\\r\\n\\r\\nBy providing these dvd's and players, students are able to continue their mastery of the English language even if no one at home is able to assist.  All families with students within the Level 1 proficiency status, will be a offered to be a part of this program.  These educational videos will be specially chosen by the English Learner Teacher and will be sent home regularly to watch.  The videos are to help the child develop early reading skills.\\r\\n\\r\\nParents that do not have access to a dvd player will have the opportunity to check out a dvd player to use for the year.  The plan is to use these videos and educational dvd's for the years to come for other EL students.\\r\\nnannan\n",
      "====================================================================================================\n",
      "The 51 fifth grade students that will cycle through my classroom this year all love learning, at least most of the time. At our school, 97.3% of the students receive free or reduced price lunch. Of the 560 students, 97.3% are minority students. \\r\\nThe school has a vibrant community that loves to get together and celebrate. Around Halloween there is a whole school parade to show off the beautiful costumes that students wear. On Cinco de Mayo we put on a big festival with crafts made by the students, dances, and games. At the end of the year the school hosts a carnival to celebrate the hard work put in during the school year, with a dunk tank being the most popular activity.My students will use these five brightly colored Hokki stools in place of regular, stationary, 4-legged chairs. As I will only have a total of ten in the classroom and not enough for each student to have an individual one, they will be used in a variety of ways. During independent reading time they will be used as special chairs students will each use on occasion. I will utilize them in place of chairs at my small group tables during math and reading times. The rest of the day they will be used by the students who need the highest amount of movement in their life in order to stay focused on school.\\r\\n\\r\\nWhenever asked what the classroom is missing, my students always say more Hokki Stools. They can't get their fill of the 5 stools we already have. When the students are sitting in group with me on the Hokki Stools, they are always moving, but at the same time doing their work. Anytime the students get to pick where they can sit, the Hokki Stools are the first to be taken. There are always students who head over to the kidney table to get one of the stools who are disappointed as there are not enough of them. \\r\\n\\r\\nWe ask a lot of students to sit for 7 hours a day. The Hokki stools will be a compromise that allow my students to do desk work and move at the same time. These stools will help students to meet their 60 minutes a day of movement by allowing them to activate their core muscles for balance while they sit. For many of my students, these chairs will take away the barrier that exists in schools for a child who can't sit still.nannan\n",
      "====================================================================================================\n",
      "How do you remember your days of school? Was it in a sterile environment with plain walls, rows of desks, and a teacher in front of the room? A typical day in our room is nothing like that. I work hard to create a warm inviting themed room for my students look forward to coming to each day.\\r\\n\\r\\nMy class is made up of 28 wonderfully unique boys and girls of mixed races in Arkansas.\\r\\nThey attend a Title I school, which means there is a high enough percentage of free and reduced-price lunch to qualify. Our school is an \\\"open classroom\\\" concept, which is very unique as there are no walls separating the classrooms. These 9 and 10 year-old students are very eager learners; they are like sponges, absorbing all the information and experiences and keep on wanting more.With these resources such as the comfy red throw pillows and the whimsical nautical hanging decor and the blue fish nets, I will be able to help create the mood in our classroom setting to be one of a themed nautical environment. Creating a classroom environment is very important in the success in each and every child's education. The nautical photo props will be used with each child as they step foot into our classroom for the first time on Meet the Teacher evening. I'll take pictures of each child with them, have them developed, and then hung in our classroom ready for their first day of 4th grade.  This kind gesture will set the tone before even the first day of school! The nautical thank you cards will be used throughout the year by the students as they create thank you cards to their team groups.\\r\\n\\r\\nYour generous donations will help me to help make our classroom a fun, inviting, learning environment from day one.\\r\\n\\r\\nIt costs lost of money out of my own pocket on resources to get our classroom ready. Please consider helping with this project to make our new school year a very successful one. Thank you!nannan\n",
      "====================================================================================================\n",
      "My kindergarten students have varied disabilities ranging from speech and language delays, cognitive delays, gross/fine motor delays, to autism. They are eager beavers and always strive to work their hardest working past their limitations. \\r\\n\\r\\nThe materials we have are the ones I seek out for my students. I teach in a Title I school where most of the students receive free or reduced price lunch.  Despite their disabilities and limitations, my students love coming to school and come eager to learn and explore.Have you ever felt like you had ants in your pants and you needed to groove and move as you were in a meeting? This is how my kids feel all the time. The want to be able to move as they learn or so they say.Wobble chairs are the answer and I love then because they develop their core, which enhances gross motor and in Turn fine motor skills. \\r\\nThey also want to learn through games, my kids don't want to sit and do worksheets. They want to learn to count by jumping and playing. Physical engagement is the key to our success. The number toss and color and shape mats can make that happen. My students will forget they are doing work and just have the fun a 6 year old deserves.nannan\n",
      "====================================================================================================\n",
      "The mediocre teacher tells. The good teacher explains. The superior teacher demonstrates. The great teacher inspires. -William A. Ward\\r\\n\\r\\nMy school has 803 students which is makeup is 97.6% African-American, making up the largest segment of the student body. A typical school in Dallas is made up of 23.2% African-American students. Most of the students are on free or reduced lunch. We aren't receiving doctors, lawyers, or engineers children from rich backgrounds or neighborhoods. As an educator I am inspiring minds of young children and we focus not only on academics but one smart, effective, efficient, and disciplined students with good character.In our classroom we can utilize the Bluetooth for swift transitions during class. I use a speaker which doesn't amplify the sound enough to receive the message. Due to the volume of my speaker my students can't hear videos or books clearly and it isn't making the lessons as meaningful. But with the bluetooth speaker my students will be able to hear and I can stop, pause and replay it at any time.\\r\\nThe cart will allow me to have more room for storage of things that are needed for the day and has an extra part to it I can use.  The table top chart has all of the letter, words and pictures for students to learn about different letters and it is more accessible.nannan\n",
      "====================================================================================================\n"
     ]
    }
   ],
   "source": [
    "# printing some random essays.\n",
    "print(project['essay'].values[0])\n",
    "print(\"=\"*100)\n",
    "print(project['essay'].values[150])\n",
    "print(\"=\"*100)\n",
    "print(project['essay'].values[1000])\n",
    "print(\"=\"*100)\n",
    "print(project['essay'].values[20000])\n",
    "print(\"=\"*100)\n",
    "print(project['essay'].values[99999])\n",
    "print(\"=\"*100)"
   ]
  },
  {
   "cell_type": "code",
   "execution_count": 46,
   "metadata": {},
   "outputs": [],
   "source": [
    "# https://stackoverflow.com/a/47091490/4084039\n",
    "\n",
    "import re\n",
    "\n",
    "def decontracted(phrase):\n",
    "    # specific\n",
    "    phrase = re.sub(r\"won't\", \"will not\", phrase)\n",
    "    phrase = re.sub(r\"can\\'t\", \"can not\", phrase)\n",
    "\n",
    "    # general\n",
    "    phrase = re.sub(r\"n\\'t\", \" not\", phrase)\n",
    "    phrase = re.sub(r\"\\'re\", \" are\", phrase)\n",
    "    phrase = re.sub(r\"\\'s\", \" is\", phrase)\n",
    "    phrase = re.sub(r\"\\'d\", \" would\", phrase)\n",
    "    phrase = re.sub(r\"\\'ll\", \" will\", phrase)\n",
    "    phrase = re.sub(r\"\\'t\", \" not\", phrase)\n",
    "    phrase = re.sub(r\"\\'ve\", \" have\", phrase)\n",
    "    phrase = re.sub(r\"\\'m\", \" am\", phrase)\n",
    "    return phrase"
   ]
  },
  {
   "cell_type": "code",
   "execution_count": 47,
   "metadata": {},
   "outputs": [
    {
     "name": "stdout",
     "output_type": "stream",
     "text": [
      "The mediocre teacher tells. The good teacher explains. The superior teacher demonstrates. The great teacher inspires. -William A. Ward\\r\\n\\r\\nMy school has 803 students which is makeup is 97.6% African-American, making up the largest segment of the student body. A typical school in Dallas is made up of 23.2% African-American students. Most of the students are on free or reduced lunch. We are not receiving doctors, lawyers, or engineers children from rich backgrounds or neighborhoods. As an educator I am inspiring minds of young children and we focus not only on academics but one smart, effective, efficient, and disciplined students with good character.In our classroom we can utilize the Bluetooth for swift transitions during class. I use a speaker which does not amplify the sound enough to receive the message. Due to the volume of my speaker my students can not hear videos or books clearly and it is not making the lessons as meaningful. But with the bluetooth speaker my students will be able to hear and I can stop, pause and replay it at any time.\\r\\nThe cart will allow me to have more room for storage of things that are needed for the day and has an extra part to it I can use.  The table top chart has all of the letter, words and pictures for students to learn about different letters and it is more accessible.nannan\n",
      "==================================================================================================================================\n"
     ]
    }
   ],
   "source": [
    "sent = decontracted(project['essay'].values[99999])\n",
    "print(sent)\n",
    "print(\"=\"*130)"
   ]
  },
  {
   "cell_type": "code",
   "execution_count": 48,
   "metadata": {},
   "outputs": [
    {
     "name": "stdout",
     "output_type": "stream",
     "text": [
      "The mediocre teacher tells. The good teacher explains. The superior teacher demonstrates. The great teacher inspires. -William A. Ward    My school has 803 students which is makeup is 97.6% African-American, making up the largest segment of the student body. A typical school in Dallas is made up of 23.2% African-American students. Most of the students are on free or reduced lunch. We are not receiving doctors, lawyers, or engineers children from rich backgrounds or neighborhoods. As an educator I am inspiring minds of young children and we focus not only on academics but one smart, effective, efficient, and disciplined students with good character.In our classroom we can utilize the Bluetooth for swift transitions during class. I use a speaker which does not amplify the sound enough to receive the message. Due to the volume of my speaker my students can not hear videos or books clearly and it is not making the lessons as meaningful. But with the bluetooth speaker my students will be able to hear and I can stop, pause and replay it at any time.  The cart will allow me to have more room for storage of things that are needed for the day and has an extra part to it I can use.  The table top chart has all of the letter, words and pictures for students to learn about different letters and it is more accessible.nannan\n"
     ]
    }
   ],
   "source": [
    "# \\r \\n \\t remove from string python: http://texthandler.com/info/remove-line-breaks-python/\n",
    "sent = sent.replace('\\\\r', ' ')\n",
    "sent = sent.replace('\\\\\"', ' ')\n",
    "sent = sent.replace('\\\\n', ' ')\n",
    "print(sent)"
   ]
  },
  {
   "cell_type": "code",
   "execution_count": 49,
   "metadata": {},
   "outputs": [
    {
     "name": "stdout",
     "output_type": "stream",
     "text": [
      "The mediocre teacher tells The good teacher explains The superior teacher demonstrates The great teacher inspires William A Ward My school has 803 students which is makeup is 97 6 African American making up the largest segment of the student body A typical school in Dallas is made up of 23 2 African American students Most of the students are on free or reduced lunch We are not receiving doctors lawyers or engineers children from rich backgrounds or neighborhoods As an educator I am inspiring minds of young children and we focus not only on academics but one smart effective efficient and disciplined students with good character In our classroom we can utilize the Bluetooth for swift transitions during class I use a speaker which does not amplify the sound enough to receive the message Due to the volume of my speaker my students can not hear videos or books clearly and it is not making the lessons as meaningful But with the bluetooth speaker my students will be able to hear and I can stop pause and replay it at any time The cart will allow me to have more room for storage of things that are needed for the day and has an extra part to it I can use The table top chart has all of the letter words and pictures for students to learn about different letters and it is more accessible nannan\n"
     ]
    }
   ],
   "source": [
    "#remove spacial character: https://stackoverflow.com/a/5843547/4084039\n",
    "sent = re.sub('[^A-Za-z0-9]+', ' ', sent)\n",
    "print(sent)"
   ]
  },
  {
   "cell_type": "code",
   "execution_count": 50,
   "metadata": {},
   "outputs": [],
   "source": [
    "# https://gist.github.com/sebleier/554280\n",
    "# we are removing the words from the stop words list: 'no', 'nor', 'not'\n",
    "stopwords= ['i', 'me', 'my', 'myself', 'we', 'our', 'ours', 'ourselves', 'you', \"you're\", \"you've\",\\\n",
    "            \"you'll\", \"you'd\", 'your', 'yours', 'yourself', 'yourselves', 'he', 'him', 'his', 'himself', \\\n",
    "            'she', \"she's\", 'her', 'hers', 'herself', 'it', \"it's\", 'its', 'itself', 'they', 'them', 'their',\\\n",
    "            'theirs', 'themselves', 'what', 'which', 'who', 'whom', 'this', 'that', \"that'll\", 'these', 'those', \\\n",
    "            'am', 'is', 'are', 'was', 'were', 'be', 'been', 'being', 'have', 'has', 'had', 'having', 'do', 'does', \\\n",
    "            'did', 'doing', 'a', 'an', 'the', 'and', 'but', 'if', 'or', 'because', 'as', 'until', 'while', 'of', \\\n",
    "            'at', 'by', 'for', 'with', 'about', 'against', 'between', 'into', 'through', 'during', 'before', 'after',\\\n",
    "            'above', 'below', 'to', 'from', 'up', 'down', 'in', 'out', 'on', 'off', 'over', 'under', 'again', 'further',\\\n",
    "            'then', 'once', 'here', 'there', 'when', 'where', 'why', 'how', 'all', 'any', 'both', 'each', 'few', 'more',\\\n",
    "            'most', 'other', 'some', 'such', 'only', 'own', 'same', 'so', 'than', 'too', 'very', \\\n",
    "            's', 't', 'can', 'will', 'just', 'don', \"don't\", 'should', \"should've\", 'now', 'd', 'll', 'm', 'o', 're', \\\n",
    "            've', 'y', 'ain', 'aren', \"aren't\", 'couldn', \"couldn't\", 'didn', \"didn't\", 'doesn', \"doesn't\", 'hadn',\\\n",
    "            \"hadn't\", 'hasn', \"hasn't\", 'haven', \"haven't\", 'isn', \"isn't\", 'ma', 'mightn', \"mightn't\", 'mustn',\\\n",
    "            \"mustn't\", 'needn', \"needn't\", 'shan', \"shan't\", 'shouldn', \"shouldn't\", 'wasn', \"wasn't\", 'weren', \"weren't\", \\\n",
    "            'won', \"won't\", 'wouldn', \"wouldn't\"]"
   ]
  },
  {
   "cell_type": "code",
   "execution_count": 51,
   "metadata": {},
   "outputs": [
    {
     "name": "stderr",
     "output_type": "stream",
     "text": [
      "100%|████████████████████████████████████████████████████████████████████████| 109248/109248 [01:16<00:00, 1419.19it/s]\n"
     ]
    }
   ],
   "source": [
    "# Combining all the above statemennts \n",
    "from tqdm import tqdm\n",
    "preprocessed_essays = []\n",
    "# tqdm is for printing the status bar\n",
    "for sentence in tqdm(project['essay'].values):\n",
    "    sent = decontracted(sentence)\n",
    "    sent = sent.replace('\\\\r', ' ')\n",
    "    sent = sent.replace('\\\\\"', ' ')\n",
    "    sent = sent.replace('\\\\n', ' ')\n",
    "    sent = re.sub('[^A-Za-z0-9]+', ' ', sent)\n",
    "    # https://gist.github.com/sebleier/554280\n",
    "    sent = ' '.join(e for e in sent.split() if e not in stopwords)\n",
    "    preprocessed_essays.append(sent.lower().strip())"
   ]
  },
  {
   "cell_type": "code",
   "execution_count": 52,
   "metadata": {},
   "outputs": [
    {
     "data": {
      "text/plain": [
       "'the mediocre teacher tells the good teacher explains the superior teacher demonstrates the great teacher inspires william a ward my school 803 students makeup 97 6 african american making largest segment student body a typical school dallas made 23 2 african american students most students free reduced lunch we not receiving doctors lawyers engineers children rich backgrounds neighborhoods as educator i inspiring minds young children focus not academics one smart effective efficient disciplined students good character in classroom utilize bluetooth swift transitions class i use speaker not amplify sound enough receive message due volume speaker students not hear videos books clearly not making lessons meaningful but bluetooth speaker students able hear i stop pause replay time the cart allow room storage things needed day extra part i use the table top chart letter words pictures students learn different letters accessible nannan'"
      ]
     },
     "execution_count": 52,
     "metadata": {},
     "output_type": "execute_result"
    }
   ],
   "source": [
    "# after preprocesing\n",
    "preprocessed_essays[99999]"
   ]
  },
  {
   "cell_type": "markdown",
   "metadata": {},
   "source": [
    "<h2><font color='red'>1.3.2 Project title Text</font></h2>\n"
   ]
  },
  {
   "cell_type": "code",
   "execution_count": 53,
   "metadata": {},
   "outputs": [
    {
     "name": "stdout",
     "output_type": "stream",
     "text": [
      "Educational Support for English Learners at Home\n",
      "==================================================\n",
      "More Movement with Hokki Stools\n",
      "==================================================\n",
      "Sailing Into a Super 4th Grade Year\n",
      "==================================================\n",
      "We Need To Move It While We Input It!\n",
      "==================================================\n",
      "Inspiring Minds by Enhancing the Educational Experience\n",
      "==================================================\n"
     ]
    }
   ],
   "source": [
    "# printing some random project titles.\n",
    "\n",
    "print(project['project_title'].values[0])\n",
    "print(\"=\"*50)\n",
    "print(project['project_title'].values[150])\n",
    "print(\"=\"*50)\n",
    "print(project['project_title'].values[1000])\n",
    "print(\"=\"*50)\n",
    "print(project['project_title'].values[20000])\n",
    "print(\"=\"*50)\n",
    "print(project['project_title'].values[99999])\n",
    "print(\"=\"*50)\n"
   ]
  },
  {
   "cell_type": "code",
   "execution_count": 54,
   "metadata": {},
   "outputs": [
    {
     "name": "stderr",
     "output_type": "stream",
     "text": [
      "100%|████████████████████████████████████████████████████████████████████████| 109248/109248 [00:58<00:00, 1854.42it/s]\n"
     ]
    }
   ],
   "source": [
    "# Combining all the above statements \n",
    "\n",
    "from tqdm import tqdm\n",
    "preprocessed_project_titles = []\n",
    "# tqdm is for printing the status bar\n",
    "\n",
    "for title in tqdm(project['project_title'].values):\n",
    "    titles = decontracted(title)                    ## decontracting the sentence\n",
    "    titles = titles.replace('\\\\r', ' ')             ## removing \\r\n",
    "    titles = titles.replace('\\\\\"', ' ')             \n",
    "    titles = titles.replace('\\\\n', ' ')             ## removing \\n\n",
    "    titles = re.sub('[^A-Za-z0-9]+', ' ', titles)     ## removing special characters\n",
    "    # https://gist.github.com/sebleier/554280\n",
    "    titles = ' '.join(e for e in titles.split() if e not in stopwords)\n",
    "    preprocessed_project_titles.append(sent.lower().strip())"
   ]
  },
  {
   "cell_type": "code",
   "execution_count": 55,
   "metadata": {},
   "outputs": [
    {
     "data": {
      "text/plain": [
       "'when last time used math probably within last hour yet go school believing never use my students engage authentic math experiences routinely help understand critical math truly i teach small town big dreams fantastic opportunities surround students ultimate goal help achieve success seeking my students drive potential take world storm graduation all need little help according forbes magazine 2014 companies seeking employees strong problem solvers highly developed communication skills vast amount technical knowledge in order students gain skills need competitive today job market access digital devices critical by funding project allowing kids chance engage lessons develop not skills abilities apply real world meaning content learn communication collaboration creativity critical thinking blossom help we exploring authentic cross curricular topics bring math life for example rather memorizing formulas area perimeter properties various quadrilaterals students utilized tech resources plan create blueprints new home another teacher whose family growing they took blueprints step exploring ratios scale factors building scale models designs nannan'"
      ]
     },
     "execution_count": 55,
     "metadata": {},
     "output_type": "execute_result"
    }
   ],
   "source": [
    "preprocessed_project_titles[99999]"
   ]
  },
  {
   "cell_type": "markdown",
   "metadata": {},
   "source": [
    "# 1.4 Preparing data for models"
   ]
  },
  {
   "cell_type": "code",
   "execution_count": 56,
   "metadata": {},
   "outputs": [
    {
     "data": {
      "text/plain": [
       "Index(['Unnamed: 0', 'id', 'teacher_id', 'teacher_prefix', 'school_state',\n",
       "       'project_submitted_datetime', 'project_grade_category', 'project_title',\n",
       "       'project_essay_1', 'project_essay_2', 'project_essay_3',\n",
       "       'project_essay_4', 'project_resource_summary',\n",
       "       'teacher_number_of_previously_posted_projects', 'project_is_approved',\n",
       "       'clean_categories', 'clean_subcategories', 'essay', 'price', 'quantity',\n",
       "       'numbers_present_summary'],\n",
       "      dtype='object')"
      ]
     },
     "execution_count": 56,
     "metadata": {},
     "output_type": "execute_result"
    }
   ],
   "source": [
    "project.columns"
   ]
  },
  {
   "cell_type": "markdown",
   "metadata": {},
   "source": [
    "we are going to consider\n",
    "\n",
    "       - school_state : categorical data\n",
    "       - clean_categories : categorical data\n",
    "       - clean_subcategories : categorical data\n",
    "       - project_grade_category : categorical data\n",
    "       - teacher_prefix : categorical data\n",
    "       \n",
    "       - project_title : text data\n",
    "       - text : text data\n",
    "       - project_resource_summary: text data\n",
    "       \n",
    "       - quantity : numerical\n",
    "       - teacher_number_of_previously_posted_projects : numerical\n",
    "       - price : numerical"
   ]
  },
  {
   "cell_type": "markdown",
   "metadata": {},
   "source": [
    "### 1.4.1 Vectorizing categorical data"
   ]
  },
  {
   "cell_type": "markdown",
   "metadata": {},
   "source": [
    "#### For clean_categories"
   ]
  },
  {
   "cell_type": "code",
   "execution_count": 57,
   "metadata": {},
   "outputs": [
    {
     "name": "stdout",
     "output_type": "stream",
     "text": [
      "['Warmth', 'Care_Hunger', 'History_Civics', 'Music_Arts', 'AppliedLearning', 'SpecialNeeds', 'Health_Sports', 'Math_Science', 'Literacy_Language']\n",
      "Shape of matrix after one hot encodig  (109248, 9)\n"
     ]
    },
    {
     "data": {
      "text/plain": [
       "(5000, 9)"
      ]
     },
     "execution_count": 57,
     "metadata": {},
     "output_type": "execute_result"
    }
   ],
   "source": [
    "# we use count vectorizer to convert the \"clean_categories\" values into one hot encoded features\n",
    "\n",
    "from sklearn.feature_extraction.text import CountVectorizer\n",
    "vectorizer = CountVectorizer(vocabulary=list(sorted_cat_dict.keys()), lowercase=False, binary=True)\n",
    "vectorizer.fit(project['clean_categories'].values)\n",
    "print(vectorizer.get_feature_names())\n",
    "\n",
    "\n",
    "categories_one_hot = vectorizer.transform(project['clean_categories'].values)\n",
    "print(\"Shape of matrix after one hot encodig \", categories_one_hot.shape)\n",
    "\n",
    "categories_one_hot_5000= categories_one_hot[:5000]\n",
    "categories_one_hot_5000.shape"
   ]
  },
  {
   "cell_type": "markdown",
   "metadata": {},
   "source": [
    "#### For clean_subcategories"
   ]
  },
  {
   "cell_type": "code",
   "execution_count": 58,
   "metadata": {},
   "outputs": [
    {
     "name": "stdout",
     "output_type": "stream",
     "text": [
      "['Economics', 'CommunityService', 'FinancialLiteracy', 'ParentInvolvement', 'Extracurricular', 'Civics_Government', 'ForeignLanguages', 'NutritionEducation', 'Warmth', 'Care_Hunger', 'SocialSciences', 'PerformingArts', 'CharacterEducation', 'TeamSports', 'Other', 'College_CareerPrep', 'Music', 'History_Geography', 'Health_LifeScience', 'EarlyDevelopment', 'ESL', 'Gym_Fitness', 'EnvironmentalScience', 'VisualArts', 'Health_Wellness', 'AppliedSciences', 'SpecialNeeds', 'Literature_Writing', 'Mathematics', 'Literacy']\n",
      "Shape of matrix after one hot encodig  (109248, 30)\n"
     ]
    },
    {
     "data": {
      "text/plain": [
       "(5000, 30)"
      ]
     },
     "execution_count": 58,
     "metadata": {},
     "output_type": "execute_result"
    }
   ],
   "source": [
    "# we use count vectorizer to convert the \"clean_subcategories\" values into one hot encoded features\n",
    "\n",
    "vectorizer = CountVectorizer(vocabulary=list(sorted_sub_cat_dict.keys()), lowercase=False, binary=True)\n",
    "vectorizer.fit(project['clean_subcategories'].values)\n",
    "print(vectorizer.get_feature_names())\n",
    "\n",
    "\n",
    "sub_categories_one_hot = vectorizer.transform(project['clean_subcategories'].values)\n",
    "print(\"Shape of matrix after one hot encodig \", sub_categories_one_hot.shape)\n",
    "\n",
    "sub_categories_one_hot_5000= sub_categories_one_hot[:5000]\n",
    "sub_categories_one_hot_5000.shape"
   ]
  },
  {
   "cell_type": "markdown",
   "metadata": {},
   "source": [
    "#### For school_state"
   ]
  },
  {
   "cell_type": "code",
   "execution_count": 59,
   "metadata": {},
   "outputs": [
    {
     "data": {
      "text/plain": [
       "Counter({'AK': 345,\n",
       "         'AL': 1762,\n",
       "         'AR': 1049,\n",
       "         'AZ': 2147,\n",
       "         'CA': 15388,\n",
       "         'CO': 1111,\n",
       "         'CT': 1663,\n",
       "         'DC': 516,\n",
       "         'DE': 343,\n",
       "         'FL': 6185,\n",
       "         'GA': 3963,\n",
       "         'HI': 507,\n",
       "         'IA': 666,\n",
       "         'ID': 693,\n",
       "         'IL': 4350,\n",
       "         'IN': 2620,\n",
       "         'KS': 634,\n",
       "         'KY': 1304,\n",
       "         'LA': 2394,\n",
       "         'MA': 2389,\n",
       "         'MD': 1514,\n",
       "         'ME': 505,\n",
       "         'MI': 3161,\n",
       "         'MN': 1208,\n",
       "         'MO': 2576,\n",
       "         'MS': 1323,\n",
       "         'MT': 245,\n",
       "         'NC': 5091,\n",
       "         'ND': 143,\n",
       "         'NE': 309,\n",
       "         'NH': 348,\n",
       "         'NJ': 2237,\n",
       "         'NM': 557,\n",
       "         'NV': 1367,\n",
       "         'NY': 7318,\n",
       "         'OH': 2467,\n",
       "         'OK': 2276,\n",
       "         'OR': 1242,\n",
       "         'PA': 3109,\n",
       "         'RI': 285,\n",
       "         'SC': 3936,\n",
       "         'SD': 300,\n",
       "         'TN': 1688,\n",
       "         'TX': 7396,\n",
       "         'UT': 1731,\n",
       "         'VA': 2045,\n",
       "         'VT': 80,\n",
       "         'WA': 2334,\n",
       "         'WI': 1827,\n",
       "         'WV': 503,\n",
       "         'WY': 98})"
      ]
     },
     "execution_count": 59,
     "metadata": {},
     "output_type": "execute_result"
    }
   ],
   "source": [
    "# we use count vectorizer to convert the \"school_state\" values into one hot encoded features\n",
    "\n",
    "\n",
    "from collections import Counter  ##Once initialized, counters are accessed just like dictionaries.\n",
    "                                 ##Also, it does not raise the KeyValue error (if key is not present) \n",
    "                                 ##instead the value’s count is shown as 0.\n",
    "\n",
    "\n",
    "school_state_list= list(sorted(project['school_state']))\n",
    "school_state_counter=Counter(school_state_list)\n",
    "school_state_counter                  ## alphabetically sorted\n",
    "\n",
    "\n",
    "## for numerically sorted\n",
    "\n",
    "# dict sort by value python: https://stackoverflow.com/a/613218/4084039\n",
    "\n",
    "# school_state_dict = dict(school_state_counter)\n",
    "# sorted_school_state_dict = dict(sorted(school_state_dict.items(), key=lambda kv: kv[1]))\n",
    "# sorted_school_state_dict      \n"
   ]
  },
  {
   "cell_type": "code",
   "execution_count": 60,
   "metadata": {},
   "outputs": [
    {
     "name": "stdout",
     "output_type": "stream",
     "text": [
      "['AK', 'AL', 'AR', 'AZ', 'CA', 'CO', 'CT', 'DC', 'DE', 'FL', 'GA', 'HI', 'IA', 'ID', 'IL', 'IN', 'KS', 'KY', 'LA', 'MA', 'MD', 'ME', 'MI', 'MN', 'MO', 'MS', 'MT', 'NC', 'ND', 'NE', 'NH', 'NJ', 'NM', 'NV', 'NY', 'OH', 'OK', 'OR', 'PA', 'RI', 'SC', 'SD', 'TN', 'TX', 'UT', 'VA', 'VT', 'WA', 'WI', 'WV', 'WY']\n",
      "\n",
      " Shape of matrix after one hot encodig  (109248, 51)\n"
     ]
    },
    {
     "data": {
      "text/plain": [
       "(5000, 51)"
      ]
     },
     "execution_count": 60,
     "metadata": {},
     "output_type": "execute_result"
    }
   ],
   "source": [
    "# we use count vectorizer to convert the \"school_state\" values into one hot encoded features\n",
    "\n",
    "vectorizer = CountVectorizer(vocabulary=list(school_state_counter.keys()), lowercase=False, binary=True)\n",
    "vectorizer.fit(project['school_state'].values)\n",
    "print(vectorizer.get_feature_names())\n",
    "\n",
    "\n",
    "school_state_one_hot = vectorizer.transform(project['school_state'].values)\n",
    "print(\"\\n Shape of matrix after one hot encodig \", school_state_one_hot.shape)\n",
    "\n",
    "school_state_one_hot_5000 = school_state_one_hot[:5000]\n",
    "school_state_one_hot_5000.shape"
   ]
  },
  {
   "cell_type": "markdown",
   "metadata": {},
   "source": [
    "#### For teacher_prefix"
   ]
  },
  {
   "cell_type": "code",
   "execution_count": 61,
   "metadata": {},
   "outputs": [
    {
     "data": {
      "text/plain": [
       "Counter({'Mrs.': 57269,\n",
       "         'Mr.': 10648,\n",
       "         'Ms.': 38955,\n",
       "         'Teacher': 2360,\n",
       "         nan: 3,\n",
       "         'Dr.': 13})"
      ]
     },
     "execution_count": 61,
     "metadata": {},
     "output_type": "execute_result"
    }
   ],
   "source": [
    "## For teacher_prefix the same thing\n",
    "\n",
    "from collections import Counter\n",
    "\n",
    "teacher_prefix_list= list(project['teacher_prefix'])\n",
    "teacher_prefix_counter= Counter(teacher_prefix_list)\n",
    "teacher_prefix_counter\n",
    "\n",
    "# dict sort by value python: https://stackoverflow.com/a/613218/4084039\n",
    "\n",
    "# teacher_prefix_dict = dict(teacher_prefix_counter)\n",
    "# sorted_teacher_prefix_dict = dict(sorted(teacher_prefix_dict.items(), key=lambda kv: kv[1]))\n",
    "# sorted_teacher_prefix_dict"
   ]
  },
  {
   "cell_type": "markdown",
   "metadata": {},
   "source": [
    "#### Observation:-\n",
    "Maximum number of teacher use the prefix 'Mrs.'(57269 of total) which implies that they are middle age and married. Then comes the prefix 'Ms.' which implies young women, followed by 'Mr.' which implies men. 13 of teachers however used 'Dr.' as a prefix.\n",
    "\n",
    "Now we need to find out these values as if we try to vectorize these. it throws a value-error."
   ]
  },
  {
   "cell_type": "code",
   "execution_count": 62,
   "metadata": {},
   "outputs": [
    {
     "data": {
      "text/html": [
       "<div>\n",
       "<style scoped>\n",
       "    .dataframe tbody tr th:only-of-type {\n",
       "        vertical-align: middle;\n",
       "    }\n",
       "\n",
       "    .dataframe tbody tr th {\n",
       "        vertical-align: top;\n",
       "    }\n",
       "\n",
       "    .dataframe thead th {\n",
       "        text-align: right;\n",
       "    }\n",
       "</style>\n",
       "<table border=\"1\" class=\"dataframe\">\n",
       "  <thead>\n",
       "    <tr style=\"text-align: right;\">\n",
       "      <th></th>\n",
       "      <th>Unnamed: 0</th>\n",
       "      <th>id</th>\n",
       "      <th>teacher_id</th>\n",
       "      <th>teacher_prefix</th>\n",
       "      <th>school_state</th>\n",
       "      <th>project_submitted_datetime</th>\n",
       "      <th>project_grade_category</th>\n",
       "      <th>project_title</th>\n",
       "      <th>project_essay_1</th>\n",
       "      <th>project_essay_2</th>\n",
       "      <th>...</th>\n",
       "      <th>project_essay_4</th>\n",
       "      <th>project_resource_summary</th>\n",
       "      <th>teacher_number_of_previously_posted_projects</th>\n",
       "      <th>project_is_approved</th>\n",
       "      <th>clean_categories</th>\n",
       "      <th>clean_subcategories</th>\n",
       "      <th>essay</th>\n",
       "      <th>price</th>\n",
       "      <th>quantity</th>\n",
       "      <th>numbers_present_summary</th>\n",
       "    </tr>\n",
       "  </thead>\n",
       "  <tbody>\n",
       "    <tr>\n",
       "      <th>7820</th>\n",
       "      <td>17809</td>\n",
       "      <td>p180947</td>\n",
       "      <td>834f75f1b5e24bd10abe9c3dbf7ba12f</td>\n",
       "      <td>NaN</td>\n",
       "      <td>CA</td>\n",
       "      <td>2016-11-04 00:15:45</td>\n",
       "      <td>Grades 3-5</td>\n",
       "      <td>1:7 Increasing Tech to Decrease Achievement Gaps</td>\n",
       "      <td>The children at Anna Yates Elementary school a...</td>\n",
       "      <td>My goal is to bring in 1 laptop for every 7 st...</td>\n",
       "      <td>...</td>\n",
       "      <td>NaN</td>\n",
       "      <td>My students need a classroom laptop that is ju...</td>\n",
       "      <td>1</td>\n",
       "      <td>1</td>\n",
       "      <td>Literacy_Language Math_Science</td>\n",
       "      <td>Literature_Writing Mathematics</td>\n",
       "      <td>The children at Anna Yates Elementary school a...</td>\n",
       "      <td>910.87</td>\n",
       "      <td>2</td>\n",
       "      <td>0</td>\n",
       "    </tr>\n",
       "    <tr>\n",
       "      <th>30368</th>\n",
       "      <td>22174</td>\n",
       "      <td>p002730</td>\n",
       "      <td>339bd5a9e445d68a74d65b99cd325397</td>\n",
       "      <td>NaN</td>\n",
       "      <td>SC</td>\n",
       "      <td>2016-05-09 09:38:40</td>\n",
       "      <td>Grades 9-12</td>\n",
       "      <td>iPads for STEM Stations</td>\n",
       "      <td>Within the next 20 years, every job will invol...</td>\n",
       "      <td>The students in our school come from a wide va...</td>\n",
       "      <td>...</td>\n",
       "      <td>Your generosity will allow my students to work...</td>\n",
       "      <td>My students need 5 iPads for STEM stations.</td>\n",
       "      <td>0</td>\n",
       "      <td>1</td>\n",
       "      <td>Literacy_Language</td>\n",
       "      <td>Literature_Writing</td>\n",
       "      <td>Within the next 20 years, every job will invol...</td>\n",
       "      <td>285.86</td>\n",
       "      <td>16</td>\n",
       "      <td>1</td>\n",
       "    </tr>\n",
       "    <tr>\n",
       "      <th>57654</th>\n",
       "      <td>158692</td>\n",
       "      <td>p197901</td>\n",
       "      <td>e4be6aaaa887d4202df2b647fbfc82bb</td>\n",
       "      <td>NaN</td>\n",
       "      <td>PA</td>\n",
       "      <td>2016-06-03 10:15:05</td>\n",
       "      <td>Grades 3-5</td>\n",
       "      <td>Document Camera</td>\n",
       "      <td>Students at Robertsdale Elementary live in a l...</td>\n",
       "      <td>This SMART Document Camera will improve my stu...</td>\n",
       "      <td>...</td>\n",
       "      <td>NaN</td>\n",
       "      <td>My students need a Smart Document Camera to en...</td>\n",
       "      <td>0</td>\n",
       "      <td>1</td>\n",
       "      <td>Literacy_Language Math_Science</td>\n",
       "      <td>Literacy Mathematics</td>\n",
       "      <td>Students at Robertsdale Elementary live in a l...</td>\n",
       "      <td>145.29</td>\n",
       "      <td>2</td>\n",
       "      <td>0</td>\n",
       "    </tr>\n",
       "  </tbody>\n",
       "</table>\n",
       "<p>3 rows × 21 columns</p>\n",
       "</div>"
      ],
      "text/plain": [
       "       Unnamed: 0       id                        teacher_id teacher_prefix  \\\n",
       "7820        17809  p180947  834f75f1b5e24bd10abe9c3dbf7ba12f            NaN   \n",
       "30368       22174  p002730  339bd5a9e445d68a74d65b99cd325397            NaN   \n",
       "57654      158692  p197901  e4be6aaaa887d4202df2b647fbfc82bb            NaN   \n",
       "\n",
       "      school_state project_submitted_datetime project_grade_category  \\\n",
       "7820            CA        2016-11-04 00:15:45             Grades 3-5   \n",
       "30368           SC        2016-05-09 09:38:40            Grades 9-12   \n",
       "57654           PA        2016-06-03 10:15:05             Grades 3-5   \n",
       "\n",
       "                                          project_title  \\\n",
       "7820   1:7 Increasing Tech to Decrease Achievement Gaps   \n",
       "30368                           iPads for STEM Stations   \n",
       "57654                                   Document Camera   \n",
       "\n",
       "                                         project_essay_1  \\\n",
       "7820   The children at Anna Yates Elementary school a...   \n",
       "30368  Within the next 20 years, every job will invol...   \n",
       "57654  Students at Robertsdale Elementary live in a l...   \n",
       "\n",
       "                                         project_essay_2  \\\n",
       "7820   My goal is to bring in 1 laptop for every 7 st...   \n",
       "30368  The students in our school come from a wide va...   \n",
       "57654  This SMART Document Camera will improve my stu...   \n",
       "\n",
       "                ...             \\\n",
       "7820            ...              \n",
       "30368           ...              \n",
       "57654           ...              \n",
       "\n",
       "                                         project_essay_4  \\\n",
       "7820                                                 NaN   \n",
       "30368  Your generosity will allow my students to work...   \n",
       "57654                                                NaN   \n",
       "\n",
       "                                project_resource_summary  \\\n",
       "7820   My students need a classroom laptop that is ju...   \n",
       "30368        My students need 5 iPads for STEM stations.   \n",
       "57654  My students need a Smart Document Camera to en...   \n",
       "\n",
       "      teacher_number_of_previously_posted_projects  project_is_approved  \\\n",
       "7820                                             1                    1   \n",
       "30368                                            0                    1   \n",
       "57654                                            0                    1   \n",
       "\n",
       "                     clean_categories             clean_subcategories  \\\n",
       "7820   Literacy_Language Math_Science  Literature_Writing Mathematics   \n",
       "30368               Literacy_Language              Literature_Writing   \n",
       "57654  Literacy_Language Math_Science            Literacy Mathematics   \n",
       "\n",
       "                                                   essay   price  quantity  \\\n",
       "7820   The children at Anna Yates Elementary school a...  910.87         2   \n",
       "30368  Within the next 20 years, every job will invol...  285.86        16   \n",
       "57654  Students at Robertsdale Elementary live in a l...  145.29         2   \n",
       "\n",
       "       numbers_present_summary  \n",
       "7820                         0  \n",
       "30368                        1  \n",
       "57654                        0  \n",
       "\n",
       "[3 rows x 21 columns]"
      ]
     },
     "execution_count": 62,
     "metadata": {},
     "output_type": "execute_result"
    }
   ],
   "source": [
    "project.loc[project['teacher_prefix'].isnull()]"
   ]
  },
  {
   "cell_type": "markdown",
   "metadata": {},
   "source": [
    "We shall now replace NaN with \"No_prefix\""
   ]
  },
  {
   "cell_type": "code",
   "execution_count": 63,
   "metadata": {},
   "outputs": [
    {
     "data": {
      "text/html": [
       "<div>\n",
       "<style scoped>\n",
       "    .dataframe tbody tr th:only-of-type {\n",
       "        vertical-align: middle;\n",
       "    }\n",
       "\n",
       "    .dataframe tbody tr th {\n",
       "        vertical-align: top;\n",
       "    }\n",
       "\n",
       "    .dataframe thead th {\n",
       "        text-align: right;\n",
       "    }\n",
       "</style>\n",
       "<table border=\"1\" class=\"dataframe\">\n",
       "  <thead>\n",
       "    <tr style=\"text-align: right;\">\n",
       "      <th></th>\n",
       "      <th>Unnamed: 0</th>\n",
       "      <th>id</th>\n",
       "      <th>teacher_id</th>\n",
       "      <th>teacher_prefix</th>\n",
       "      <th>school_state</th>\n",
       "      <th>project_submitted_datetime</th>\n",
       "      <th>project_grade_category</th>\n",
       "      <th>project_title</th>\n",
       "      <th>project_essay_1</th>\n",
       "      <th>project_essay_2</th>\n",
       "      <th>...</th>\n",
       "      <th>project_essay_4</th>\n",
       "      <th>project_resource_summary</th>\n",
       "      <th>teacher_number_of_previously_posted_projects</th>\n",
       "      <th>project_is_approved</th>\n",
       "      <th>clean_categories</th>\n",
       "      <th>clean_subcategories</th>\n",
       "      <th>essay</th>\n",
       "      <th>price</th>\n",
       "      <th>quantity</th>\n",
       "      <th>numbers_present_summary</th>\n",
       "    </tr>\n",
       "  </thead>\n",
       "  <tbody>\n",
       "    <tr>\n",
       "      <th>7820</th>\n",
       "      <td>17809</td>\n",
       "      <td>p180947</td>\n",
       "      <td>834f75f1b5e24bd10abe9c3dbf7ba12f</td>\n",
       "      <td>No-prefix</td>\n",
       "      <td>CA</td>\n",
       "      <td>2016-11-04 00:15:45</td>\n",
       "      <td>Grades 3-5</td>\n",
       "      <td>1:7 Increasing Tech to Decrease Achievement Gaps</td>\n",
       "      <td>The children at Anna Yates Elementary school a...</td>\n",
       "      <td>My goal is to bring in 1 laptop for every 7 st...</td>\n",
       "      <td>...</td>\n",
       "      <td>NaN</td>\n",
       "      <td>My students need a classroom laptop that is ju...</td>\n",
       "      <td>1</td>\n",
       "      <td>1</td>\n",
       "      <td>Literacy_Language Math_Science</td>\n",
       "      <td>Literature_Writing Mathematics</td>\n",
       "      <td>The children at Anna Yates Elementary school a...</td>\n",
       "      <td>910.87</td>\n",
       "      <td>2</td>\n",
       "      <td>0</td>\n",
       "    </tr>\n",
       "    <tr>\n",
       "      <th>30368</th>\n",
       "      <td>22174</td>\n",
       "      <td>p002730</td>\n",
       "      <td>339bd5a9e445d68a74d65b99cd325397</td>\n",
       "      <td>No-prefix</td>\n",
       "      <td>SC</td>\n",
       "      <td>2016-05-09 09:38:40</td>\n",
       "      <td>Grades 9-12</td>\n",
       "      <td>iPads for STEM Stations</td>\n",
       "      <td>Within the next 20 years, every job will invol...</td>\n",
       "      <td>The students in our school come from a wide va...</td>\n",
       "      <td>...</td>\n",
       "      <td>Your generosity will allow my students to work...</td>\n",
       "      <td>My students need 5 iPads for STEM stations.</td>\n",
       "      <td>0</td>\n",
       "      <td>1</td>\n",
       "      <td>Literacy_Language</td>\n",
       "      <td>Literature_Writing</td>\n",
       "      <td>Within the next 20 years, every job will invol...</td>\n",
       "      <td>285.86</td>\n",
       "      <td>16</td>\n",
       "      <td>1</td>\n",
       "    </tr>\n",
       "    <tr>\n",
       "      <th>57654</th>\n",
       "      <td>158692</td>\n",
       "      <td>p197901</td>\n",
       "      <td>e4be6aaaa887d4202df2b647fbfc82bb</td>\n",
       "      <td>No-prefix</td>\n",
       "      <td>PA</td>\n",
       "      <td>2016-06-03 10:15:05</td>\n",
       "      <td>Grades 3-5</td>\n",
       "      <td>Document Camera</td>\n",
       "      <td>Students at Robertsdale Elementary live in a l...</td>\n",
       "      <td>This SMART Document Camera will improve my stu...</td>\n",
       "      <td>...</td>\n",
       "      <td>NaN</td>\n",
       "      <td>My students need a Smart Document Camera to en...</td>\n",
       "      <td>0</td>\n",
       "      <td>1</td>\n",
       "      <td>Literacy_Language Math_Science</td>\n",
       "      <td>Literacy Mathematics</td>\n",
       "      <td>Students at Robertsdale Elementary live in a l...</td>\n",
       "      <td>145.29</td>\n",
       "      <td>2</td>\n",
       "      <td>0</td>\n",
       "    </tr>\n",
       "  </tbody>\n",
       "</table>\n",
       "<p>3 rows × 21 columns</p>\n",
       "</div>"
      ],
      "text/plain": [
       "       Unnamed: 0       id                        teacher_id teacher_prefix  \\\n",
       "7820        17809  p180947  834f75f1b5e24bd10abe9c3dbf7ba12f      No-prefix   \n",
       "30368       22174  p002730  339bd5a9e445d68a74d65b99cd325397      No-prefix   \n",
       "57654      158692  p197901  e4be6aaaa887d4202df2b647fbfc82bb      No-prefix   \n",
       "\n",
       "      school_state project_submitted_datetime project_grade_category  \\\n",
       "7820            CA        2016-11-04 00:15:45             Grades 3-5   \n",
       "30368           SC        2016-05-09 09:38:40            Grades 9-12   \n",
       "57654           PA        2016-06-03 10:15:05             Grades 3-5   \n",
       "\n",
       "                                          project_title  \\\n",
       "7820   1:7 Increasing Tech to Decrease Achievement Gaps   \n",
       "30368                           iPads for STEM Stations   \n",
       "57654                                   Document Camera   \n",
       "\n",
       "                                         project_essay_1  \\\n",
       "7820   The children at Anna Yates Elementary school a...   \n",
       "30368  Within the next 20 years, every job will invol...   \n",
       "57654  Students at Robertsdale Elementary live in a l...   \n",
       "\n",
       "                                         project_essay_2  \\\n",
       "7820   My goal is to bring in 1 laptop for every 7 st...   \n",
       "30368  The students in our school come from a wide va...   \n",
       "57654  This SMART Document Camera will improve my stu...   \n",
       "\n",
       "                ...             \\\n",
       "7820            ...              \n",
       "30368           ...              \n",
       "57654           ...              \n",
       "\n",
       "                                         project_essay_4  \\\n",
       "7820                                                 NaN   \n",
       "30368  Your generosity will allow my students to work...   \n",
       "57654                                                NaN   \n",
       "\n",
       "                                project_resource_summary  \\\n",
       "7820   My students need a classroom laptop that is ju...   \n",
       "30368        My students need 5 iPads for STEM stations.   \n",
       "57654  My students need a Smart Document Camera to en...   \n",
       "\n",
       "      teacher_number_of_previously_posted_projects  project_is_approved  \\\n",
       "7820                                             1                    1   \n",
       "30368                                            0                    1   \n",
       "57654                                            0                    1   \n",
       "\n",
       "                     clean_categories             clean_subcategories  \\\n",
       "7820   Literacy_Language Math_Science  Literature_Writing Mathematics   \n",
       "30368               Literacy_Language              Literature_Writing   \n",
       "57654  Literacy_Language Math_Science            Literacy Mathematics   \n",
       "\n",
       "                                                   essay   price  quantity  \\\n",
       "7820   The children at Anna Yates Elementary school a...  910.87         2   \n",
       "30368  Within the next 20 years, every job will invol...  285.86        16   \n",
       "57654  Students at Robertsdale Elementary live in a l...  145.29         2   \n",
       "\n",
       "       numbers_present_summary  \n",
       "7820                         0  \n",
       "30368                        1  \n",
       "57654                        0  \n",
       "\n",
       "[3 rows x 21 columns]"
      ]
     },
     "execution_count": 63,
     "metadata": {},
     "output_type": "execute_result"
    }
   ],
   "source": [
    "project['teacher_prefix'].fillna('No-prefix', inplace= True)\n",
    "\n",
    "project.loc[project['teacher_prefix']==\"No-prefix\"]  ## cross-checking"
   ]
  },
  {
   "cell_type": "code",
   "execution_count": 64,
   "metadata": {},
   "outputs": [
    {
     "data": {
      "text/plain": [
       "Counter({'Mrs.': 57269,\n",
       "         'Mr.': 10648,\n",
       "         'Ms.': 38955,\n",
       "         'Teacher': 2360,\n",
       "         'No-prefix': 3,\n",
       "         'Dr.': 13})"
      ]
     },
     "execution_count": 64,
     "metadata": {},
     "output_type": "execute_result"
    }
   ],
   "source": [
    "from collections import Counter\n",
    "\n",
    "teacher_prefix_list= list(project['teacher_prefix'])\n",
    "teacher_prefix_counter= Counter(teacher_prefix_list)\n",
    "teacher_prefix_counter"
   ]
  },
  {
   "cell_type": "code",
   "execution_count": 65,
   "metadata": {},
   "outputs": [
    {
     "name": "stdout",
     "output_type": "stream",
     "text": [
      "['Mrs.', 'Mr.', 'Ms.', 'Teacher', 'No-prefix', 'Dr.']\n",
      "\n",
      " Shape of matrix after one hot encodig  (109248, 6)\n"
     ]
    },
    {
     "data": {
      "text/plain": [
       "(5000, 6)"
      ]
     },
     "execution_count": 65,
     "metadata": {},
     "output_type": "execute_result"
    }
   ],
   "source": [
    "vectorizer = CountVectorizer(vocabulary=list(teacher_prefix_counter.keys()), lowercase=False, binary=True)\n",
    "vectorizer.fit(project['teacher_prefix'].values)\n",
    "print(vectorizer.get_feature_names())\n",
    "\n",
    "\n",
    "teacher_prefix_one_hot = vectorizer.transform(project['teacher_prefix'].values)\n",
    "print(\"\\n Shape of matrix after one hot encodig \", teacher_prefix_one_hot.shape)\n",
    "\n",
    "teacher_prefix_one_hot_5000 = teacher_prefix_one_hot[:5000]\n",
    "teacher_prefix_one_hot_5000.shape"
   ]
  },
  {
   "cell_type": "markdown",
   "metadata": {},
   "source": [
    "#### For grade_category"
   ]
  },
  {
   "cell_type": "code",
   "execution_count": 66,
   "metadata": {},
   "outputs": [
    {
     "data": {
      "text/plain": [
       "['Grades PreK-2', 'Grades 6-8']"
      ]
     },
     "execution_count": 66,
     "metadata": {},
     "output_type": "execute_result"
    }
   ],
   "source": [
    "grade_categories = list(project['project_grade_category'].values)\n",
    "grade_categories[:2]"
   ]
  },
  {
   "cell_type": "markdown",
   "metadata": {},
   "source": [
    "We can see that there are spaces in between and its not a singular word, we need to make it singular for vectorization"
   ]
  },
  {
   "cell_type": "code",
   "execution_count": 67,
   "metadata": {},
   "outputs": [
    {
     "data": {
      "text/plain": [
       "['Grades_PreK_2', 'Grades_6_8']"
      ]
     },
     "execution_count": 67,
     "metadata": {},
     "output_type": "execute_result"
    }
   ],
   "source": [
    "# remove special characters from list of strings python: https://stackoverflow.com/a/47301924/4084039\n",
    "\n",
    "# https://www.geeksforgeeks.org/removing-stop-words-nltk-python/\n",
    "# https://stackoverflow.com/questions/23669024/how-to-strip-a-specific-word-from-a-string\n",
    "# https://stackoverflow.com/questions/8270092/remove-all-whitespace-in-a-string-in-python\n",
    "\n",
    "cleaned_grades_cat_list = []\n",
    "for i in grade_categories:\n",
    "    \n",
    "    # consider we have text like this \"Math & Science, Warmth, Care & Hunger\"\n",
    "    for j in i.split(','): # it will split it in three parts [\"Math & Science\", \"Warmth\", \"Care & Hunger\"]\n",
    "        j = j.replace(' ','_') # we are placeing all the ' '(space) with ''(empty) ex:\"Math & Science\"=>\"Math&Science\"\n",
    "        j = j.replace('-','_') # we are replacing hyphen(-) with underscore(_)\n",
    "    cleaned_grades_cat_list.append(j)\n",
    "\n",
    "cleaned_grades_cat_list[:2]       ## cross-checking"
   ]
  },
  {
   "cell_type": "markdown",
   "metadata": {},
   "source": [
    "Now its a single word, we can proceed further"
   ]
  },
  {
   "cell_type": "code",
   "execution_count": 68,
   "metadata": {},
   "outputs": [
    {
     "data": {
      "text/html": [
       "<div>\n",
       "<style scoped>\n",
       "    .dataframe tbody tr th:only-of-type {\n",
       "        vertical-align: middle;\n",
       "    }\n",
       "\n",
       "    .dataframe tbody tr th {\n",
       "        vertical-align: top;\n",
       "    }\n",
       "\n",
       "    .dataframe thead th {\n",
       "        text-align: right;\n",
       "    }\n",
       "</style>\n",
       "<table border=\"1\" class=\"dataframe\">\n",
       "  <thead>\n",
       "    <tr style=\"text-align: right;\">\n",
       "      <th></th>\n",
       "      <th>Unnamed: 0</th>\n",
       "      <th>id</th>\n",
       "      <th>teacher_id</th>\n",
       "      <th>teacher_prefix</th>\n",
       "      <th>school_state</th>\n",
       "      <th>project_submitted_datetime</th>\n",
       "      <th>project_title</th>\n",
       "      <th>project_essay_1</th>\n",
       "      <th>project_essay_2</th>\n",
       "      <th>project_essay_3</th>\n",
       "      <th>...</th>\n",
       "      <th>project_resource_summary</th>\n",
       "      <th>teacher_number_of_previously_posted_projects</th>\n",
       "      <th>project_is_approved</th>\n",
       "      <th>clean_categories</th>\n",
       "      <th>clean_subcategories</th>\n",
       "      <th>essay</th>\n",
       "      <th>price</th>\n",
       "      <th>quantity</th>\n",
       "      <th>numbers_present_summary</th>\n",
       "      <th>clean_grade_category</th>\n",
       "    </tr>\n",
       "  </thead>\n",
       "  <tbody>\n",
       "    <tr>\n",
       "      <th>0</th>\n",
       "      <td>160221</td>\n",
       "      <td>p253737</td>\n",
       "      <td>c90749f5d961ff158d4b4d1e7dc665fc</td>\n",
       "      <td>Mrs.</td>\n",
       "      <td>IN</td>\n",
       "      <td>2016-12-05 13:43:57</td>\n",
       "      <td>Educational Support for English Learners at Home</td>\n",
       "      <td>My students are English learners that are work...</td>\n",
       "      <td>\\\"The limits of your language are the limits o...</td>\n",
       "      <td>NaN</td>\n",
       "      <td>...</td>\n",
       "      <td>My students need opportunities to practice beg...</td>\n",
       "      <td>0</td>\n",
       "      <td>0</td>\n",
       "      <td>Literacy_Language</td>\n",
       "      <td>ESL Literacy</td>\n",
       "      <td>My students are English learners that are work...</td>\n",
       "      <td>154.6</td>\n",
       "      <td>23</td>\n",
       "      <td>0</td>\n",
       "      <td>Grades_PreK_2</td>\n",
       "    </tr>\n",
       "    <tr>\n",
       "      <th>1</th>\n",
       "      <td>140945</td>\n",
       "      <td>p258326</td>\n",
       "      <td>897464ce9ddc600bced1151f324dd63a</td>\n",
       "      <td>Mr.</td>\n",
       "      <td>FL</td>\n",
       "      <td>2016-10-25 09:22:10</td>\n",
       "      <td>Wanted: Projector for Hungry Learners</td>\n",
       "      <td>Our students arrive to our school eager to lea...</td>\n",
       "      <td>The projector we need for our school is very c...</td>\n",
       "      <td>NaN</td>\n",
       "      <td>...</td>\n",
       "      <td>My students need a projector to help with view...</td>\n",
       "      <td>7</td>\n",
       "      <td>1</td>\n",
       "      <td>History_Civics Health_Sports</td>\n",
       "      <td>Civics_Government TeamSports</td>\n",
       "      <td>Our students arrive to our school eager to lea...</td>\n",
       "      <td>299.0</td>\n",
       "      <td>1</td>\n",
       "      <td>0</td>\n",
       "      <td>Grades_6_8</td>\n",
       "    </tr>\n",
       "  </tbody>\n",
       "</table>\n",
       "<p>2 rows × 21 columns</p>\n",
       "</div>"
      ],
      "text/plain": [
       "   Unnamed: 0       id                        teacher_id teacher_prefix  \\\n",
       "0      160221  p253737  c90749f5d961ff158d4b4d1e7dc665fc           Mrs.   \n",
       "1      140945  p258326  897464ce9ddc600bced1151f324dd63a            Mr.   \n",
       "\n",
       "  school_state project_submitted_datetime  \\\n",
       "0           IN        2016-12-05 13:43:57   \n",
       "1           FL        2016-10-25 09:22:10   \n",
       "\n",
       "                                      project_title  \\\n",
       "0  Educational Support for English Learners at Home   \n",
       "1             Wanted: Projector for Hungry Learners   \n",
       "\n",
       "                                     project_essay_1  \\\n",
       "0  My students are English learners that are work...   \n",
       "1  Our students arrive to our school eager to lea...   \n",
       "\n",
       "                                     project_essay_2 project_essay_3  \\\n",
       "0  \\\"The limits of your language are the limits o...             NaN   \n",
       "1  The projector we need for our school is very c...             NaN   \n",
       "\n",
       "           ...                                    project_resource_summary  \\\n",
       "0          ...           My students need opportunities to practice beg...   \n",
       "1          ...           My students need a projector to help with view...   \n",
       "\n",
       "  teacher_number_of_previously_posted_projects  project_is_approved  \\\n",
       "0                                            0                    0   \n",
       "1                                            7                    1   \n",
       "\n",
       "               clean_categories           clean_subcategories  \\\n",
       "0             Literacy_Language                  ESL Literacy   \n",
       "1  History_Civics Health_Sports  Civics_Government TeamSports   \n",
       "\n",
       "                                               essay  price  quantity  \\\n",
       "0  My students are English learners that are work...  154.6        23   \n",
       "1  Our students arrive to our school eager to lea...  299.0         1   \n",
       "\n",
       "   numbers_present_summary  clean_grade_category  \n",
       "0                        0         Grades_PreK_2  \n",
       "1                        0            Grades_6_8  \n",
       "\n",
       "[2 rows x 21 columns]"
      ]
     },
     "execution_count": 68,
     "metadata": {},
     "output_type": "execute_result"
    }
   ],
   "source": [
    "project['clean_grade_category']= cleaned_grades_cat_list  ## adding a new feature/dimension\n",
    "project.drop(['project_grade_category'], axis=1, inplace=True)\n",
    "project.head(2)"
   ]
  },
  {
   "cell_type": "code",
   "execution_count": 69,
   "metadata": {},
   "outputs": [
    {
     "data": {
      "text/plain": [
       "Counter({'Grades_PreK_2': 44225,\n",
       "         'Grades_6_8': 16923,\n",
       "         'Grades_3_5': 37137,\n",
       "         'Grades_9_12': 10963})"
      ]
     },
     "execution_count": 69,
     "metadata": {},
     "output_type": "execute_result"
    }
   ],
   "source": [
    "## For clean_grade_category the same thing\n",
    "\n",
    "from collections import Counter\n",
    "\n",
    "clean_grade_category_list= list(project['clean_grade_category'])\n",
    "clean_grade_category_counter= Counter(clean_grade_category_list)\n",
    "clean_grade_category_counter"
   ]
  },
  {
   "cell_type": "code",
   "execution_count": 70,
   "metadata": {},
   "outputs": [
    {
     "name": "stdout",
     "output_type": "stream",
     "text": [
      "['Grades_PreK_2', 'Grades_6_8', 'Grades_3_5', 'Grades_9_12']\n",
      "\n",
      " Shape of matrix after one hot encodig  (109248, 4)\n"
     ]
    },
    {
     "data": {
      "text/plain": [
       "(5000, 4)"
      ]
     },
     "execution_count": 70,
     "metadata": {},
     "output_type": "execute_result"
    }
   ],
   "source": [
    "vectorizer = CountVectorizer(vocabulary=list(clean_grade_category_counter.keys()), lowercase=False, binary=True)\n",
    "vectorizer.fit(project['clean_grade_category'].values)\n",
    "print(vectorizer.get_feature_names())\n",
    "\n",
    "\n",
    "clean_grade_category_one_hot = vectorizer.transform(project['clean_grade_category'].values)\n",
    "print(\"\\n Shape of matrix after one hot encodig \", clean_grade_category_one_hot.shape)\n",
    "\n",
    "clean_grade_category_one_hot_5000 = clean_grade_category_one_hot[:5000]\n",
    "clean_grade_category_one_hot_5000.shape"
   ]
  },
  {
   "cell_type": "markdown",
   "metadata": {},
   "source": [
    "### 1.4.2 Vectorizing Text data"
   ]
  },
  {
   "cell_type": "markdown",
   "metadata": {},
   "source": [
    "#### 1.4.2.1 Bag of words"
   ]
  },
  {
   "cell_type": "code",
   "execution_count": 71,
   "metadata": {},
   "outputs": [
    {
     "name": "stdout",
     "output_type": "stream",
     "text": [
      "Shape of matrix after one hot encodig  (109248, 16623)\n"
     ]
    },
    {
     "data": {
      "text/plain": [
       "(5000, 16623)"
      ]
     },
     "execution_count": 71,
     "metadata": {},
     "output_type": "execute_result"
    }
   ],
   "source": [
    "# We are considering only the words which appeared in at least 10 documents(rows or projects).\n",
    "vectorizer = CountVectorizer(min_df=10)\n",
    "text_bow = vectorizer.fit_transform(preprocessed_essays)\n",
    "print(\"Shape of matrix after one hot encodig \",text_bow.shape)\n",
    "text_bow_5000= text_bow[:5000]\n",
    "text_bow_5000.shape"
   ]
  },
  {
   "cell_type": "markdown",
   "metadata": {},
   "source": [
    "<h4><font color='red'> 1.4.2.2 Bag of Words on `project_title`</font></h4>"
   ]
  },
  {
   "cell_type": "code",
   "execution_count": 72,
   "metadata": {},
   "outputs": [
    {
     "name": "stdout",
     "output_type": "stream",
     "text": [
      "Shape of matrix after one hot encodig  (109248, 132)\n"
     ]
    },
    {
     "data": {
      "text/plain": [
       "(5000, 132)"
      ]
     },
     "execution_count": 72,
     "metadata": {},
     "output_type": "execute_result"
    }
   ],
   "source": [
    "# We are considering only the words which appeared in at least 10 documents(rows or projects).\n",
    "vectorizer = CountVectorizer(min_df=10)\n",
    "titles_bow = vectorizer.fit_transform(preprocessed_project_titles)\n",
    "print(\"Shape of matrix after one hot encodig \",titles_bow.shape)\n",
    "titles_bow_5000 = titles_bow[:5000] \n",
    "titles_bow_5000.shape"
   ]
  },
  {
   "cell_type": "markdown",
   "metadata": {},
   "source": [
    "#### 1.4.2.3 TFIDF vectorizer"
   ]
  },
  {
   "cell_type": "code",
   "execution_count": 73,
   "metadata": {},
   "outputs": [
    {
     "name": "stdout",
     "output_type": "stream",
     "text": [
      "Shape of matrix after one hot encodig  (109248, 16623)\n"
     ]
    },
    {
     "data": {
      "text/plain": [
       "(5000, 16623)"
      ]
     },
     "execution_count": 73,
     "metadata": {},
     "output_type": "execute_result"
    }
   ],
   "source": [
    "from sklearn.feature_extraction.text import TfidfVectorizer\n",
    "vectorizer = TfidfVectorizer(min_df=10)\n",
    "text_tfidf = vectorizer.fit_transform(preprocessed_essays)\n",
    "print(\"Shape of matrix after one hot encodig \",text_tfidf.shape)\n",
    "text_tfidf_5000= text_tfidf[:5000]\n",
    "text_tfidf_5000.shape"
   ]
  },
  {
   "cell_type": "markdown",
   "metadata": {},
   "source": [
    "<h4><font color='red'> 1.4.2.4 TFIDF Vectorizer on `project_title`</font></h4>"
   ]
  },
  {
   "cell_type": "code",
   "execution_count": 74,
   "metadata": {},
   "outputs": [
    {
     "name": "stdout",
     "output_type": "stream",
     "text": [
      "Shape of matrix after one hot encodig  (109248, 132)\n"
     ]
    },
    {
     "data": {
      "text/plain": [
       "(5000, 132)"
      ]
     },
     "execution_count": 74,
     "metadata": {},
     "output_type": "execute_result"
    }
   ],
   "source": [
    "from sklearn.feature_extraction.text import TfidfVectorizer\n",
    "vectorizer = TfidfVectorizer(min_df=10)\n",
    "titles_tfidf = vectorizer.fit_transform(preprocessed_project_titles)\n",
    "print(\"Shape of matrix after one hot encodig \",titles_tfidf.shape)\n",
    "titles_tfidf_5000= titles_tfidf[:5000]\n",
    "titles_tfidf_5000.shape"
   ]
  },
  {
   "cell_type": "markdown",
   "metadata": {},
   "source": [
    "#### 1.4.2.5 Using Pretrained Models: Avg W2V on essays"
   ]
  },
  {
   "cell_type": "code",
   "execution_count": 75,
   "metadata": {},
   "outputs": [
    {
     "data": {
      "text/plain": [
       "'\\n# Reading glove vectors in python: https://stackoverflow.com/a/38230349/4084039\\ndef loadGloveModel(gloveFile):\\n    print (\"Loading Glove Model\")\\n    f = open(gloveFile,\\'r\\', encoding=\"utf8\")\\n    model = {}\\n    for line in tqdm(f):\\n        splitLine = line.split()\\n        word = splitLine[0]\\n        embedding = np.array([float(val) for val in splitLine[1:]])\\n        model[word] = embedding\\n    print (\"Done.\",len(model),\" words loaded!\")\\n    return model\\nmodel = loadGloveModel(\\'glove.42B.300d.txt\\')\\n\\n# ============================\\nOutput:\\n    \\nLoading Glove Model\\n1917495it [06:32, 4879.69it/s]\\nDone. 1917495  words loaded!\\n\\n# ============================\\n\\nwords = []\\nfor i in preproced_texts:\\n    words.extend(i.split(\\' \\'))\\n\\nfor i in preproced_titles:\\n    words.extend(i.split(\\' \\'))\\nprint(\"all the words in the coupus\", len(words))\\nwords = set(words)\\nprint(\"the unique words in the coupus\", len(words))\\n\\ninter_words = set(model.keys()).intersection(words)\\nprint(\"The number of words that are present in both glove vectors and our coupus\",       len(inter_words),\"(\",np.round(len(inter_words)/len(words)*100,3),\"%)\")\\n\\nwords_courpus = {}\\nwords_glove = set(model.keys())\\nfor i in words:\\n    if i in words_glove:\\n        words_courpus[i] = model[i]\\nprint(\"word 2 vec length\", len(words_courpus))\\n\\n\\n# stronging variables into pickle files python: http://www.jessicayung.com/how-to-use-pickle-to-save-and-load-variables-in-python/\\n\\nimport pickle\\nwith open(\\'glove_vectors\\', \\'wb\\') as f:\\n    pickle.dump(words_courpus, f)\\n\\n\\n'"
      ]
     },
     "execution_count": 75,
     "metadata": {},
     "output_type": "execute_result"
    }
   ],
   "source": [
    "'''\n",
    "# Reading glove vectors in python: https://stackoverflow.com/a/38230349/4084039\n",
    "def loadGloveModel(gloveFile):\n",
    "    print (\"Loading Glove Model\")\n",
    "    f = open(gloveFile,'r', encoding=\"utf8\")\n",
    "    model = {}\n",
    "    for line in tqdm(f):\n",
    "        splitLine = line.split()\n",
    "        word = splitLine[0]\n",
    "        embedding = np.array([float(val) for val in splitLine[1:]])\n",
    "        model[word] = embedding\n",
    "    print (\"Done.\",len(model),\" words loaded!\")\n",
    "    return model\n",
    "model = loadGloveModel('glove.42B.300d.txt')\n",
    "\n",
    "# ============================\n",
    "Output:\n",
    "    \n",
    "Loading Glove Model\n",
    "1917495it [06:32, 4879.69it/s]\n",
    "Done. 1917495  words loaded!\n",
    "\n",
    "# ============================\n",
    "\n",
    "words = []\n",
    "for i in preproced_texts:\n",
    "    words.extend(i.split(' '))\n",
    "\n",
    "for i in preproced_titles:\n",
    "    words.extend(i.split(' '))\n",
    "print(\"all the words in the coupus\", len(words))\n",
    "words = set(words)\n",
    "print(\"the unique words in the coupus\", len(words))\n",
    "\n",
    "inter_words = set(model.keys()).intersection(words)\n",
    "print(\"The number of words that are present in both glove vectors and our coupus\", \\\n",
    "      len(inter_words),\"(\",np.round(len(inter_words)/len(words)*100,3),\"%)\")\n",
    "\n",
    "words_courpus = {}\n",
    "words_glove = set(model.keys())\n",
    "for i in words:\n",
    "    if i in words_glove:\n",
    "        words_courpus[i] = model[i]\n",
    "print(\"word 2 vec length\", len(words_courpus))\n",
    "\n",
    "\n",
    "# stronging variables into pickle files python: http://www.jessicayung.com/how-to-use-pickle-to-save-and-load-variables-in-python/\n",
    "\n",
    "import pickle\n",
    "with open('glove_vectors', 'wb') as f:\n",
    "    pickle.dump(words_courpus, f)\n",
    "\n",
    "\n",
    "'''"
   ]
  },
  {
   "cell_type": "code",
   "execution_count": 76,
   "metadata": {},
   "outputs": [],
   "source": [
    "# stronging variables into pickle files python: http://www.jessicayung.com/how-to-use-pickle-to-save-and-load-variables-in-python/\n",
    "# make sure you have the glove_vectors file\n",
    "import pickle\n",
    "\n",
    "with open('glove_vectors', 'rb') as f:          ## this is unpickinling where r is read, b is binary mode\n",
    "    model = pickle.load(f)\n",
    "    glove_words =  set(model.keys())"
   ]
  },
  {
   "cell_type": "code",
   "execution_count": 77,
   "metadata": {},
   "outputs": [
    {
     "name": "stderr",
     "output_type": "stream",
     "text": [
      "100%|████████████████████████████████████████████████████████████████████████| 109248/109248 [00:46<00:00, 2328.20it/s]\n"
     ]
    },
    {
     "name": "stdout",
     "output_type": "stream",
     "text": [
      "109248\n",
      "300\n"
     ]
    }
   ],
   "source": [
    "# average Word2Vec\n",
    "# compute average word2vec for each review.\n",
    "avg_w2v_vectors_essays = []; # the avg-w2v for each sentence/review is stored in this list\n",
    "for sentence in tqdm(preprocessed_essays): # for each review/sentence\n",
    "    vector = np.zeros(300) # as word vectors are of zero length\n",
    "    cnt_words =0; # num of words with a valid vector in the sentence/review\n",
    "    for word in sentence.split(): # for each word in a review/sentence\n",
    "        if word in glove_words:\n",
    "            vector += model[word]\n",
    "            cnt_words += 1\n",
    "    if cnt_words != 0:\n",
    "        vector /= cnt_words\n",
    "    avg_w2v_vectors_essays.append(vector)\n",
    "\n",
    "print(len(avg_w2v_vectors_essays))\n",
    "print(len(avg_w2v_vectors_essays[0]))           "
   ]
  },
  {
   "cell_type": "code",
   "execution_count": 78,
   "metadata": {},
   "outputs": [
    {
     "data": {
      "text/plain": [
       "(5000, 300)"
      ]
     },
     "execution_count": 78,
     "metadata": {},
     "output_type": "execute_result"
    }
   ],
   "source": [
    "## https://stackoverflow.com/questions/15868512/list-to-array-conversion\n",
    "## since avg_w2v_vectors_essays is a list we need to convert it to an numpy array to proceed\n",
    "\n",
    "text_avg_w2v = np.asarray(avg_w2v_vectors_essays)\n",
    "text_avg_w2v_5000= text_avg_w2v[:5000]\n",
    "text_avg_w2v_5000.shape"
   ]
  },
  {
   "cell_type": "markdown",
   "metadata": {},
   "source": [
    "<h4><font color='red'> 1.4.2.6 Using Pretrained Models: AVG W2V on `project_title`</font></h4>"
   ]
  },
  {
   "cell_type": "code",
   "execution_count": 79,
   "metadata": {},
   "outputs": [
    {
     "name": "stderr",
     "output_type": "stream",
     "text": [
      "100%|████████████████████████████████████████████████████████████████████████| 109248/109248 [00:39<00:00, 2759.17it/s]\n"
     ]
    },
    {
     "name": "stdout",
     "output_type": "stream",
     "text": [
      "109248\n",
      "300\n"
     ]
    }
   ],
   "source": [
    "# average Word2Vec\n",
    "# compute average word2vec for each review.\n",
    "avg_w2v_vectors_project_titles = []; # the avg-w2v for each sentence/review is stored in this list\n",
    "for sentence in tqdm(preprocessed_project_titles): # for each review/sentence\n",
    "    vector = np.zeros(300) # as word vectors are of zero length\n",
    "    cnt_words =0; # num of words with a valid vector in the sentence/review\n",
    "    for word in sentence.split(): # for each word in a review/sentence\n",
    "        if word in glove_words:\n",
    "            vector += model[word]\n",
    "            cnt_words += 1\n",
    "    if cnt_words != 0:\n",
    "        vector /= cnt_words\n",
    "    avg_w2v_vectors_project_titles.append(vector)\n",
    "\n",
    "print(len(avg_w2v_vectors_project_titles))\n",
    "print(len(avg_w2v_vectors_project_titles[0]))"
   ]
  },
  {
   "cell_type": "code",
   "execution_count": 80,
   "metadata": {},
   "outputs": [
    {
     "data": {
      "text/plain": [
       "(5000, 300)"
      ]
     },
     "execution_count": 80,
     "metadata": {},
     "output_type": "execute_result"
    }
   ],
   "source": [
    "## https://stackoverflow.com/questions/15868512/list-to-array-conversion\n",
    "## since avg_w2v_vectors_project_titles is a list we need to convert it to an numpy array to proceed\n",
    "\n",
    "titles_avg_w2v = np.asarray(avg_w2v_vectors_project_titles)\n",
    "titles_avg_w2v_5000= titles_avg_w2v[:5000]\n",
    "titles_avg_w2v_5000.shape"
   ]
  },
  {
   "cell_type": "markdown",
   "metadata": {},
   "source": [
    "#### 1.4.2.7 Using Pretrained Models: TFIDF weighted W2V"
   ]
  },
  {
   "cell_type": "code",
   "execution_count": 81,
   "metadata": {},
   "outputs": [],
   "source": [
    "# S = [\"abc def pqr\", \"def def def abc\", \"pqr pqr def\"]\n",
    "tfidf_model = TfidfVectorizer()\n",
    "tfidf_model.fit(preprocessed_essays)\n",
    "# we are converting a dictionary with word as a key, and the idf as a value\n",
    "dictionary = dict(zip(tfidf_model.get_feature_names(), list(tfidf_model.idf_)))\n",
    "tfidf_words = set(tfidf_model.get_feature_names())"
   ]
  },
  {
   "cell_type": "code",
   "execution_count": 82,
   "metadata": {},
   "outputs": [
    {
     "name": "stderr",
     "output_type": "stream",
     "text": [
      "100%|█████████████████████████████████████████████████████████████████████████| 109248/109248 [05:04<00:00, 359.34it/s]\n"
     ]
    },
    {
     "name": "stdout",
     "output_type": "stream",
     "text": [
      "109248\n",
      "300\n"
     ]
    }
   ],
   "source": [
    "# average Word2Vec\n",
    "# compute average word2vec for each review.\n",
    "tfidf_w2v_vectors_essays = []; # the avg-w2v for each sentence/review is stored in this list\n",
    "for sentence in tqdm(preprocessed_essays): # for each review/sentence\n",
    "    vector = np.zeros(300) # as word vectors are of zero length\n",
    "    tf_idf_weight =0; # num of words with a valid vector in the sentence/review\n",
    "    for word in sentence.split(): # for each word in a review/sentence\n",
    "        if (word in glove_words) and (word in tfidf_words):\n",
    "            vec = model[word] # getting the vector for each word\n",
    "            # here we are multiplying idf value(dictionary[word]) and the tf value((sentence.count(word)/len(sentence.split())))\n",
    "            tf_idf = dictionary[word]*(sentence.count(word)/len(sentence.split())) # getting the tfidf value for each word\n",
    "            vector += (vec * tf_idf) # calculating tfidf weighted w2v\n",
    "            tf_idf_weight += tf_idf\n",
    "    if tf_idf_weight != 0:\n",
    "        vector /= tf_idf_weight\n",
    "    tfidf_w2v_vectors_essays.append(vector)\n",
    "\n",
    "print(len(tfidf_w2v_vectors_essays))\n",
    "print(len(tfidf_w2v_vectors_essays[0]))"
   ]
  },
  {
   "cell_type": "code",
   "execution_count": 83,
   "metadata": {},
   "outputs": [
    {
     "data": {
      "text/plain": [
       "(5000, 300)"
      ]
     },
     "execution_count": 83,
     "metadata": {},
     "output_type": "execute_result"
    }
   ],
   "source": [
    "## list to array conversion\n",
    "\n",
    "text_tfidf_w2v= np.asarray(tfidf_w2v_vectors_essays)\n",
    "text_tfidf_w2v_5000= text_tfidf_w2v[:5000]\n",
    "text_tfidf_w2v_5000.shape"
   ]
  },
  {
   "cell_type": "markdown",
   "metadata": {},
   "source": [
    "<h4><font color='red'> 1.4.2.6 Using Pretrained Models: TFIDF weighted W2V on `project_title`</font></h4>"
   ]
  },
  {
   "cell_type": "code",
   "execution_count": 84,
   "metadata": {},
   "outputs": [],
   "source": [
    "# S = [\"abc def pqr\", \"def def def abc\", \"pqr pqr def\"]\n",
    "tfidf_model = TfidfVectorizer()\n",
    "tfidf_model.fit(preprocessed_project_titles)\n",
    "# we are converting a dictionary with word as a key, and the idf as a value\n",
    "dictionary = dict(zip(tfidf_model.get_feature_names(), list(tfidf_model.idf_)))\n",
    "tfidf_words = set(tfidf_model.get_feature_names())"
   ]
  },
  {
   "cell_type": "code",
   "execution_count": 85,
   "metadata": {},
   "outputs": [
    {
     "name": "stderr",
     "output_type": "stream",
     "text": [
      "100%|█████████████████████████████████████████████████████████████████████████| 109248/109248 [05:04<00:00, 359.17it/s]\n"
     ]
    },
    {
     "name": "stdout",
     "output_type": "stream",
     "text": [
      "109248\n",
      "300\n"
     ]
    }
   ],
   "source": [
    "# average Word2Vec\n",
    "# compute average word2vec for each review.\n",
    "tfidf_w2v_vectors_project_titles = []; # the avg-w2v for each sentence/review is stored in this list\n",
    "for sentence in tqdm(preprocessed_project_titles): # for each review/sentence\n",
    "    vector = np.zeros(300) # as word vectors are of zero length\n",
    "    tf_idf_weight =0; # num of words with a valid vector in the sentence/review\n",
    "    for word in sentence.split(): # for each word in a review/sentence\n",
    "        if (word in glove_words) and (word in tfidf_words):\n",
    "            vec = model[word] # getting the vector for each word\n",
    "            # here we are multiplying idf value(dictionary[word]) and the tf value((sentence.count(word)/len(sentence.split())))\n",
    "            tf_idf = dictionary[word]*(sentence.count(word)/len(sentence.split())) # getting the tfidf value for each word\n",
    "            vector += (vec * tf_idf) # calculating tfidf weighted w2v\n",
    "            tf_idf_weight += tf_idf\n",
    "    if tf_idf_weight != 0:\n",
    "        vector /= tf_idf_weight\n",
    "    tfidf_w2v_vectors_project_titles.append(vector)\n",
    "\n",
    "print(len(tfidf_w2v_vectors_project_titles))\n",
    "print(len(tfidf_w2v_vectors_project_titles[0]))"
   ]
  },
  {
   "cell_type": "code",
   "execution_count": 86,
   "metadata": {},
   "outputs": [
    {
     "data": {
      "text/plain": [
       "(5000, 300)"
      ]
     },
     "execution_count": 86,
     "metadata": {},
     "output_type": "execute_result"
    }
   ],
   "source": [
    "## list to array conversion\n",
    "\n",
    "titles_tfidf_w2v= np.asarray(tfidf_w2v_vectors_project_titles)\n",
    "titles_tfidf_w2v_5000= titles_tfidf_w2v[:5000]\n",
    "titles_tfidf_w2v_5000.shape"
   ]
  },
  {
   "cell_type": "markdown",
   "metadata": {},
   "source": [
    "### 1.4.3 Vectorizing Numerical features"
   ]
  },
  {
   "cell_type": "markdown",
   "metadata": {},
   "source": [
    "#### Vectorizing price"
   ]
  },
  {
   "cell_type": "code",
   "execution_count": 87,
   "metadata": {},
   "outputs": [
    {
     "name": "stdout",
     "output_type": "stream",
     "text": [
      "Mean : 298.1193425966608, Standard deviation : 367.49634838483496\n",
      "(109248, 1)\n"
     ]
    },
    {
     "data": {
      "text/plain": [
       "(5000, 1)"
      ]
     },
     "execution_count": 87,
     "metadata": {},
     "output_type": "execute_result"
    }
   ],
   "source": [
    "# check this one: https://www.youtube.com/watch?v=0HOqOcln3Z4&t=530s\n",
    "# standardization sklearn: https://scikit-learn.org/stable/modules/generated/sklearn.preprocessing.StandardScaler.html\n",
    "from sklearn.preprocessing import StandardScaler\n",
    "\n",
    "# price_standardized = standardScalar.fit(project_data['price'].values)\n",
    "# this will rise the error\n",
    "# ValueError: Expected 2D array, got 1D array instead: array=[725.05 213.03 329.   ... 399.   287.73   5.5 ].\n",
    "# Reshape your data either using array.reshape(-1, 1)\n",
    "\n",
    "price_scalar = StandardScaler()\n",
    "price_scalar.fit(project['price'].values.reshape(-1,1)) # finding the mean and standard deviation of this data\n",
    "print(f\"Mean : {price_scalar.mean_[0]}, Standard deviation : {np.sqrt(price_scalar.var_[0])}\")\n",
    "\n",
    "# Now standardize the data with above maen and variance.\n",
    "price_standardized = price_scalar.transform(project['price'].values.reshape(-1, 1))\n",
    "print(price_standardized.shape)\n",
    "price_standardized_5000 = price_standardized[:5000]\n",
    "price_standardized_5000.shape"
   ]
  },
  {
   "cell_type": "markdown",
   "metadata": {},
   "source": [
    "The mean price of a project is 298.119 dollars"
   ]
  },
  {
   "cell_type": "markdown",
   "metadata": {},
   "source": [
    "#### Vectorizing teacher_number_of_previously_posted_projects"
   ]
  },
  {
   "cell_type": "code",
   "execution_count": 88,
   "metadata": {},
   "outputs": [
    {
     "name": "stdout",
     "output_type": "stream",
     "text": [
      "Mean : 11.153165275336848, Standard deviation : 27.77702641477403\n",
      "[[-0.40152481]\n",
      " [-0.14951799]\n",
      " [-0.36552384]\n",
      " ...\n",
      " [-0.29352189]\n",
      " [-0.40152481]\n",
      " [-0.40152481]]\n"
     ]
    },
    {
     "data": {
      "text/plain": [
       "(5000, 1)"
      ]
     },
     "execution_count": 88,
     "metadata": {},
     "output_type": "execute_result"
    }
   ],
   "source": [
    "# check this one: https://www.youtube.com/watch?v=0HOqOcln3Z4&t=530s\n",
    "# standardization sklearn: https://scikit-learn.org/stable/modules/generated/sklearn.preprocessing.StandardScaler.html\n",
    "from sklearn.preprocessing import StandardScaler\n",
    "\n",
    "# price_standardized = standardScalar.fit(project_data['price'].values)\n",
    "# this will rise the error\n",
    "# ValueError: Expected 2D array, got 1D array instead: array=[725.05 213.03 329.   ... 399.   287.73   5.5 ].\n",
    "# Reshape your data either using array.reshape(-1, 1)\n",
    "\n",
    "teacher_number_of_previously_posted_projects_scalar = StandardScaler()\n",
    "teacher_number_of_previously_posted_projects_scalar.fit(project['teacher_number_of_previously_posted_projects'].values.reshape(-1,1)) # finding the mean and standard deviation of this data\n",
    "print(f\"Mean : {teacher_number_of_previously_posted_projects_scalar.mean_[0]}, Standard deviation : {np.sqrt(teacher_number_of_previously_posted_projects_scalar.var_[0])}\")\n",
    "\n",
    "# Now standardize the data with above maen and variance.\n",
    "teacher_number_of_previously_posted_projects_standardized = teacher_number_of_previously_posted_projects_scalar.transform(project['teacher_number_of_previously_posted_projects'].values.reshape(-1, 1))\n",
    "print(teacher_number_of_previously_posted_projects_standardized)\n",
    "teacher_number_of_previously_posted_projects_standardized_5000 = teacher_number_of_previously_posted_projects_standardized[:5000]\n",
    "teacher_number_of_previously_posted_projects_standardized_5000.shape"
   ]
  },
  {
   "cell_type": "markdown",
   "metadata": {},
   "source": [
    "The mean number of previously posted projects are 11.1531"
   ]
  },
  {
   "cell_type": "markdown",
   "metadata": {},
   "source": [
    "### 1.4.4 Merging all the above features"
   ]
  },
  {
   "cell_type": "markdown",
   "metadata": {},
   "source": [
    "We need to merge all numerical, categorical, text vectors.\n",
    "\n",
    "Numerical :- (For numerical data we are going to take standardized data)\n",
    "1. teacher_number_of_previously_posted_projects\n",
    "2. price\n",
    "\n",
    "Categorical:- (For categorical data we are going to take one hot encoded data)\n",
    "1. clean_categories\n",
    "2. clean_subcategories\n",
    "3. clean_grade_categories\n",
    "4. teacher_prefix\n",
    "5. school_state\n",
    "\n",
    "Text:- (For text we are going to take vectorised data)\n",
    "1. essay\n",
    "2. project title\n",
    "\n"
   ]
  },
  {
   "cell_type": "code",
   "execution_count": 89,
   "metadata": {},
   "outputs": [
    {
     "name": "stdout",
     "output_type": "stream",
     "text": [
      "All categorical\n",
      "(5000, 9)\n",
      "(5000, 30)\n",
      "(5000, 4)\n",
      "(5000, 6)\n",
      "(5000, 51)\n",
      "\n",
      "All numerical\n",
      "(5000, 1)\n",
      "(5000, 1)\n",
      "\n",
      "All text\n",
      "(5000, 16623)\n",
      "(5000, 16623)\n",
      "(5000, 300)\n",
      "(5000, 300)\n",
      "(5000, 132)\n",
      "(5000, 132)\n",
      "(5000, 300)\n",
      "(5000, 300)\n"
     ]
    }
   ],
   "source": [
    "print('All categorical')\n",
    "print(categories_one_hot_5000.shape)\n",
    "print(sub_categories_one_hot_5000.shape)\n",
    "print(clean_grade_category_one_hot_5000.shape)\n",
    "print(teacher_prefix_one_hot_5000.shape)\n",
    "print(school_state_one_hot_5000.shape)\n",
    "\n",
    "print('\\nAll numerical')\n",
    "print(teacher_number_of_previously_posted_projects_standardized_5000.shape)\n",
    "print(price_standardized_5000.shape)\n",
    "\n",
    "print('\\nAll text')\n",
    "print(text_bow_5000.shape)\n",
    "print(text_tfidf_5000.shape)\n",
    "print(text_avg_w2v_5000.shape)\n",
    "print(text_tfidf_w2v_5000.shape)\n",
    "print(titles_bow_5000.shape)\n",
    "print(titles_tfidf_5000.shape)\n",
    "print(titles_avg_w2v_5000.shape)\n",
    "print(titles_tfidf_w2v_5000.shape)"
   ]
  },
  {
   "cell_type": "markdown",
   "metadata": {},
   "source": [
    "##### We are going to create 4 sparse matrix. \n"
   ]
  },
  {
   "cell_type": "code",
   "execution_count": 90,
   "metadata": {},
   "outputs": [
    {
     "name": "stdout",
     "output_type": "stream",
     "text": [
      "Shape of X1 (5000, 16857)\n"
     ]
    }
   ],
   "source": [
    "# merge two sparse matrices: https://stackoverflow.com/a/19710648/4084039\n",
    "from scipy.sparse import hstack\n",
    "# with the same hstack function we are concatinating a sparse matrix and a dense matirx :)\n",
    "\n",
    "## 1.  Numerical+ Categorical + (essay+ titles) bow\n",
    "\n",
    "X1 = hstack((categories_one_hot_5000,sub_categories_one_hot_5000,clean_grade_category_one_hot_5000,\n",
    "           teacher_prefix_one_hot_5000,school_state_one_hot_5000 , teacher_number_of_previously_posted_projects_standardized_5000,\n",
    "           price_standardized_5000.shape , text_bow_5000, titles_bow_5000))\n",
    "print('Shape of X1', X1.shape)\n",
    "\n"
   ]
  },
  {
   "cell_type": "code",
   "execution_count": 91,
   "metadata": {},
   "outputs": [
    {
     "name": "stdout",
     "output_type": "stream",
     "text": [
      "Shape of X2 (5000, 16857)\n"
     ]
    }
   ],
   "source": [
    "## 2.  Numerical+ Categorical + (essay+ titles) tfidf\n",
    "\n",
    "X2 = hstack((categories_one_hot_5000,sub_categories_one_hot_5000,clean_grade_category_one_hot_5000,\n",
    "           teacher_prefix_one_hot_5000,school_state_one_hot_5000 , teacher_number_of_previously_posted_projects_standardized_5000,\n",
    "           price_standardized_5000.shape , text_tfidf_5000, titles_tfidf_5000))\n",
    "print('Shape of X2', X2.shape)"
   ]
  },
  {
   "cell_type": "code",
   "execution_count": 92,
   "metadata": {},
   "outputs": [
    {
     "name": "stdout",
     "output_type": "stream",
     "text": [
      "Shape of X3 (5000, 702)\n"
     ]
    }
   ],
   "source": [
    "## 3. Numerical+ Categorical + (essay+ titles) avg w2v\n",
    "\n",
    "X3 = hstack((categories_one_hot_5000,sub_categories_one_hot_5000,clean_grade_category_one_hot_5000,\n",
    "           teacher_prefix_one_hot_5000,school_state_one_hot_5000 , teacher_number_of_previously_posted_projects_standardized_5000,\n",
    "           price_standardized_5000.shape , text_avg_w2v_5000, titles_avg_w2v_5000))\n",
    "print('Shape of X3', X3.shape)\n",
    "\n"
   ]
  },
  {
   "cell_type": "code",
   "execution_count": 93,
   "metadata": {},
   "outputs": [
    {
     "name": "stdout",
     "output_type": "stream",
     "text": [
      "Shape of X4 (5000, 702)\n"
     ]
    }
   ],
   "source": [
    "## 4.  Numerical+ Categorical + (essay+ titles) tfidf w2v\n",
    "\n",
    "X4 = hstack((categories_one_hot_5000,sub_categories_one_hot_5000,clean_grade_category_one_hot_5000,\n",
    "           teacher_prefix_one_hot_5000,school_state_one_hot_5000 , teacher_number_of_previously_posted_projects_standardized_5000,\n",
    "           price_standardized_5000.shape , text_tfidf_w2v_5000, titles_tfidf_w2v_5000))\n",
    "print('Shape of X4', X4.shape)"
   ]
  },
  {
   "cell_type": "markdown",
   "metadata": {},
   "source": [
    "<h1><font color='red'>Assignment 2: Apply TSNE<font></h1>"
   ]
  },
  {
   "cell_type": "markdown",
   "metadata": {},
   "source": [
    "<h2> 2.1 TSNE with `BOW` encoding of 'project_title' + 'essay ' feature </h2>"
   ]
  },
  {
   "cell_type": "code",
   "execution_count": 96,
   "metadata": {},
   "outputs": [
    {
     "name": "stdout",
     "output_type": "stream",
     "text": [
      "(5000,)\n",
      "(5000, 1)\n",
      "Shape of X_embedding (5000, 2)\n"
     ]
    }
   ],
   "source": [
    "from sklearn.manifold import TSNE\n",
    "\n",
    "x = X1\n",
    "y=project['project_is_approved'][:5000]\n",
    "print(y.shape)\n",
    "Y= np.asarray(y)\n",
    "Y=Y.reshape(-1,1)\n",
    "print(Y.shape)\n",
    "\n",
    "tsne = TSNE(n_components=2, perplexity=30, learning_rate=200)\n",
    "\n",
    "X_embedding = tsne.fit_transform(x.toarray())\n",
    "# if x is a sparse matrix you need to pass it as X_embedding = tsne.fit_transform(x.toarray()) , .toarray() will convert the sparse matrix into dense matrix\n",
    "print('Shape of X_embedding',X_embedding.shape)\n",
    "\n"
   ]
  },
  {
   "cell_type": "code",
   "execution_count": 97,
   "metadata": {},
   "outputs": [
    {
     "data": {
      "image/png": "[encoded data removed]",
      "text/plain": [
       "<Figure size 540x432 with 1 Axes>"
      ]
     },
     "metadata": {},
     "output_type": "display_data"
    }
   ],
   "source": [
    "for_tsne = np.hstack((X_embedding, Y))\n",
    "for_tsne_df = pd.DataFrame( data = for_tsne, columns=['Dimension_x','Dimension_y','project_is_approved'])\n",
    "\n",
    "#ploting the result of tsne\n",
    "sns.FacetGrid(for_tsne_df, hue=\"project_is_approved\", size=6).map(mp.scatter, \"Dimension_x\",\"Dimension_y\").add_legend()\n",
    "mp.show()"
   ]
  },
  {
   "cell_type": "markdown",
   "metadata": {},
   "source": [
    "The clusters are overlapping so we can not draw any conclusions"
   ]
  },
  {
   "cell_type": "markdown",
   "metadata": {},
   "source": [
    "<h2> 2.2 TSNE with `TFIDF` encoding of 'project_title' + 'essay ' feature </h2>"
   ]
  },
  {
   "cell_type": "code",
   "execution_count": 98,
   "metadata": {},
   "outputs": [
    {
     "name": "stdout",
     "output_type": "stream",
     "text": [
      "(5000, 1)\n",
      "Shape of X_embedding (5000, 2)\n"
     ]
    },
    {
     "data": {
      "image/png": "[encoded data removed]",
      "text/plain": [
       "<Figure size 540x432 with 1 Axes>"
      ]
     },
     "metadata": {},
     "output_type": "display_data"
    }
   ],
   "source": [
    "from sklearn.manifold import TSNE\n",
    "\n",
    "x = X2\n",
    "y = project['project_is_approved'][:5000]\n",
    "y= y.values.reshape(-1,1)\n",
    "print(y.shape)\n",
    "\n",
    "# Reshaping:- https://stackoverflow.com/questions/53723928/attributeerror-series-object-has-no-attribute-reshape\n",
    "\n",
    "tsne = TSNE(n_components=2, perplexity=30, learning_rate=200)\n",
    "\n",
    "X_embedding = tsne.fit_transform(x.toarray())\n",
    "# if x is a sparse matrix you need to pass it as X_embedding = tsne.fit_transform(x.toarray()) , .toarray() will convert the sparse matrix into dense matrix\n",
    "print('Shape of X_embedding',X_embedding.shape)\n",
    "\n",
    "for_tsne = np.hstack((X_embedding, Y))\n",
    "for_tsne_df = pd.DataFrame( data = for_tsne, columns=['Dimension_x','Dimension_y','project_is_approved'])\n",
    "\n",
    "#ploting the result of tsne\n",
    "sns.FacetGrid(for_tsne_df, hue=\"project_is_approved\", size=6).map(mp.scatter, \"Dimension_x\",\"Dimension_y\").add_legend()\n",
    "mp.show()\n"
   ]
  },
  {
   "cell_type": "markdown",
   "metadata": {},
   "source": [
    "We cannot draw any conclusions as both are clusters are overlapping. Clearly approved points dominate, both approved and not-approved points are spread over the plot."
   ]
  },
  {
   "cell_type": "markdown",
   "metadata": {},
   "source": [
    "<h2> 2.3 TSNE with `Avg W2V` encoding of 'project_title' + 'essay ' feature </h2>"
   ]
  },
  {
   "cell_type": "code",
   "execution_count": 99,
   "metadata": {},
   "outputs": [
    {
     "name": "stdout",
     "output_type": "stream",
     "text": [
      "(5000, 1)\n",
      "Shape of X_embedding (5000, 2)\n"
     ]
    },
    {
     "data": {
      "image/png": "[encoded data removed]",
      "text/plain": [
       "<Figure size 540x432 with 1 Axes>"
      ]
     },
     "metadata": {},
     "output_type": "display_data"
    }
   ],
   "source": [
    "from sklearn.manifold import TSNE\n",
    "\n",
    "x = X3\n",
    "y = project['project_is_approved'][:5000]\n",
    "y= y.values.reshape(-1,1)\n",
    "print(y.shape)\n",
    "\n",
    "# Reshaping:- https://stackoverflow.com/questions/53723928/attributeerror-series-object-has-no-attribute-reshape\n",
    "\n",
    "tsne = TSNE(n_components=2, perplexity=30, learning_rate=200)\n",
    "\n",
    "X_embedding = tsne.fit_transform(x.toarray())\n",
    "# if x is a sparse matrix you need to pass it as X_embedding = tsne.fit_transform(x.toarray()) , .toarray() will convert the sparse matrix into dense matrix\n",
    "print('Shape of X_embedding',X_embedding.shape)\n",
    "\n",
    "for_tsne = np.hstack((X_embedding, Y))\n",
    "for_tsne_df = pd.DataFrame( data = for_tsne, columns=['Dimension_x','Dimension_y','project_is_approved'])\n",
    "\n",
    "#ploting the result of tsne\n",
    "sns.FacetGrid(for_tsne_df, hue=\"project_is_approved\", size=6).map(mp.scatter, \"Dimension_x\",\"Dimension_y\").add_legend()\n",
    "mp.show()\n"
   ]
  },
  {
   "cell_type": "markdown",
   "metadata": {},
   "source": [
    "Cannot draw any conclusions from the avg w2v plot."
   ]
  },
  {
   "cell_type": "markdown",
   "metadata": {},
   "source": [
    "<h2> 2.4 TSNE with `TFIDF W2V` encoding of 'project_title' + 'essay ' feature </h2>"
   ]
  },
  {
   "cell_type": "code",
   "execution_count": 100,
   "metadata": {},
   "outputs": [
    {
     "name": "stdout",
     "output_type": "stream",
     "text": [
      "(5000, 1)\n",
      "Shape of X_embedding (5000, 2)\n"
     ]
    },
    {
     "data": {
      "image/png": "[encoded data removed]",
      "text/plain": [
       "<Figure size 540x432 with 1 Axes>"
      ]
     },
     "metadata": {},
     "output_type": "display_data"
    }
   ],
   "source": [
    "from sklearn.manifold import TSNE\n",
    "\n",
    "x = X4\n",
    "y = project['project_is_approved'][:5000]\n",
    "y= y.values.reshape(-1,1)\n",
    "print(y.shape)\n",
    "\n",
    "# Reshaping:- https://stackoverflow.com/questions/53723928/attributeerror-series-object-has-no-attribute-reshape\n",
    "\n",
    "tsne = TSNE(n_components=2, perplexity=30, learning_rate=200)\n",
    "\n",
    "X_embedding = tsne.fit_transform(x.toarray())\n",
    "# if x is a sparse matrix you need to pass it as X_embedding = tsne.fit_transform(x.toarray()) , .toarray() will convert the sparse matrix into dense matrix\n",
    "print('Shape of X_embedding',X_embedding.shape)\n",
    "\n",
    "for_tsne = np.hstack((X_embedding, Y))\n",
    "for_tsne_df = pd.DataFrame( data = for_tsne, columns=['Dimension_x','Dimension_y','project_is_approved'])\n",
    "\n",
    "#ploting the result of tsne\n",
    "sns.FacetGrid(for_tsne_df, hue=\"project_is_approved\", size=6).map(mp.scatter, \"Dimension_x\",\"Dimension_y\").add_legend()\n",
    "mp.show()\n"
   ]
  },
  {
   "cell_type": "markdown",
   "metadata": {},
   "source": [
    "Points are not well clustered and approved and non-approved points overlap, due to which we cannot draw any conclusions."
   ]
  },
  {
   "cell_type": "code",
   "execution_count": null,
   "metadata": {},
   "outputs": [],
   "source": []
  }
 ],
 "metadata": {
  "kernelspec": {
   "display_name": "Python 3",
   "language": "python",
   "name": "python3"
  },
  "language_info": {
   "codemirror_mode": {
    "name": "ipython",
    "version": 3
   },
   "file_extension": ".py",
   "mimetype": "text/x-python",
   "name": "python",
   "nbconvert_exporter": "python",
   "pygments_lexer": "ipython3",
   "version": "3.6.5"
  }
 },
 "nbformat": 4,
 "nbformat_minor": 2
}
